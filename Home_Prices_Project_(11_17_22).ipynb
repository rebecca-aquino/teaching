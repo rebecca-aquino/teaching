{
  "nbformat": 4,
  "nbformat_minor": 0,
  "metadata": {
    "colab": {
      "provenance": [],
      "authorship_tag": "ABX9TyNGXcgavikx1sghFavkh9J6",
      "include_colab_link": true
    },
    "kernelspec": {
      "name": "python3",
      "display_name": "Python 3"
    },
    "language_info": {
      "name": "python"
    }
  },
  "cells": [
    {
      "cell_type": "markdown",
      "metadata": {
        "id": "view-in-github",
        "colab_type": "text"
      },
      "source": [
        "<a href=\"https://colab.research.google.com/github/rebecca-aquino/teaching/blob/main/Home_Prices_Project_(11_17_22).ipynb\" target=\"_parent\"><img src=\"https://colab.research.google.com/assets/colab-badge.svg\" alt=\"Open In Colab\"/></a>"
      ]
    },
    {
      "cell_type": "markdown",
      "source": [
        "#Housing Data Import "
      ],
      "metadata": {
        "id": "OcJIPydRQpWn"
      }
    },
    {
      "cell_type": "code",
      "source": [
        "import pandas as pd\n",
        "import numpy as np\n",
        "\n",
        "import matplotlib.pyplot as plt\n",
        "%matplotlib inline\n",
        "\n",
        "from sklearn.linear_model import LinearRegression\n",
        "from sklearn.metrics import mean_squared_error\n",
        "from sklearn import metrics\n",
        "from sklearn.model_selection import train_test_split\n",
        "from sklearn.preprocessing import PolynomialFeatures\n",
        "from sklearn.pipeline import Pipeline\n",
        "from sklearn.preprocessing import StandardScaler\n",
        "\n",
        "import statsmodels.api as sm\n",
        "\n",
        "import seaborn as sns\n",
        "%matplotlib inline "
      ],
      "metadata": {
        "id": "R089SWzaQtmM"
      },
      "execution_count": 300,
      "outputs": []
    },
    {
      "cell_type": "code",
      "source": [
        "house_data_path='https://raw.githubusercontent.com/data-doctors/kaggle-house-prices-advanced-regression-techniques/master/data/train.csv'\n",
        "df_house=pd.read_csv(house_data_path) # invoke Pandas and use read_csv() method passing in the parameter of the csv location, in this case a url address\n",
        "df_house.head(1) # Visually Inspect that it loaded correctly"
      ],
      "metadata": {
        "colab": {
          "base_uri": "https://localhost:8080/",
          "height": 174
        },
        "id": "S4S3iLxZQz4Z",
        "outputId": "fb560f29-5e33-43d1-9ac3-0f4d5d557c66"
      },
      "execution_count": 301,
      "outputs": [
        {
          "output_type": "execute_result",
          "data": {
            "text/plain": [
              "   Id  MSSubClass MSZoning  LotFrontage  LotArea Street Alley LotShape  \\\n",
              "0   1          60       RL         65.0     8450   Pave   NaN      Reg   \n",
              "\n",
              "  LandContour Utilities  ... PoolArea PoolQC Fence MiscFeature MiscVal MoSold  \\\n",
              "0         Lvl    AllPub  ...        0    NaN   NaN         NaN       0      2   \n",
              "\n",
              "  YrSold  SaleType  SaleCondition  SalePrice  \n",
              "0   2008        WD         Normal     208500  \n",
              "\n",
              "[1 rows x 81 columns]"
            ],
            "text/html": [
              "\n",
              "  <div id=\"df-6875d2d7-bb88-4ce0-8fa8-9ddddbcf9dbc\">\n",
              "    <div class=\"colab-df-container\">\n",
              "      <div>\n",
              "<style scoped>\n",
              "    .dataframe tbody tr th:only-of-type {\n",
              "        vertical-align: middle;\n",
              "    }\n",
              "\n",
              "    .dataframe tbody tr th {\n",
              "        vertical-align: top;\n",
              "    }\n",
              "\n",
              "    .dataframe thead th {\n",
              "        text-align: right;\n",
              "    }\n",
              "</style>\n",
              "<table border=\"1\" class=\"dataframe\">\n",
              "  <thead>\n",
              "    <tr style=\"text-align: right;\">\n",
              "      <th></th>\n",
              "      <th>Id</th>\n",
              "      <th>MSSubClass</th>\n",
              "      <th>MSZoning</th>\n",
              "      <th>LotFrontage</th>\n",
              "      <th>LotArea</th>\n",
              "      <th>Street</th>\n",
              "      <th>Alley</th>\n",
              "      <th>LotShape</th>\n",
              "      <th>LandContour</th>\n",
              "      <th>Utilities</th>\n",
              "      <th>...</th>\n",
              "      <th>PoolArea</th>\n",
              "      <th>PoolQC</th>\n",
              "      <th>Fence</th>\n",
              "      <th>MiscFeature</th>\n",
              "      <th>MiscVal</th>\n",
              "      <th>MoSold</th>\n",
              "      <th>YrSold</th>\n",
              "      <th>SaleType</th>\n",
              "      <th>SaleCondition</th>\n",
              "      <th>SalePrice</th>\n",
              "    </tr>\n",
              "  </thead>\n",
              "  <tbody>\n",
              "    <tr>\n",
              "      <th>0</th>\n",
              "      <td>1</td>\n",
              "      <td>60</td>\n",
              "      <td>RL</td>\n",
              "      <td>65.0</td>\n",
              "      <td>8450</td>\n",
              "      <td>Pave</td>\n",
              "      <td>NaN</td>\n",
              "      <td>Reg</td>\n",
              "      <td>Lvl</td>\n",
              "      <td>AllPub</td>\n",
              "      <td>...</td>\n",
              "      <td>0</td>\n",
              "      <td>NaN</td>\n",
              "      <td>NaN</td>\n",
              "      <td>NaN</td>\n",
              "      <td>0</td>\n",
              "      <td>2</td>\n",
              "      <td>2008</td>\n",
              "      <td>WD</td>\n",
              "      <td>Normal</td>\n",
              "      <td>208500</td>\n",
              "    </tr>\n",
              "  </tbody>\n",
              "</table>\n",
              "<p>1 rows × 81 columns</p>\n",
              "</div>\n",
              "      <button class=\"colab-df-convert\" onclick=\"convertToInteractive('df-6875d2d7-bb88-4ce0-8fa8-9ddddbcf9dbc')\"\n",
              "              title=\"Convert this dataframe to an interactive table.\"\n",
              "              style=\"display:none;\">\n",
              "        \n",
              "  <svg xmlns=\"http://www.w3.org/2000/svg\" height=\"24px\"viewBox=\"0 0 24 24\"\n",
              "       width=\"24px\">\n",
              "    <path d=\"M0 0h24v24H0V0z\" fill=\"none\"/>\n",
              "    <path d=\"M18.56 5.44l.94 2.06.94-2.06 2.06-.94-2.06-.94-.94-2.06-.94 2.06-2.06.94zm-11 1L8.5 8.5l.94-2.06 2.06-.94-2.06-.94L8.5 2.5l-.94 2.06-2.06.94zm10 10l.94 2.06.94-2.06 2.06-.94-2.06-.94-.94-2.06-.94 2.06-2.06.94z\"/><path d=\"M17.41 7.96l-1.37-1.37c-.4-.4-.92-.59-1.43-.59-.52 0-1.04.2-1.43.59L10.3 9.45l-7.72 7.72c-.78.78-.78 2.05 0 2.83L4 21.41c.39.39.9.59 1.41.59.51 0 1.02-.2 1.41-.59l7.78-7.78 2.81-2.81c.8-.78.8-2.07 0-2.86zM5.41 20L4 18.59l7.72-7.72 1.47 1.35L5.41 20z\"/>\n",
              "  </svg>\n",
              "      </button>\n",
              "      \n",
              "  <style>\n",
              "    .colab-df-container {\n",
              "      display:flex;\n",
              "      flex-wrap:wrap;\n",
              "      gap: 12px;\n",
              "    }\n",
              "\n",
              "    .colab-df-convert {\n",
              "      background-color: #E8F0FE;\n",
              "      border: none;\n",
              "      border-radius: 50%;\n",
              "      cursor: pointer;\n",
              "      display: none;\n",
              "      fill: #1967D2;\n",
              "      height: 32px;\n",
              "      padding: 0 0 0 0;\n",
              "      width: 32px;\n",
              "    }\n",
              "\n",
              "    .colab-df-convert:hover {\n",
              "      background-color: #E2EBFA;\n",
              "      box-shadow: 0px 1px 2px rgba(60, 64, 67, 0.3), 0px 1px 3px 1px rgba(60, 64, 67, 0.15);\n",
              "      fill: #174EA6;\n",
              "    }\n",
              "\n",
              "    [theme=dark] .colab-df-convert {\n",
              "      background-color: #3B4455;\n",
              "      fill: #D2E3FC;\n",
              "    }\n",
              "\n",
              "    [theme=dark] .colab-df-convert:hover {\n",
              "      background-color: #434B5C;\n",
              "      box-shadow: 0px 1px 3px 1px rgba(0, 0, 0, 0.15);\n",
              "      filter: drop-shadow(0px 1px 2px rgba(0, 0, 0, 0.3));\n",
              "      fill: #FFFFFF;\n",
              "    }\n",
              "  </style>\n",
              "\n",
              "      <script>\n",
              "        const buttonEl =\n",
              "          document.querySelector('#df-6875d2d7-bb88-4ce0-8fa8-9ddddbcf9dbc button.colab-df-convert');\n",
              "        buttonEl.style.display =\n",
              "          google.colab.kernel.accessAllowed ? 'block' : 'none';\n",
              "\n",
              "        async function convertToInteractive(key) {\n",
              "          const element = document.querySelector('#df-6875d2d7-bb88-4ce0-8fa8-9ddddbcf9dbc');\n",
              "          const dataTable =\n",
              "            await google.colab.kernel.invokeFunction('convertToInteractive',\n",
              "                                                     [key], {});\n",
              "          if (!dataTable) return;\n",
              "\n",
              "          const docLinkHtml = 'Like what you see? Visit the ' +\n",
              "            '<a target=\"_blank\" href=https://colab.research.google.com/notebooks/data_table.ipynb>data table notebook</a>'\n",
              "            + ' to learn more about interactive tables.';\n",
              "          element.innerHTML = '';\n",
              "          dataTable['output_type'] = 'display_data';\n",
              "          await google.colab.output.renderOutput(dataTable, element);\n",
              "          const docLink = document.createElement('div');\n",
              "          docLink.innerHTML = docLinkHtml;\n",
              "          element.appendChild(docLink);\n",
              "        }\n",
              "      </script>\n",
              "    </div>\n",
              "  </div>\n",
              "  "
            ]
          },
          "metadata": {},
          "execution_count": 301
        }
      ]
    },
    {
      "cell_type": "code",
      "source": [
        "df_house.info()"
      ],
      "metadata": {
        "colab": {
          "base_uri": "https://localhost:8080/"
        },
        "id": "XStu7PcFtNXV",
        "outputId": "f69e8104-db36-4573-9182-5c9892c262fb"
      },
      "execution_count": 217,
      "outputs": [
        {
          "output_type": "stream",
          "name": "stdout",
          "text": [
            "<class 'pandas.core.frame.DataFrame'>\n",
            "RangeIndex: 1460 entries, 0 to 1459\n",
            "Data columns (total 81 columns):\n",
            " #   Column         Non-Null Count  Dtype  \n",
            "---  ------         --------------  -----  \n",
            " 0   Id             1460 non-null   int64  \n",
            " 1   MSSubClass     1460 non-null   int64  \n",
            " 2   MSZoning       1460 non-null   object \n",
            " 3   LotFrontage    1201 non-null   float64\n",
            " 4   LotArea        1460 non-null   int64  \n",
            " 5   Street         1460 non-null   object \n",
            " 6   Alley          91 non-null     object \n",
            " 7   LotShape       1460 non-null   object \n",
            " 8   LandContour    1460 non-null   object \n",
            " 9   Utilities      1460 non-null   object \n",
            " 10  LotConfig      1460 non-null   object \n",
            " 11  LandSlope      1460 non-null   object \n",
            " 12  Neighborhood   1460 non-null   object \n",
            " 13  Condition1     1460 non-null   object \n",
            " 14  Condition2     1460 non-null   object \n",
            " 15  BldgType       1460 non-null   object \n",
            " 16  HouseStyle     1460 non-null   object \n",
            " 17  OverallQual    1460 non-null   int64  \n",
            " 18  OverallCond    1460 non-null   int64  \n",
            " 19  YearBuilt      1460 non-null   int64  \n",
            " 20  YearRemodAdd   1460 non-null   int64  \n",
            " 21  RoofStyle      1460 non-null   object \n",
            " 22  RoofMatl       1460 non-null   object \n",
            " 23  Exterior1st    1460 non-null   object \n",
            " 24  Exterior2nd    1460 non-null   object \n",
            " 25  MasVnrType     1452 non-null   object \n",
            " 26  MasVnrArea     1452 non-null   float64\n",
            " 27  ExterQual      1460 non-null   object \n",
            " 28  ExterCond      1460 non-null   object \n",
            " 29  Foundation     1460 non-null   object \n",
            " 30  BsmtQual       1423 non-null   object \n",
            " 31  BsmtCond       1423 non-null   object \n",
            " 32  BsmtExposure   1422 non-null   object \n",
            " 33  BsmtFinType1   1423 non-null   object \n",
            " 34  BsmtFinSF1     1460 non-null   int64  \n",
            " 35  BsmtFinType2   1422 non-null   object \n",
            " 36  BsmtFinSF2     1460 non-null   int64  \n",
            " 37  BsmtUnfSF      1460 non-null   int64  \n",
            " 38  TotalBsmtSF    1460 non-null   int64  \n",
            " 39  Heating        1460 non-null   object \n",
            " 40  HeatingQC      1460 non-null   object \n",
            " 41  CentralAir     1460 non-null   object \n",
            " 42  Electrical     1459 non-null   object \n",
            " 43  1stFlrSF       1460 non-null   int64  \n",
            " 44  2ndFlrSF       1460 non-null   int64  \n",
            " 45  LowQualFinSF   1460 non-null   int64  \n",
            " 46  GrLivArea      1460 non-null   int64  \n",
            " 47  BsmtFullBath   1460 non-null   int64  \n",
            " 48  BsmtHalfBath   1460 non-null   int64  \n",
            " 49  FullBath       1460 non-null   int64  \n",
            " 50  HalfBath       1460 non-null   int64  \n",
            " 51  BedroomAbvGr   1460 non-null   int64  \n",
            " 52  KitchenAbvGr   1460 non-null   int64  \n",
            " 53  KitchenQual    1460 non-null   object \n",
            " 54  TotRmsAbvGrd   1460 non-null   int64  \n",
            " 55  Functional     1460 non-null   object \n",
            " 56  Fireplaces     1460 non-null   int64  \n",
            " 57  FireplaceQu    770 non-null    object \n",
            " 58  GarageType     1379 non-null   object \n",
            " 59  GarageYrBlt    1379 non-null   float64\n",
            " 60  GarageFinish   1379 non-null   object \n",
            " 61  GarageCars     1460 non-null   int64  \n",
            " 62  GarageArea     1460 non-null   int64  \n",
            " 63  GarageQual     1379 non-null   object \n",
            " 64  GarageCond     1379 non-null   object \n",
            " 65  PavedDrive     1460 non-null   object \n",
            " 66  WoodDeckSF     1460 non-null   int64  \n",
            " 67  OpenPorchSF    1460 non-null   int64  \n",
            " 68  EnclosedPorch  1460 non-null   int64  \n",
            " 69  3SsnPorch      1460 non-null   int64  \n",
            " 70  ScreenPorch    1460 non-null   int64  \n",
            " 71  PoolArea       1460 non-null   int64  \n",
            " 72  PoolQC         7 non-null      object \n",
            " 73  Fence          281 non-null    object \n",
            " 74  MiscFeature    54 non-null     object \n",
            " 75  MiscVal        1460 non-null   int64  \n",
            " 76  MoSold         1460 non-null   int64  \n",
            " 77  YrSold         1460 non-null   int64  \n",
            " 78  SaleType       1460 non-null   object \n",
            " 79  SaleCondition  1460 non-null   object \n",
            " 80  SalePrice      1460 non-null   int64  \n",
            "dtypes: float64(3), int64(35), object(43)\n",
            "memory usage: 924.0+ KB\n"
          ]
        }
      ]
    },
    {
      "cell_type": "code",
      "source": [
        "df_house['RoofStyle'].value_counts()"
      ],
      "metadata": {
        "colab": {
          "base_uri": "https://localhost:8080/"
        },
        "id": "g28IrQ78KN0U",
        "outputId": "dd3e0ba3-5e85-4a3c-ffd0-f3359ca9261d"
      },
      "execution_count": 218,
      "outputs": [
        {
          "output_type": "execute_result",
          "data": {
            "text/plain": [
              "Gable      1141\n",
              "Hip         286\n",
              "Flat         13\n",
              "Gambrel      11\n",
              "Mansard       7\n",
              "Shed          2\n",
              "Name: RoofStyle, dtype: int64"
            ]
          },
          "metadata": {},
          "execution_count": 218
        }
      ]
    },
    {
      "cell_type": "code",
      "source": [
        "df_house.corr()"
      ],
      "metadata": {
        "colab": {
          "base_uri": "https://localhost:8080/",
          "height": 1000
        },
        "id": "NZHzOTy-Q2AD",
        "outputId": "11b40bfe-adaf-449e-918d-cf33cb3a5b8c"
      },
      "execution_count": 219,
      "outputs": [
        {
          "output_type": "execute_result",
          "data": {
            "text/plain": [
              "                     Id  MSSubClass  LotFrontage   LotArea  OverallQual  \\\n",
              "Id             1.000000    0.011156    -0.010601 -0.033226    -0.028365   \n",
              "MSSubClass     0.011156    1.000000    -0.386347 -0.139781     0.032628   \n",
              "LotFrontage   -0.010601   -0.386347     1.000000  0.426095     0.251646   \n",
              "LotArea       -0.033226   -0.139781     0.426095  1.000000     0.105806   \n",
              "OverallQual   -0.028365    0.032628     0.251646  0.105806     1.000000   \n",
              "OverallCond    0.012609   -0.059316    -0.059213 -0.005636    -0.091932   \n",
              "YearBuilt     -0.012713    0.027850     0.123349  0.014228     0.572323   \n",
              "YearRemodAdd  -0.021998    0.040581     0.088866  0.013788     0.550684   \n",
              "MasVnrArea    -0.050298    0.022936     0.193458  0.104160     0.411876   \n",
              "BsmtFinSF1    -0.005024   -0.069836     0.233633  0.214103     0.239666   \n",
              "BsmtFinSF2    -0.005968   -0.065649     0.049900  0.111170    -0.059119   \n",
              "BsmtUnfSF     -0.007940   -0.140759     0.132644 -0.002618     0.308159   \n",
              "TotalBsmtSF   -0.015415   -0.238518     0.392075  0.260833     0.537808   \n",
              "1stFlrSF       0.010496   -0.251758     0.457181  0.299475     0.476224   \n",
              "2ndFlrSF       0.005590    0.307886     0.080177  0.050986     0.295493   \n",
              "LowQualFinSF  -0.044230    0.046474     0.038469  0.004779    -0.030429   \n",
              "GrLivArea      0.008273    0.074853     0.402797  0.263116     0.593007   \n",
              "BsmtFullBath   0.002289    0.003491     0.100949  0.158155     0.111098   \n",
              "BsmtHalfBath  -0.020155   -0.002333    -0.007234  0.048046    -0.040150   \n",
              "FullBath       0.005587    0.131608     0.198769  0.126031     0.550600   \n",
              "HalfBath       0.006784    0.177354     0.053532  0.014259     0.273458   \n",
              "BedroomAbvGr   0.037719   -0.023438     0.263170  0.119690     0.101676   \n",
              "KitchenAbvGr   0.002951    0.281721    -0.006069 -0.017784    -0.183882   \n",
              "TotRmsAbvGrd   0.027239    0.040380     0.352096  0.190015     0.427452   \n",
              "Fireplaces    -0.019772   -0.045569     0.266639  0.271364     0.396765   \n",
              "GarageYrBlt    0.000072    0.085072     0.070250 -0.024947     0.547766   \n",
              "GarageCars     0.016570   -0.040110     0.285691  0.154871     0.600671   \n",
              "GarageArea     0.017634   -0.098672     0.344997  0.180403     0.562022   \n",
              "WoodDeckSF    -0.029643   -0.012579     0.088521  0.171698     0.238923   \n",
              "OpenPorchSF   -0.000477   -0.006100     0.151972  0.084774     0.308819   \n",
              "EnclosedPorch  0.002889   -0.012037     0.010700 -0.018340    -0.113937   \n",
              "3SsnPorch     -0.046635   -0.043825     0.070029  0.020423     0.030371   \n",
              "ScreenPorch    0.001330   -0.026030     0.041383  0.043160     0.064886   \n",
              "PoolArea       0.057044    0.008283     0.206167  0.077672     0.065166   \n",
              "MiscVal       -0.006242   -0.007683     0.003368  0.038068    -0.031406   \n",
              "MoSold         0.021172   -0.013585     0.011200  0.001205     0.070815   \n",
              "YrSold         0.000712   -0.021407     0.007450 -0.014261    -0.027347   \n",
              "SalePrice     -0.021917   -0.084284     0.351799  0.263843     0.790982   \n",
              "\n",
              "               OverallCond  YearBuilt  YearRemodAdd  MasVnrArea  BsmtFinSF1  \\\n",
              "Id                0.012609  -0.012713     -0.021998   -0.050298   -0.005024   \n",
              "MSSubClass       -0.059316   0.027850      0.040581    0.022936   -0.069836   \n",
              "LotFrontage      -0.059213   0.123349      0.088866    0.193458    0.233633   \n",
              "LotArea          -0.005636   0.014228      0.013788    0.104160    0.214103   \n",
              "OverallQual      -0.091932   0.572323      0.550684    0.411876    0.239666   \n",
              "OverallCond       1.000000  -0.375983      0.073741   -0.128101   -0.046231   \n",
              "YearBuilt        -0.375983   1.000000      0.592855    0.315707    0.249503   \n",
              "YearRemodAdd      0.073741   0.592855      1.000000    0.179618    0.128451   \n",
              "MasVnrArea       -0.128101   0.315707      0.179618    1.000000    0.264736   \n",
              "BsmtFinSF1       -0.046231   0.249503      0.128451    0.264736    1.000000   \n",
              "BsmtFinSF2        0.040229  -0.049107     -0.067759   -0.072319   -0.050117   \n",
              "BsmtUnfSF        -0.136841   0.149040      0.181133    0.114442   -0.495251   \n",
              "TotalBsmtSF      -0.171098   0.391452      0.291066    0.363936    0.522396   \n",
              "1stFlrSF         -0.144203   0.281986      0.240379    0.344501    0.445863   \n",
              "2ndFlrSF          0.028942   0.010308      0.140024    0.174561   -0.137079   \n",
              "LowQualFinSF      0.025494  -0.183784     -0.062419   -0.069071   -0.064503   \n",
              "GrLivArea        -0.079686   0.199010      0.287389    0.390857    0.208171   \n",
              "BsmtFullBath     -0.054942   0.187599      0.119470    0.085310    0.649212   \n",
              "BsmtHalfBath      0.117821  -0.038162     -0.012337    0.026673    0.067418   \n",
              "FullBath         -0.194149   0.468271      0.439046    0.276833    0.058543   \n",
              "HalfBath         -0.060769   0.242656      0.183331    0.201444    0.004262   \n",
              "BedroomAbvGr      0.012980  -0.070651     -0.040581    0.102821   -0.107355   \n",
              "KitchenAbvGr     -0.087001  -0.174800     -0.149598   -0.037610   -0.081007   \n",
              "TotRmsAbvGrd     -0.057583   0.095589      0.191740    0.280682    0.044316   \n",
              "Fireplaces       -0.023820   0.147716      0.112581    0.249070    0.260011   \n",
              "GarageYrBlt      -0.324297   0.825667      0.642277    0.252691    0.153484   \n",
              "GarageCars       -0.185758   0.537850      0.420622    0.364204    0.224054   \n",
              "GarageArea       -0.151521   0.478954      0.371600    0.373066    0.296970   \n",
              "WoodDeckSF       -0.003334   0.224880      0.205726    0.159718    0.204306   \n",
              "OpenPorchSF      -0.032589   0.188686      0.226298    0.125703    0.111761   \n",
              "EnclosedPorch     0.070356  -0.387268     -0.193919   -0.110204   -0.102303   \n",
              "3SsnPorch         0.025504   0.031355      0.045286    0.018796    0.026451   \n",
              "ScreenPorch       0.054811  -0.050364     -0.038740    0.061466    0.062021   \n",
              "PoolArea         -0.001985   0.004950      0.005829    0.011723    0.140491   \n",
              "MiscVal           0.068777  -0.034383     -0.010286   -0.029815    0.003571   \n",
              "MoSold           -0.003511   0.012398      0.021490   -0.005965   -0.015727   \n",
              "YrSold            0.043950  -0.013618      0.035743   -0.008201    0.014359   \n",
              "SalePrice        -0.077856   0.522897      0.507101    0.477493    0.386420   \n",
              "\n",
              "               ...  WoodDeckSF  OpenPorchSF  EnclosedPorch  3SsnPorch  \\\n",
              "Id             ...   -0.029643    -0.000477       0.002889  -0.046635   \n",
              "MSSubClass     ...   -0.012579    -0.006100      -0.012037  -0.043825   \n",
              "LotFrontage    ...    0.088521     0.151972       0.010700   0.070029   \n",
              "LotArea        ...    0.171698     0.084774      -0.018340   0.020423   \n",
              "OverallQual    ...    0.238923     0.308819      -0.113937   0.030371   \n",
              "OverallCond    ...   -0.003334    -0.032589       0.070356   0.025504   \n",
              "YearBuilt      ...    0.224880     0.188686      -0.387268   0.031355   \n",
              "YearRemodAdd   ...    0.205726     0.226298      -0.193919   0.045286   \n",
              "MasVnrArea     ...    0.159718     0.125703      -0.110204   0.018796   \n",
              "BsmtFinSF1     ...    0.204306     0.111761      -0.102303   0.026451   \n",
              "BsmtFinSF2     ...    0.067898     0.003093       0.036543  -0.029993   \n",
              "BsmtUnfSF      ...   -0.005316     0.129005      -0.002538   0.020764   \n",
              "TotalBsmtSF    ...    0.232019     0.247264      -0.095478   0.037384   \n",
              "1stFlrSF       ...    0.235459     0.211671      -0.065292   0.056104   \n",
              "2ndFlrSF       ...    0.092165     0.208026       0.061989  -0.024358   \n",
              "LowQualFinSF   ...   -0.025444     0.018251       0.061081  -0.004296   \n",
              "GrLivArea      ...    0.247433     0.330224       0.009113   0.020643   \n",
              "BsmtFullBath   ...    0.175315     0.067341      -0.049911  -0.000106   \n",
              "BsmtHalfBath   ...    0.040161    -0.025324      -0.008555   0.035114   \n",
              "FullBath       ...    0.187703     0.259977      -0.115093   0.035353   \n",
              "HalfBath       ...    0.108080     0.199740      -0.095317  -0.004972   \n",
              "BedroomAbvGr   ...    0.046854     0.093810       0.041570  -0.024478   \n",
              "KitchenAbvGr   ...   -0.090130    -0.070091       0.037312  -0.024600   \n",
              "TotRmsAbvGrd   ...    0.165984     0.234192       0.004151  -0.006683   \n",
              "Fireplaces     ...    0.200019     0.169405      -0.024822   0.011257   \n",
              "GarageYrBlt    ...    0.224577     0.228425      -0.297003   0.023544   \n",
              "GarageCars     ...    0.226342     0.213569      -0.151434   0.035765   \n",
              "GarageArea     ...    0.224666     0.241435      -0.121777   0.035087   \n",
              "WoodDeckSF     ...    1.000000     0.058661      -0.125989  -0.032771   \n",
              "OpenPorchSF    ...    0.058661     1.000000      -0.093079  -0.005842   \n",
              "EnclosedPorch  ...   -0.125989    -0.093079       1.000000  -0.037305   \n",
              "3SsnPorch      ...   -0.032771    -0.005842      -0.037305   1.000000   \n",
              "ScreenPorch    ...   -0.074181     0.074304      -0.082864  -0.031436   \n",
              "PoolArea       ...    0.073378     0.060762       0.054203  -0.007992   \n",
              "MiscVal        ...   -0.009551    -0.018584       0.018361   0.000354   \n",
              "MoSold         ...    0.021011     0.071255      -0.028887   0.029474   \n",
              "YrSold         ...    0.022270    -0.057619      -0.009916   0.018645   \n",
              "SalePrice      ...    0.324413     0.315856      -0.128578   0.044584   \n",
              "\n",
              "               ScreenPorch  PoolArea   MiscVal    MoSold    YrSold  SalePrice  \n",
              "Id                0.001330  0.057044 -0.006242  0.021172  0.000712  -0.021917  \n",
              "MSSubClass       -0.026030  0.008283 -0.007683 -0.013585 -0.021407  -0.084284  \n",
              "LotFrontage       0.041383  0.206167  0.003368  0.011200  0.007450   0.351799  \n",
              "LotArea           0.043160  0.077672  0.038068  0.001205 -0.014261   0.263843  \n",
              "OverallQual       0.064886  0.065166 -0.031406  0.070815 -0.027347   0.790982  \n",
              "OverallCond       0.054811 -0.001985  0.068777 -0.003511  0.043950  -0.077856  \n",
              "YearBuilt        -0.050364  0.004950 -0.034383  0.012398 -0.013618   0.522897  \n",
              "YearRemodAdd     -0.038740  0.005829 -0.010286  0.021490  0.035743   0.507101  \n",
              "MasVnrArea        0.061466  0.011723 -0.029815 -0.005965 -0.008201   0.477493  \n",
              "BsmtFinSF1        0.062021  0.140491  0.003571 -0.015727  0.014359   0.386420  \n",
              "BsmtFinSF2        0.088871  0.041709  0.004940 -0.015211  0.031706  -0.011378  \n",
              "BsmtUnfSF        -0.012579 -0.035092 -0.023837  0.034888 -0.041258   0.214479  \n",
              "TotalBsmtSF       0.084489  0.126053 -0.018479  0.013196 -0.014969   0.613581  \n",
              "1stFlrSF          0.088758  0.131525 -0.021096  0.031372 -0.013604   0.605852  \n",
              "2ndFlrSF          0.040606  0.081487  0.016197  0.035164 -0.028700   0.319334  \n",
              "LowQualFinSF      0.026799  0.062157 -0.003793 -0.022174 -0.028921  -0.025606  \n",
              "GrLivArea         0.101510  0.170205 -0.002416  0.050240 -0.036526   0.708624  \n",
              "BsmtFullBath      0.023148  0.067616 -0.023047 -0.025361  0.067049   0.227122  \n",
              "BsmtHalfBath      0.032121  0.020025 -0.007367  0.032873 -0.046524  -0.016844  \n",
              "FullBath         -0.008106  0.049604 -0.014290  0.055872 -0.019669   0.560664  \n",
              "HalfBath          0.072426  0.022381  0.001290 -0.009050 -0.010269   0.284108  \n",
              "BedroomAbvGr      0.044300  0.070703  0.007767  0.046544 -0.036014   0.168213  \n",
              "KitchenAbvGr     -0.051613 -0.014525  0.062341  0.026589  0.031687  -0.135907  \n",
              "TotRmsAbvGrd      0.059383  0.083757  0.024763  0.036907 -0.034516   0.533723  \n",
              "Fireplaces        0.184530  0.095074  0.001409  0.046357 -0.024096   0.466929  \n",
              "GarageYrBlt      -0.075418 -0.014501 -0.032417  0.005337 -0.001014   0.486362  \n",
              "GarageCars        0.050494  0.020934 -0.043080  0.040522 -0.039117   0.640409  \n",
              "GarageArea        0.051412  0.061047 -0.027400  0.027974 -0.027378   0.623431  \n",
              "WoodDeckSF       -0.074181  0.073378 -0.009551  0.021011  0.022270   0.324413  \n",
              "OpenPorchSF       0.074304  0.060762 -0.018584  0.071255 -0.057619   0.315856  \n",
              "EnclosedPorch    -0.082864  0.054203  0.018361 -0.028887 -0.009916  -0.128578  \n",
              "3SsnPorch        -0.031436 -0.007992  0.000354  0.029474  0.018645   0.044584  \n",
              "ScreenPorch       1.000000  0.051307  0.031946  0.023217  0.010694   0.111447  \n",
              "PoolArea          0.051307  1.000000  0.029669 -0.033737 -0.059689   0.092404  \n",
              "MiscVal           0.031946  0.029669  1.000000 -0.006495  0.004906  -0.021190  \n",
              "MoSold            0.023217 -0.033737 -0.006495  1.000000 -0.145721   0.046432  \n",
              "YrSold            0.010694 -0.059689  0.004906 -0.145721  1.000000  -0.028923  \n",
              "SalePrice         0.111447  0.092404 -0.021190  0.046432 -0.028923   1.000000  \n",
              "\n",
              "[38 rows x 38 columns]"
            ],
            "text/html": [
              "\n",
              "  <div id=\"df-bcfcbfdd-1613-452d-b237-ba644cdbdf5f\">\n",
              "    <div class=\"colab-df-container\">\n",
              "      <div>\n",
              "<style scoped>\n",
              "    .dataframe tbody tr th:only-of-type {\n",
              "        vertical-align: middle;\n",
              "    }\n",
              "\n",
              "    .dataframe tbody tr th {\n",
              "        vertical-align: top;\n",
              "    }\n",
              "\n",
              "    .dataframe thead th {\n",
              "        text-align: right;\n",
              "    }\n",
              "</style>\n",
              "<table border=\"1\" class=\"dataframe\">\n",
              "  <thead>\n",
              "    <tr style=\"text-align: right;\">\n",
              "      <th></th>\n",
              "      <th>Id</th>\n",
              "      <th>MSSubClass</th>\n",
              "      <th>LotFrontage</th>\n",
              "      <th>LotArea</th>\n",
              "      <th>OverallQual</th>\n",
              "      <th>OverallCond</th>\n",
              "      <th>YearBuilt</th>\n",
              "      <th>YearRemodAdd</th>\n",
              "      <th>MasVnrArea</th>\n",
              "      <th>BsmtFinSF1</th>\n",
              "      <th>...</th>\n",
              "      <th>WoodDeckSF</th>\n",
              "      <th>OpenPorchSF</th>\n",
              "      <th>EnclosedPorch</th>\n",
              "      <th>3SsnPorch</th>\n",
              "      <th>ScreenPorch</th>\n",
              "      <th>PoolArea</th>\n",
              "      <th>MiscVal</th>\n",
              "      <th>MoSold</th>\n",
              "      <th>YrSold</th>\n",
              "      <th>SalePrice</th>\n",
              "    </tr>\n",
              "  </thead>\n",
              "  <tbody>\n",
              "    <tr>\n",
              "      <th>Id</th>\n",
              "      <td>1.000000</td>\n",
              "      <td>0.011156</td>\n",
              "      <td>-0.010601</td>\n",
              "      <td>-0.033226</td>\n",
              "      <td>-0.028365</td>\n",
              "      <td>0.012609</td>\n",
              "      <td>-0.012713</td>\n",
              "      <td>-0.021998</td>\n",
              "      <td>-0.050298</td>\n",
              "      <td>-0.005024</td>\n",
              "      <td>...</td>\n",
              "      <td>-0.029643</td>\n",
              "      <td>-0.000477</td>\n",
              "      <td>0.002889</td>\n",
              "      <td>-0.046635</td>\n",
              "      <td>0.001330</td>\n",
              "      <td>0.057044</td>\n",
              "      <td>-0.006242</td>\n",
              "      <td>0.021172</td>\n",
              "      <td>0.000712</td>\n",
              "      <td>-0.021917</td>\n",
              "    </tr>\n",
              "    <tr>\n",
              "      <th>MSSubClass</th>\n",
              "      <td>0.011156</td>\n",
              "      <td>1.000000</td>\n",
              "      <td>-0.386347</td>\n",
              "      <td>-0.139781</td>\n",
              "      <td>0.032628</td>\n",
              "      <td>-0.059316</td>\n",
              "      <td>0.027850</td>\n",
              "      <td>0.040581</td>\n",
              "      <td>0.022936</td>\n",
              "      <td>-0.069836</td>\n",
              "      <td>...</td>\n",
              "      <td>-0.012579</td>\n",
              "      <td>-0.006100</td>\n",
              "      <td>-0.012037</td>\n",
              "      <td>-0.043825</td>\n",
              "      <td>-0.026030</td>\n",
              "      <td>0.008283</td>\n",
              "      <td>-0.007683</td>\n",
              "      <td>-0.013585</td>\n",
              "      <td>-0.021407</td>\n",
              "      <td>-0.084284</td>\n",
              "    </tr>\n",
              "    <tr>\n",
              "      <th>LotFrontage</th>\n",
              "      <td>-0.010601</td>\n",
              "      <td>-0.386347</td>\n",
              "      <td>1.000000</td>\n",
              "      <td>0.426095</td>\n",
              "      <td>0.251646</td>\n",
              "      <td>-0.059213</td>\n",
              "      <td>0.123349</td>\n",
              "      <td>0.088866</td>\n",
              "      <td>0.193458</td>\n",
              "      <td>0.233633</td>\n",
              "      <td>...</td>\n",
              "      <td>0.088521</td>\n",
              "      <td>0.151972</td>\n",
              "      <td>0.010700</td>\n",
              "      <td>0.070029</td>\n",
              "      <td>0.041383</td>\n",
              "      <td>0.206167</td>\n",
              "      <td>0.003368</td>\n",
              "      <td>0.011200</td>\n",
              "      <td>0.007450</td>\n",
              "      <td>0.351799</td>\n",
              "    </tr>\n",
              "    <tr>\n",
              "      <th>LotArea</th>\n",
              "      <td>-0.033226</td>\n",
              "      <td>-0.139781</td>\n",
              "      <td>0.426095</td>\n",
              "      <td>1.000000</td>\n",
              "      <td>0.105806</td>\n",
              "      <td>-0.005636</td>\n",
              "      <td>0.014228</td>\n",
              "      <td>0.013788</td>\n",
              "      <td>0.104160</td>\n",
              "      <td>0.214103</td>\n",
              "      <td>...</td>\n",
              "      <td>0.171698</td>\n",
              "      <td>0.084774</td>\n",
              "      <td>-0.018340</td>\n",
              "      <td>0.020423</td>\n",
              "      <td>0.043160</td>\n",
              "      <td>0.077672</td>\n",
              "      <td>0.038068</td>\n",
              "      <td>0.001205</td>\n",
              "      <td>-0.014261</td>\n",
              "      <td>0.263843</td>\n",
              "    </tr>\n",
              "    <tr>\n",
              "      <th>OverallQual</th>\n",
              "      <td>-0.028365</td>\n",
              "      <td>0.032628</td>\n",
              "      <td>0.251646</td>\n",
              "      <td>0.105806</td>\n",
              "      <td>1.000000</td>\n",
              "      <td>-0.091932</td>\n",
              "      <td>0.572323</td>\n",
              "      <td>0.550684</td>\n",
              "      <td>0.411876</td>\n",
              "      <td>0.239666</td>\n",
              "      <td>...</td>\n",
              "      <td>0.238923</td>\n",
              "      <td>0.308819</td>\n",
              "      <td>-0.113937</td>\n",
              "      <td>0.030371</td>\n",
              "      <td>0.064886</td>\n",
              "      <td>0.065166</td>\n",
              "      <td>-0.031406</td>\n",
              "      <td>0.070815</td>\n",
              "      <td>-0.027347</td>\n",
              "      <td>0.790982</td>\n",
              "    </tr>\n",
              "    <tr>\n",
              "      <th>OverallCond</th>\n",
              "      <td>0.012609</td>\n",
              "      <td>-0.059316</td>\n",
              "      <td>-0.059213</td>\n",
              "      <td>-0.005636</td>\n",
              "      <td>-0.091932</td>\n",
              "      <td>1.000000</td>\n",
              "      <td>-0.375983</td>\n",
              "      <td>0.073741</td>\n",
              "      <td>-0.128101</td>\n",
              "      <td>-0.046231</td>\n",
              "      <td>...</td>\n",
              "      <td>-0.003334</td>\n",
              "      <td>-0.032589</td>\n",
              "      <td>0.070356</td>\n",
              "      <td>0.025504</td>\n",
              "      <td>0.054811</td>\n",
              "      <td>-0.001985</td>\n",
              "      <td>0.068777</td>\n",
              "      <td>-0.003511</td>\n",
              "      <td>0.043950</td>\n",
              "      <td>-0.077856</td>\n",
              "    </tr>\n",
              "    <tr>\n",
              "      <th>YearBuilt</th>\n",
              "      <td>-0.012713</td>\n",
              "      <td>0.027850</td>\n",
              "      <td>0.123349</td>\n",
              "      <td>0.014228</td>\n",
              "      <td>0.572323</td>\n",
              "      <td>-0.375983</td>\n",
              "      <td>1.000000</td>\n",
              "      <td>0.592855</td>\n",
              "      <td>0.315707</td>\n",
              "      <td>0.249503</td>\n",
              "      <td>...</td>\n",
              "      <td>0.224880</td>\n",
              "      <td>0.188686</td>\n",
              "      <td>-0.387268</td>\n",
              "      <td>0.031355</td>\n",
              "      <td>-0.050364</td>\n",
              "      <td>0.004950</td>\n",
              "      <td>-0.034383</td>\n",
              "      <td>0.012398</td>\n",
              "      <td>-0.013618</td>\n",
              "      <td>0.522897</td>\n",
              "    </tr>\n",
              "    <tr>\n",
              "      <th>YearRemodAdd</th>\n",
              "      <td>-0.021998</td>\n",
              "      <td>0.040581</td>\n",
              "      <td>0.088866</td>\n",
              "      <td>0.013788</td>\n",
              "      <td>0.550684</td>\n",
              "      <td>0.073741</td>\n",
              "      <td>0.592855</td>\n",
              "      <td>1.000000</td>\n",
              "      <td>0.179618</td>\n",
              "      <td>0.128451</td>\n",
              "      <td>...</td>\n",
              "      <td>0.205726</td>\n",
              "      <td>0.226298</td>\n",
              "      <td>-0.193919</td>\n",
              "      <td>0.045286</td>\n",
              "      <td>-0.038740</td>\n",
              "      <td>0.005829</td>\n",
              "      <td>-0.010286</td>\n",
              "      <td>0.021490</td>\n",
              "      <td>0.035743</td>\n",
              "      <td>0.507101</td>\n",
              "    </tr>\n",
              "    <tr>\n",
              "      <th>MasVnrArea</th>\n",
              "      <td>-0.050298</td>\n",
              "      <td>0.022936</td>\n",
              "      <td>0.193458</td>\n",
              "      <td>0.104160</td>\n",
              "      <td>0.411876</td>\n",
              "      <td>-0.128101</td>\n",
              "      <td>0.315707</td>\n",
              "      <td>0.179618</td>\n",
              "      <td>1.000000</td>\n",
              "      <td>0.264736</td>\n",
              "      <td>...</td>\n",
              "      <td>0.159718</td>\n",
              "      <td>0.125703</td>\n",
              "      <td>-0.110204</td>\n",
              "      <td>0.018796</td>\n",
              "      <td>0.061466</td>\n",
              "      <td>0.011723</td>\n",
              "      <td>-0.029815</td>\n",
              "      <td>-0.005965</td>\n",
              "      <td>-0.008201</td>\n",
              "      <td>0.477493</td>\n",
              "    </tr>\n",
              "    <tr>\n",
              "      <th>BsmtFinSF1</th>\n",
              "      <td>-0.005024</td>\n",
              "      <td>-0.069836</td>\n",
              "      <td>0.233633</td>\n",
              "      <td>0.214103</td>\n",
              "      <td>0.239666</td>\n",
              "      <td>-0.046231</td>\n",
              "      <td>0.249503</td>\n",
              "      <td>0.128451</td>\n",
              "      <td>0.264736</td>\n",
              "      <td>1.000000</td>\n",
              "      <td>...</td>\n",
              "      <td>0.204306</td>\n",
              "      <td>0.111761</td>\n",
              "      <td>-0.102303</td>\n",
              "      <td>0.026451</td>\n",
              "      <td>0.062021</td>\n",
              "      <td>0.140491</td>\n",
              "      <td>0.003571</td>\n",
              "      <td>-0.015727</td>\n",
              "      <td>0.014359</td>\n",
              "      <td>0.386420</td>\n",
              "    </tr>\n",
              "    <tr>\n",
              "      <th>BsmtFinSF2</th>\n",
              "      <td>-0.005968</td>\n",
              "      <td>-0.065649</td>\n",
              "      <td>0.049900</td>\n",
              "      <td>0.111170</td>\n",
              "      <td>-0.059119</td>\n",
              "      <td>0.040229</td>\n",
              "      <td>-0.049107</td>\n",
              "      <td>-0.067759</td>\n",
              "      <td>-0.072319</td>\n",
              "      <td>-0.050117</td>\n",
              "      <td>...</td>\n",
              "      <td>0.067898</td>\n",
              "      <td>0.003093</td>\n",
              "      <td>0.036543</td>\n",
              "      <td>-0.029993</td>\n",
              "      <td>0.088871</td>\n",
              "      <td>0.041709</td>\n",
              "      <td>0.004940</td>\n",
              "      <td>-0.015211</td>\n",
              "      <td>0.031706</td>\n",
              "      <td>-0.011378</td>\n",
              "    </tr>\n",
              "    <tr>\n",
              "      <th>BsmtUnfSF</th>\n",
              "      <td>-0.007940</td>\n",
              "      <td>-0.140759</td>\n",
              "      <td>0.132644</td>\n",
              "      <td>-0.002618</td>\n",
              "      <td>0.308159</td>\n",
              "      <td>-0.136841</td>\n",
              "      <td>0.149040</td>\n",
              "      <td>0.181133</td>\n",
              "      <td>0.114442</td>\n",
              "      <td>-0.495251</td>\n",
              "      <td>...</td>\n",
              "      <td>-0.005316</td>\n",
              "      <td>0.129005</td>\n",
              "      <td>-0.002538</td>\n",
              "      <td>0.020764</td>\n",
              "      <td>-0.012579</td>\n",
              "      <td>-0.035092</td>\n",
              "      <td>-0.023837</td>\n",
              "      <td>0.034888</td>\n",
              "      <td>-0.041258</td>\n",
              "      <td>0.214479</td>\n",
              "    </tr>\n",
              "    <tr>\n",
              "      <th>TotalBsmtSF</th>\n",
              "      <td>-0.015415</td>\n",
              "      <td>-0.238518</td>\n",
              "      <td>0.392075</td>\n",
              "      <td>0.260833</td>\n",
              "      <td>0.537808</td>\n",
              "      <td>-0.171098</td>\n",
              "      <td>0.391452</td>\n",
              "      <td>0.291066</td>\n",
              "      <td>0.363936</td>\n",
              "      <td>0.522396</td>\n",
              "      <td>...</td>\n",
              "      <td>0.232019</td>\n",
              "      <td>0.247264</td>\n",
              "      <td>-0.095478</td>\n",
              "      <td>0.037384</td>\n",
              "      <td>0.084489</td>\n",
              "      <td>0.126053</td>\n",
              "      <td>-0.018479</td>\n",
              "      <td>0.013196</td>\n",
              "      <td>-0.014969</td>\n",
              "      <td>0.613581</td>\n",
              "    </tr>\n",
              "    <tr>\n",
              "      <th>1stFlrSF</th>\n",
              "      <td>0.010496</td>\n",
              "      <td>-0.251758</td>\n",
              "      <td>0.457181</td>\n",
              "      <td>0.299475</td>\n",
              "      <td>0.476224</td>\n",
              "      <td>-0.144203</td>\n",
              "      <td>0.281986</td>\n",
              "      <td>0.240379</td>\n",
              "      <td>0.344501</td>\n",
              "      <td>0.445863</td>\n",
              "      <td>...</td>\n",
              "      <td>0.235459</td>\n",
              "      <td>0.211671</td>\n",
              "      <td>-0.065292</td>\n",
              "      <td>0.056104</td>\n",
              "      <td>0.088758</td>\n",
              "      <td>0.131525</td>\n",
              "      <td>-0.021096</td>\n",
              "      <td>0.031372</td>\n",
              "      <td>-0.013604</td>\n",
              "      <td>0.605852</td>\n",
              "    </tr>\n",
              "    <tr>\n",
              "      <th>2ndFlrSF</th>\n",
              "      <td>0.005590</td>\n",
              "      <td>0.307886</td>\n",
              "      <td>0.080177</td>\n",
              "      <td>0.050986</td>\n",
              "      <td>0.295493</td>\n",
              "      <td>0.028942</td>\n",
              "      <td>0.010308</td>\n",
              "      <td>0.140024</td>\n",
              "      <td>0.174561</td>\n",
              "      <td>-0.137079</td>\n",
              "      <td>...</td>\n",
              "      <td>0.092165</td>\n",
              "      <td>0.208026</td>\n",
              "      <td>0.061989</td>\n",
              "      <td>-0.024358</td>\n",
              "      <td>0.040606</td>\n",
              "      <td>0.081487</td>\n",
              "      <td>0.016197</td>\n",
              "      <td>0.035164</td>\n",
              "      <td>-0.028700</td>\n",
              "      <td>0.319334</td>\n",
              "    </tr>\n",
              "    <tr>\n",
              "      <th>LowQualFinSF</th>\n",
              "      <td>-0.044230</td>\n",
              "      <td>0.046474</td>\n",
              "      <td>0.038469</td>\n",
              "      <td>0.004779</td>\n",
              "      <td>-0.030429</td>\n",
              "      <td>0.025494</td>\n",
              "      <td>-0.183784</td>\n",
              "      <td>-0.062419</td>\n",
              "      <td>-0.069071</td>\n",
              "      <td>-0.064503</td>\n",
              "      <td>...</td>\n",
              "      <td>-0.025444</td>\n",
              "      <td>0.018251</td>\n",
              "      <td>0.061081</td>\n",
              "      <td>-0.004296</td>\n",
              "      <td>0.026799</td>\n",
              "      <td>0.062157</td>\n",
              "      <td>-0.003793</td>\n",
              "      <td>-0.022174</td>\n",
              "      <td>-0.028921</td>\n",
              "      <td>-0.025606</td>\n",
              "    </tr>\n",
              "    <tr>\n",
              "      <th>GrLivArea</th>\n",
              "      <td>0.008273</td>\n",
              "      <td>0.074853</td>\n",
              "      <td>0.402797</td>\n",
              "      <td>0.263116</td>\n",
              "      <td>0.593007</td>\n",
              "      <td>-0.079686</td>\n",
              "      <td>0.199010</td>\n",
              "      <td>0.287389</td>\n",
              "      <td>0.390857</td>\n",
              "      <td>0.208171</td>\n",
              "      <td>...</td>\n",
              "      <td>0.247433</td>\n",
              "      <td>0.330224</td>\n",
              "      <td>0.009113</td>\n",
              "      <td>0.020643</td>\n",
              "      <td>0.101510</td>\n",
              "      <td>0.170205</td>\n",
              "      <td>-0.002416</td>\n",
              "      <td>0.050240</td>\n",
              "      <td>-0.036526</td>\n",
              "      <td>0.708624</td>\n",
              "    </tr>\n",
              "    <tr>\n",
              "      <th>BsmtFullBath</th>\n",
              "      <td>0.002289</td>\n",
              "      <td>0.003491</td>\n",
              "      <td>0.100949</td>\n",
              "      <td>0.158155</td>\n",
              "      <td>0.111098</td>\n",
              "      <td>-0.054942</td>\n",
              "      <td>0.187599</td>\n",
              "      <td>0.119470</td>\n",
              "      <td>0.085310</td>\n",
              "      <td>0.649212</td>\n",
              "      <td>...</td>\n",
              "      <td>0.175315</td>\n",
              "      <td>0.067341</td>\n",
              "      <td>-0.049911</td>\n",
              "      <td>-0.000106</td>\n",
              "      <td>0.023148</td>\n",
              "      <td>0.067616</td>\n",
              "      <td>-0.023047</td>\n",
              "      <td>-0.025361</td>\n",
              "      <td>0.067049</td>\n",
              "      <td>0.227122</td>\n",
              "    </tr>\n",
              "    <tr>\n",
              "      <th>BsmtHalfBath</th>\n",
              "      <td>-0.020155</td>\n",
              "      <td>-0.002333</td>\n",
              "      <td>-0.007234</td>\n",
              "      <td>0.048046</td>\n",
              "      <td>-0.040150</td>\n",
              "      <td>0.117821</td>\n",
              "      <td>-0.038162</td>\n",
              "      <td>-0.012337</td>\n",
              "      <td>0.026673</td>\n",
              "      <td>0.067418</td>\n",
              "      <td>...</td>\n",
              "      <td>0.040161</td>\n",
              "      <td>-0.025324</td>\n",
              "      <td>-0.008555</td>\n",
              "      <td>0.035114</td>\n",
              "      <td>0.032121</td>\n",
              "      <td>0.020025</td>\n",
              "      <td>-0.007367</td>\n",
              "      <td>0.032873</td>\n",
              "      <td>-0.046524</td>\n",
              "      <td>-0.016844</td>\n",
              "    </tr>\n",
              "    <tr>\n",
              "      <th>FullBath</th>\n",
              "      <td>0.005587</td>\n",
              "      <td>0.131608</td>\n",
              "      <td>0.198769</td>\n",
              "      <td>0.126031</td>\n",
              "      <td>0.550600</td>\n",
              "      <td>-0.194149</td>\n",
              "      <td>0.468271</td>\n",
              "      <td>0.439046</td>\n",
              "      <td>0.276833</td>\n",
              "      <td>0.058543</td>\n",
              "      <td>...</td>\n",
              "      <td>0.187703</td>\n",
              "      <td>0.259977</td>\n",
              "      <td>-0.115093</td>\n",
              "      <td>0.035353</td>\n",
              "      <td>-0.008106</td>\n",
              "      <td>0.049604</td>\n",
              "      <td>-0.014290</td>\n",
              "      <td>0.055872</td>\n",
              "      <td>-0.019669</td>\n",
              "      <td>0.560664</td>\n",
              "    </tr>\n",
              "    <tr>\n",
              "      <th>HalfBath</th>\n",
              "      <td>0.006784</td>\n",
              "      <td>0.177354</td>\n",
              "      <td>0.053532</td>\n",
              "      <td>0.014259</td>\n",
              "      <td>0.273458</td>\n",
              "      <td>-0.060769</td>\n",
              "      <td>0.242656</td>\n",
              "      <td>0.183331</td>\n",
              "      <td>0.201444</td>\n",
              "      <td>0.004262</td>\n",
              "      <td>...</td>\n",
              "      <td>0.108080</td>\n",
              "      <td>0.199740</td>\n",
              "      <td>-0.095317</td>\n",
              "      <td>-0.004972</td>\n",
              "      <td>0.072426</td>\n",
              "      <td>0.022381</td>\n",
              "      <td>0.001290</td>\n",
              "      <td>-0.009050</td>\n",
              "      <td>-0.010269</td>\n",
              "      <td>0.284108</td>\n",
              "    </tr>\n",
              "    <tr>\n",
              "      <th>BedroomAbvGr</th>\n",
              "      <td>0.037719</td>\n",
              "      <td>-0.023438</td>\n",
              "      <td>0.263170</td>\n",
              "      <td>0.119690</td>\n",
              "      <td>0.101676</td>\n",
              "      <td>0.012980</td>\n",
              "      <td>-0.070651</td>\n",
              "      <td>-0.040581</td>\n",
              "      <td>0.102821</td>\n",
              "      <td>-0.107355</td>\n",
              "      <td>...</td>\n",
              "      <td>0.046854</td>\n",
              "      <td>0.093810</td>\n",
              "      <td>0.041570</td>\n",
              "      <td>-0.024478</td>\n",
              "      <td>0.044300</td>\n",
              "      <td>0.070703</td>\n",
              "      <td>0.007767</td>\n",
              "      <td>0.046544</td>\n",
              "      <td>-0.036014</td>\n",
              "      <td>0.168213</td>\n",
              "    </tr>\n",
              "    <tr>\n",
              "      <th>KitchenAbvGr</th>\n",
              "      <td>0.002951</td>\n",
              "      <td>0.281721</td>\n",
              "      <td>-0.006069</td>\n",
              "      <td>-0.017784</td>\n",
              "      <td>-0.183882</td>\n",
              "      <td>-0.087001</td>\n",
              "      <td>-0.174800</td>\n",
              "      <td>-0.149598</td>\n",
              "      <td>-0.037610</td>\n",
              "      <td>-0.081007</td>\n",
              "      <td>...</td>\n",
              "      <td>-0.090130</td>\n",
              "      <td>-0.070091</td>\n",
              "      <td>0.037312</td>\n",
              "      <td>-0.024600</td>\n",
              "      <td>-0.051613</td>\n",
              "      <td>-0.014525</td>\n",
              "      <td>0.062341</td>\n",
              "      <td>0.026589</td>\n",
              "      <td>0.031687</td>\n",
              "      <td>-0.135907</td>\n",
              "    </tr>\n",
              "    <tr>\n",
              "      <th>TotRmsAbvGrd</th>\n",
              "      <td>0.027239</td>\n",
              "      <td>0.040380</td>\n",
              "      <td>0.352096</td>\n",
              "      <td>0.190015</td>\n",
              "      <td>0.427452</td>\n",
              "      <td>-0.057583</td>\n",
              "      <td>0.095589</td>\n",
              "      <td>0.191740</td>\n",
              "      <td>0.280682</td>\n",
              "      <td>0.044316</td>\n",
              "      <td>...</td>\n",
              "      <td>0.165984</td>\n",
              "      <td>0.234192</td>\n",
              "      <td>0.004151</td>\n",
              "      <td>-0.006683</td>\n",
              "      <td>0.059383</td>\n",
              "      <td>0.083757</td>\n",
              "      <td>0.024763</td>\n",
              "      <td>0.036907</td>\n",
              "      <td>-0.034516</td>\n",
              "      <td>0.533723</td>\n",
              "    </tr>\n",
              "    <tr>\n",
              "      <th>Fireplaces</th>\n",
              "      <td>-0.019772</td>\n",
              "      <td>-0.045569</td>\n",
              "      <td>0.266639</td>\n",
              "      <td>0.271364</td>\n",
              "      <td>0.396765</td>\n",
              "      <td>-0.023820</td>\n",
              "      <td>0.147716</td>\n",
              "      <td>0.112581</td>\n",
              "      <td>0.249070</td>\n",
              "      <td>0.260011</td>\n",
              "      <td>...</td>\n",
              "      <td>0.200019</td>\n",
              "      <td>0.169405</td>\n",
              "      <td>-0.024822</td>\n",
              "      <td>0.011257</td>\n",
              "      <td>0.184530</td>\n",
              "      <td>0.095074</td>\n",
              "      <td>0.001409</td>\n",
              "      <td>0.046357</td>\n",
              "      <td>-0.024096</td>\n",
              "      <td>0.466929</td>\n",
              "    </tr>\n",
              "    <tr>\n",
              "      <th>GarageYrBlt</th>\n",
              "      <td>0.000072</td>\n",
              "      <td>0.085072</td>\n",
              "      <td>0.070250</td>\n",
              "      <td>-0.024947</td>\n",
              "      <td>0.547766</td>\n",
              "      <td>-0.324297</td>\n",
              "      <td>0.825667</td>\n",
              "      <td>0.642277</td>\n",
              "      <td>0.252691</td>\n",
              "      <td>0.153484</td>\n",
              "      <td>...</td>\n",
              "      <td>0.224577</td>\n",
              "      <td>0.228425</td>\n",
              "      <td>-0.297003</td>\n",
              "      <td>0.023544</td>\n",
              "      <td>-0.075418</td>\n",
              "      <td>-0.014501</td>\n",
              "      <td>-0.032417</td>\n",
              "      <td>0.005337</td>\n",
              "      <td>-0.001014</td>\n",
              "      <td>0.486362</td>\n",
              "    </tr>\n",
              "    <tr>\n",
              "      <th>GarageCars</th>\n",
              "      <td>0.016570</td>\n",
              "      <td>-0.040110</td>\n",
              "      <td>0.285691</td>\n",
              "      <td>0.154871</td>\n",
              "      <td>0.600671</td>\n",
              "      <td>-0.185758</td>\n",
              "      <td>0.537850</td>\n",
              "      <td>0.420622</td>\n",
              "      <td>0.364204</td>\n",
              "      <td>0.224054</td>\n",
              "      <td>...</td>\n",
              "      <td>0.226342</td>\n",
              "      <td>0.213569</td>\n",
              "      <td>-0.151434</td>\n",
              "      <td>0.035765</td>\n",
              "      <td>0.050494</td>\n",
              "      <td>0.020934</td>\n",
              "      <td>-0.043080</td>\n",
              "      <td>0.040522</td>\n",
              "      <td>-0.039117</td>\n",
              "      <td>0.640409</td>\n",
              "    </tr>\n",
              "    <tr>\n",
              "      <th>GarageArea</th>\n",
              "      <td>0.017634</td>\n",
              "      <td>-0.098672</td>\n",
              "      <td>0.344997</td>\n",
              "      <td>0.180403</td>\n",
              "      <td>0.562022</td>\n",
              "      <td>-0.151521</td>\n",
              "      <td>0.478954</td>\n",
              "      <td>0.371600</td>\n",
              "      <td>0.373066</td>\n",
              "      <td>0.296970</td>\n",
              "      <td>...</td>\n",
              "      <td>0.224666</td>\n",
              "      <td>0.241435</td>\n",
              "      <td>-0.121777</td>\n",
              "      <td>0.035087</td>\n",
              "      <td>0.051412</td>\n",
              "      <td>0.061047</td>\n",
              "      <td>-0.027400</td>\n",
              "      <td>0.027974</td>\n",
              "      <td>-0.027378</td>\n",
              "      <td>0.623431</td>\n",
              "    </tr>\n",
              "    <tr>\n",
              "      <th>WoodDeckSF</th>\n",
              "      <td>-0.029643</td>\n",
              "      <td>-0.012579</td>\n",
              "      <td>0.088521</td>\n",
              "      <td>0.171698</td>\n",
              "      <td>0.238923</td>\n",
              "      <td>-0.003334</td>\n",
              "      <td>0.224880</td>\n",
              "      <td>0.205726</td>\n",
              "      <td>0.159718</td>\n",
              "      <td>0.204306</td>\n",
              "      <td>...</td>\n",
              "      <td>1.000000</td>\n",
              "      <td>0.058661</td>\n",
              "      <td>-0.125989</td>\n",
              "      <td>-0.032771</td>\n",
              "      <td>-0.074181</td>\n",
              "      <td>0.073378</td>\n",
              "      <td>-0.009551</td>\n",
              "      <td>0.021011</td>\n",
              "      <td>0.022270</td>\n",
              "      <td>0.324413</td>\n",
              "    </tr>\n",
              "    <tr>\n",
              "      <th>OpenPorchSF</th>\n",
              "      <td>-0.000477</td>\n",
              "      <td>-0.006100</td>\n",
              "      <td>0.151972</td>\n",
              "      <td>0.084774</td>\n",
              "      <td>0.308819</td>\n",
              "      <td>-0.032589</td>\n",
              "      <td>0.188686</td>\n",
              "      <td>0.226298</td>\n",
              "      <td>0.125703</td>\n",
              "      <td>0.111761</td>\n",
              "      <td>...</td>\n",
              "      <td>0.058661</td>\n",
              "      <td>1.000000</td>\n",
              "      <td>-0.093079</td>\n",
              "      <td>-0.005842</td>\n",
              "      <td>0.074304</td>\n",
              "      <td>0.060762</td>\n",
              "      <td>-0.018584</td>\n",
              "      <td>0.071255</td>\n",
              "      <td>-0.057619</td>\n",
              "      <td>0.315856</td>\n",
              "    </tr>\n",
              "    <tr>\n",
              "      <th>EnclosedPorch</th>\n",
              "      <td>0.002889</td>\n",
              "      <td>-0.012037</td>\n",
              "      <td>0.010700</td>\n",
              "      <td>-0.018340</td>\n",
              "      <td>-0.113937</td>\n",
              "      <td>0.070356</td>\n",
              "      <td>-0.387268</td>\n",
              "      <td>-0.193919</td>\n",
              "      <td>-0.110204</td>\n",
              "      <td>-0.102303</td>\n",
              "      <td>...</td>\n",
              "      <td>-0.125989</td>\n",
              "      <td>-0.093079</td>\n",
              "      <td>1.000000</td>\n",
              "      <td>-0.037305</td>\n",
              "      <td>-0.082864</td>\n",
              "      <td>0.054203</td>\n",
              "      <td>0.018361</td>\n",
              "      <td>-0.028887</td>\n",
              "      <td>-0.009916</td>\n",
              "      <td>-0.128578</td>\n",
              "    </tr>\n",
              "    <tr>\n",
              "      <th>3SsnPorch</th>\n",
              "      <td>-0.046635</td>\n",
              "      <td>-0.043825</td>\n",
              "      <td>0.070029</td>\n",
              "      <td>0.020423</td>\n",
              "      <td>0.030371</td>\n",
              "      <td>0.025504</td>\n",
              "      <td>0.031355</td>\n",
              "      <td>0.045286</td>\n",
              "      <td>0.018796</td>\n",
              "      <td>0.026451</td>\n",
              "      <td>...</td>\n",
              "      <td>-0.032771</td>\n",
              "      <td>-0.005842</td>\n",
              "      <td>-0.037305</td>\n",
              "      <td>1.000000</td>\n",
              "      <td>-0.031436</td>\n",
              "      <td>-0.007992</td>\n",
              "      <td>0.000354</td>\n",
              "      <td>0.029474</td>\n",
              "      <td>0.018645</td>\n",
              "      <td>0.044584</td>\n",
              "    </tr>\n",
              "    <tr>\n",
              "      <th>ScreenPorch</th>\n",
              "      <td>0.001330</td>\n",
              "      <td>-0.026030</td>\n",
              "      <td>0.041383</td>\n",
              "      <td>0.043160</td>\n",
              "      <td>0.064886</td>\n",
              "      <td>0.054811</td>\n",
              "      <td>-0.050364</td>\n",
              "      <td>-0.038740</td>\n",
              "      <td>0.061466</td>\n",
              "      <td>0.062021</td>\n",
              "      <td>...</td>\n",
              "      <td>-0.074181</td>\n",
              "      <td>0.074304</td>\n",
              "      <td>-0.082864</td>\n",
              "      <td>-0.031436</td>\n",
              "      <td>1.000000</td>\n",
              "      <td>0.051307</td>\n",
              "      <td>0.031946</td>\n",
              "      <td>0.023217</td>\n",
              "      <td>0.010694</td>\n",
              "      <td>0.111447</td>\n",
              "    </tr>\n",
              "    <tr>\n",
              "      <th>PoolArea</th>\n",
              "      <td>0.057044</td>\n",
              "      <td>0.008283</td>\n",
              "      <td>0.206167</td>\n",
              "      <td>0.077672</td>\n",
              "      <td>0.065166</td>\n",
              "      <td>-0.001985</td>\n",
              "      <td>0.004950</td>\n",
              "      <td>0.005829</td>\n",
              "      <td>0.011723</td>\n",
              "      <td>0.140491</td>\n",
              "      <td>...</td>\n",
              "      <td>0.073378</td>\n",
              "      <td>0.060762</td>\n",
              "      <td>0.054203</td>\n",
              "      <td>-0.007992</td>\n",
              "      <td>0.051307</td>\n",
              "      <td>1.000000</td>\n",
              "      <td>0.029669</td>\n",
              "      <td>-0.033737</td>\n",
              "      <td>-0.059689</td>\n",
              "      <td>0.092404</td>\n",
              "    </tr>\n",
              "    <tr>\n",
              "      <th>MiscVal</th>\n",
              "      <td>-0.006242</td>\n",
              "      <td>-0.007683</td>\n",
              "      <td>0.003368</td>\n",
              "      <td>0.038068</td>\n",
              "      <td>-0.031406</td>\n",
              "      <td>0.068777</td>\n",
              "      <td>-0.034383</td>\n",
              "      <td>-0.010286</td>\n",
              "      <td>-0.029815</td>\n",
              "      <td>0.003571</td>\n",
              "      <td>...</td>\n",
              "      <td>-0.009551</td>\n",
              "      <td>-0.018584</td>\n",
              "      <td>0.018361</td>\n",
              "      <td>0.000354</td>\n",
              "      <td>0.031946</td>\n",
              "      <td>0.029669</td>\n",
              "      <td>1.000000</td>\n",
              "      <td>-0.006495</td>\n",
              "      <td>0.004906</td>\n",
              "      <td>-0.021190</td>\n",
              "    </tr>\n",
              "    <tr>\n",
              "      <th>MoSold</th>\n",
              "      <td>0.021172</td>\n",
              "      <td>-0.013585</td>\n",
              "      <td>0.011200</td>\n",
              "      <td>0.001205</td>\n",
              "      <td>0.070815</td>\n",
              "      <td>-0.003511</td>\n",
              "      <td>0.012398</td>\n",
              "      <td>0.021490</td>\n",
              "      <td>-0.005965</td>\n",
              "      <td>-0.015727</td>\n",
              "      <td>...</td>\n",
              "      <td>0.021011</td>\n",
              "      <td>0.071255</td>\n",
              "      <td>-0.028887</td>\n",
              "      <td>0.029474</td>\n",
              "      <td>0.023217</td>\n",
              "      <td>-0.033737</td>\n",
              "      <td>-0.006495</td>\n",
              "      <td>1.000000</td>\n",
              "      <td>-0.145721</td>\n",
              "      <td>0.046432</td>\n",
              "    </tr>\n",
              "    <tr>\n",
              "      <th>YrSold</th>\n",
              "      <td>0.000712</td>\n",
              "      <td>-0.021407</td>\n",
              "      <td>0.007450</td>\n",
              "      <td>-0.014261</td>\n",
              "      <td>-0.027347</td>\n",
              "      <td>0.043950</td>\n",
              "      <td>-0.013618</td>\n",
              "      <td>0.035743</td>\n",
              "      <td>-0.008201</td>\n",
              "      <td>0.014359</td>\n",
              "      <td>...</td>\n",
              "      <td>0.022270</td>\n",
              "      <td>-0.057619</td>\n",
              "      <td>-0.009916</td>\n",
              "      <td>0.018645</td>\n",
              "      <td>0.010694</td>\n",
              "      <td>-0.059689</td>\n",
              "      <td>0.004906</td>\n",
              "      <td>-0.145721</td>\n",
              "      <td>1.000000</td>\n",
              "      <td>-0.028923</td>\n",
              "    </tr>\n",
              "    <tr>\n",
              "      <th>SalePrice</th>\n",
              "      <td>-0.021917</td>\n",
              "      <td>-0.084284</td>\n",
              "      <td>0.351799</td>\n",
              "      <td>0.263843</td>\n",
              "      <td>0.790982</td>\n",
              "      <td>-0.077856</td>\n",
              "      <td>0.522897</td>\n",
              "      <td>0.507101</td>\n",
              "      <td>0.477493</td>\n",
              "      <td>0.386420</td>\n",
              "      <td>...</td>\n",
              "      <td>0.324413</td>\n",
              "      <td>0.315856</td>\n",
              "      <td>-0.128578</td>\n",
              "      <td>0.044584</td>\n",
              "      <td>0.111447</td>\n",
              "      <td>0.092404</td>\n",
              "      <td>-0.021190</td>\n",
              "      <td>0.046432</td>\n",
              "      <td>-0.028923</td>\n",
              "      <td>1.000000</td>\n",
              "    </tr>\n",
              "  </tbody>\n",
              "</table>\n",
              "<p>38 rows × 38 columns</p>\n",
              "</div>\n",
              "      <button class=\"colab-df-convert\" onclick=\"convertToInteractive('df-bcfcbfdd-1613-452d-b237-ba644cdbdf5f')\"\n",
              "              title=\"Convert this dataframe to an interactive table.\"\n",
              "              style=\"display:none;\">\n",
              "        \n",
              "  <svg xmlns=\"http://www.w3.org/2000/svg\" height=\"24px\"viewBox=\"0 0 24 24\"\n",
              "       width=\"24px\">\n",
              "    <path d=\"M0 0h24v24H0V0z\" fill=\"none\"/>\n",
              "    <path d=\"M18.56 5.44l.94 2.06.94-2.06 2.06-.94-2.06-.94-.94-2.06-.94 2.06-2.06.94zm-11 1L8.5 8.5l.94-2.06 2.06-.94-2.06-.94L8.5 2.5l-.94 2.06-2.06.94zm10 10l.94 2.06.94-2.06 2.06-.94-2.06-.94-.94-2.06-.94 2.06-2.06.94z\"/><path d=\"M17.41 7.96l-1.37-1.37c-.4-.4-.92-.59-1.43-.59-.52 0-1.04.2-1.43.59L10.3 9.45l-7.72 7.72c-.78.78-.78 2.05 0 2.83L4 21.41c.39.39.9.59 1.41.59.51 0 1.02-.2 1.41-.59l7.78-7.78 2.81-2.81c.8-.78.8-2.07 0-2.86zM5.41 20L4 18.59l7.72-7.72 1.47 1.35L5.41 20z\"/>\n",
              "  </svg>\n",
              "      </button>\n",
              "      \n",
              "  <style>\n",
              "    .colab-df-container {\n",
              "      display:flex;\n",
              "      flex-wrap:wrap;\n",
              "      gap: 12px;\n",
              "    }\n",
              "\n",
              "    .colab-df-convert {\n",
              "      background-color: #E8F0FE;\n",
              "      border: none;\n",
              "      border-radius: 50%;\n",
              "      cursor: pointer;\n",
              "      display: none;\n",
              "      fill: #1967D2;\n",
              "      height: 32px;\n",
              "      padding: 0 0 0 0;\n",
              "      width: 32px;\n",
              "    }\n",
              "\n",
              "    .colab-df-convert:hover {\n",
              "      background-color: #E2EBFA;\n",
              "      box-shadow: 0px 1px 2px rgba(60, 64, 67, 0.3), 0px 1px 3px 1px rgba(60, 64, 67, 0.15);\n",
              "      fill: #174EA6;\n",
              "    }\n",
              "\n",
              "    [theme=dark] .colab-df-convert {\n",
              "      background-color: #3B4455;\n",
              "      fill: #D2E3FC;\n",
              "    }\n",
              "\n",
              "    [theme=dark] .colab-df-convert:hover {\n",
              "      background-color: #434B5C;\n",
              "      box-shadow: 0px 1px 3px 1px rgba(0, 0, 0, 0.15);\n",
              "      filter: drop-shadow(0px 1px 2px rgba(0, 0, 0, 0.3));\n",
              "      fill: #FFFFFF;\n",
              "    }\n",
              "  </style>\n",
              "\n",
              "      <script>\n",
              "        const buttonEl =\n",
              "          document.querySelector('#df-bcfcbfdd-1613-452d-b237-ba644cdbdf5f button.colab-df-convert');\n",
              "        buttonEl.style.display =\n",
              "          google.colab.kernel.accessAllowed ? 'block' : 'none';\n",
              "\n",
              "        async function convertToInteractive(key) {\n",
              "          const element = document.querySelector('#df-bcfcbfdd-1613-452d-b237-ba644cdbdf5f');\n",
              "          const dataTable =\n",
              "            await google.colab.kernel.invokeFunction('convertToInteractive',\n",
              "                                                     [key], {});\n",
              "          if (!dataTable) return;\n",
              "\n",
              "          const docLinkHtml = 'Like what you see? Visit the ' +\n",
              "            '<a target=\"_blank\" href=https://colab.research.google.com/notebooks/data_table.ipynb>data table notebook</a>'\n",
              "            + ' to learn more about interactive tables.';\n",
              "          element.innerHTML = '';\n",
              "          dataTable['output_type'] = 'display_data';\n",
              "          await google.colab.output.renderOutput(dataTable, element);\n",
              "          const docLink = document.createElement('div');\n",
              "          docLink.innerHTML = docLinkHtml;\n",
              "          element.appendChild(docLink);\n",
              "        }\n",
              "      </script>\n",
              "    </div>\n",
              "  </div>\n",
              "  "
            ]
          },
          "metadata": {},
          "execution_count": 219
        }
      ]
    },
    {
      "cell_type": "markdown",
      "source": [
        "#Model 1"
      ],
      "metadata": {
        "id": "D5SwgeUURAn_"
      }
    },
    {
      "cell_type": "code",
      "source": [
        "lm1= LinearRegression()"
      ],
      "metadata": {
        "id": "kRheSLbXRDm_"
      },
      "execution_count": 220,
      "outputs": []
    },
    {
      "cell_type": "code",
      "source": [
        "df_house.plot.scatter('YearBuilt','SalePrice')"
      ],
      "metadata": {
        "colab": {
          "base_uri": "https://localhost:8080/",
          "height": 297
        },
        "id": "oWU1f49RyW8N",
        "outputId": "1d2a4bb9-12e5-4dd0-8db4-f1b5be96e55c"
      },
      "execution_count": 221,
      "outputs": [
        {
          "output_type": "execute_result",
          "data": {
            "text/plain": [
              "<matplotlib.axes._subplots.AxesSubplot at 0x7fccc3329490>"
            ]
          },
          "metadata": {},
          "execution_count": 221
        },
        {
          "output_type": "display_data",
          "data": {
            "text/plain": [
              "<Figure size 432x288 with 1 Axes>"
            ],
            "image/png": "[encoded data removed]"
          },
          "metadata": {
            "needs_background": "light"
          }
        }
      ]
    },
    {
      "cell_type": "code",
      "source": [
        "x= df_house[['YearBuilt']]\n",
        "y= df_house['SalePrice']"
      ],
      "metadata": {
        "id": "YPOq604xQAmc"
      },
      "execution_count": 222,
      "outputs": []
    },
    {
      "cell_type": "code",
      "source": [
        "lm1.fit(x, y)\n",
        "lm1"
      ],
      "metadata": {
        "colab": {
          "base_uri": "https://localhost:8080/"
        },
        "id": "-h56JRGoOW35",
        "outputId": "66dbda2a-15c1-4290-aea2-137f75db7f57"
      },
      "execution_count": 223,
      "outputs": [
        {
          "output_type": "execute_result",
          "data": {
            "text/plain": [
              "LinearRegression()"
            ]
          },
          "metadata": {},
          "execution_count": 223
        }
      ]
    },
    {
      "cell_type": "code",
      "source": [
        "lm1.fit(df_house[['YearBuilt']],df_house[['SalePrice']])\n",
        "Yhat1=lm1.predict(x)\n",
        "\n",
        "print(f\"intercept:{lm1.intercept_}\")\n",
        "print(f\"slope:{lm1.coef_}\")"
      ],
      "metadata": {
        "colab": {
          "base_uri": "https://localhost:8080/"
        },
        "id": "EYcu9TJyTE3M",
        "outputId": "1a313a4b-afe6-408f-f16a-b63453ff98bc"
      },
      "execution_count": 224,
      "outputs": [
        {
          "output_type": "stream",
          "name": "stdout",
          "text": [
            "intercept:[-2530308.24573236]\n",
            "slope:[[1375.37346794]]\n"
          ]
        }
      ]
    },
    {
      "cell_type": "markdown",
      "source": [
        "## evaluation"
      ],
      "metadata": {
        "id": "IuJrWXahfnrg"
      }
    },
    {
      "cell_type": "code",
      "source": [
        "mse= mean_squared_error(df_house['SalePrice'], Yhat1)\n",
        "print('The mean square error of SalePrice and predicted value is: ', mse)\n",
        "\n",
        "r_sq=lm1.score(df_house[['YearBuilt']],df_house[['SalePrice']])\n",
        "print(f\"coefficiend of determination: {r_sq}\")"
      ],
      "metadata": {
        "colab": {
          "base_uri": "https://localhost:8080/"
        },
        "id": "8dIO7Ih1mBLA",
        "outputId": "e581d656-2eff-4a0f-a4e2-a455156e139a"
      },
      "execution_count": 225,
      "outputs": [
        {
          "output_type": "stream",
          "name": "stdout",
          "text": [
            "The mean square error of SalePrice and predicted value is:  4582376228.725916\n",
            "coefficiend of determination: 0.27342162073249154\n"
          ]
        }
      ]
    },
    {
      "cell_type": "code",
      "source": [
        "width = 12\n",
        "height=10\n",
        "plt.figure(figsize=(width, height))\n",
        "\n",
        "\n",
        "ax1 = sns.distplot(df_house['SalePrice'], hist=False, color=\"r\", label=\"Actual Value\")\n",
        "sns.distplot(Yhat1, hist=False, color=\"b\", label=\"Fitted Values\" , ax=ax1)\n",
        "\n",
        "\n",
        "plt.title('Actual vs Fitted Values for Price')\n",
        "plt.xlabel('Price (in dollars)')\n",
        "plt.ylabel('Proportion of Cars')\n",
        "\n",
        "plt.show()\n",
        "plt.close()"
      ],
      "metadata": {
        "id": "aRlWb73-75C9",
        "colab": {
          "base_uri": "https://localhost:8080/",
          "height": 712
        },
        "outputId": "1cf2bedb-3aa8-43ea-d626-eac831977f2d"
      },
      "execution_count": 226,
      "outputs": [
        {
          "output_type": "stream",
          "name": "stderr",
          "text": [
            "/usr/local/lib/python3.7/dist-packages/seaborn/distributions.py:2619: FutureWarning: `distplot` is a deprecated function and will be removed in a future version. Please adapt your code to use either `displot` (a figure-level function with similar flexibility) or `kdeplot` (an axes-level function for kernel density plots).\n",
            "  warnings.warn(msg, FutureWarning)\n",
            "/usr/local/lib/python3.7/dist-packages/seaborn/distributions.py:2619: FutureWarning: `distplot` is a deprecated function and will be removed in a future version. Please adapt your code to use either `displot` (a figure-level function with similar flexibility) or `kdeplot` (an axes-level function for kernel density plots).\n",
            "  warnings.warn(msg, FutureWarning)\n"
          ]
        },
        {
          "output_type": "display_data",
          "data": {
            "text/plain": [
              "<Figure size 864x720 with 1 Axes>"
            ],
            "image/png": "[encoded data removed]"
          },
          "metadata": {
            "needs_background": "light"
          }
        }
      ]
    },
    {
      "cell_type": "markdown",
      "source": [
        "# Model 2"
      ],
      "metadata": {
        "id": "bXBZVcKPfUyM"
      }
    },
    {
      "cell_type": "code",
      "source": [
        "lm2=LinearRegression()"
      ],
      "metadata": {
        "id": "XvDld8C8LsuG"
      },
      "execution_count": 227,
      "outputs": []
    },
    {
      "cell_type": "code",
      "source": [
        "df_house.plot.scatter('1stFlrSF','YearRemodAdd')"
      ],
      "metadata": {
        "colab": {
          "base_uri": "https://localhost:8080/",
          "height": 297
        },
        "id": "k8GIOBVBQoKe",
        "outputId": "eef9719b-1097-4965-9e8e-fee4d9a89e7d"
      },
      "execution_count": 228,
      "outputs": [
        {
          "output_type": "execute_result",
          "data": {
            "text/plain": [
              "<matplotlib.axes._subplots.AxesSubplot at 0x7fccc2d95490>"
            ]
          },
          "metadata": {},
          "execution_count": 228
        },
        {
          "output_type": "display_data",
          "data": {
            "text/plain": [
              "<Figure size 432x288 with 1 Axes>"
            ],
            "image/png": "[encoded data removed]"
          },
          "metadata": {
            "needs_background": "light"
          }
        }
      ]
    },
    {
      "cell_type": "code",
      "source": [
        "x= df_house[['1stFlrSF']]\n",
        "y= df_house['YearRemodAdd']"
      ],
      "metadata": {
        "id": "5GwMTB5kQ1js"
      },
      "execution_count": 229,
      "outputs": []
    },
    {
      "cell_type": "code",
      "source": [
        "lm2.fit(x, y)"
      ],
      "metadata": {
        "colab": {
          "base_uri": "https://localhost:8080/"
        },
        "id": "b8aghV1hRHaV",
        "outputId": "79d3ffee-4aa7-401f-c4b6-e8974adabfd9"
      },
      "execution_count": 230,
      "outputs": [
        {
          "output_type": "execute_result",
          "data": {
            "text/plain": [
              "LinearRegression()"
            ]
          },
          "metadata": {},
          "execution_count": 230
        }
      ]
    },
    {
      "cell_type": "code",
      "source": [
        "lm2.fit(df_house[['1stFlrSF']],df_house[['YearRemodAdd']])\n",
        "Yhat1=lm2.predict(x)\n",
        "\n",
        "print(f\"intercept:{lm1.intercept_}\")\n",
        "print(f\"slope:{lm1.coef_}\")"
      ],
      "metadata": {
        "colab": {
          "base_uri": "https://localhost:8080/"
        },
        "id": "XbYVR06hSn5P",
        "outputId": "c1916f72-c9dc-40c1-f2ed-8f7d7b29aefd"
      },
      "execution_count": 231,
      "outputs": [
        {
          "output_type": "stream",
          "name": "stdout",
          "text": [
            "intercept:[-2530308.24573236]\n",
            "slope:[[1375.37346794]]\n"
          ]
        }
      ]
    },
    {
      "cell_type": "markdown",
      "source": [
        "##Evaluation "
      ],
      "metadata": {
        "id": "O9hw2Gt8U-QK"
      }
    },
    {
      "cell_type": "code",
      "source": [
        "mse= mean_squared_error(df_house['YearRemodAdd'], Yhat1)\n",
        "print('The mean square error of SalePrice and predicted value is: ', mse)\n",
        "\n",
        "r_sq=lm2.score(df_house[['1stFlrSF']],df_house[['YearRemodAdd']])\n",
        "print(f\"coefficiend of determination: {r_sq}\")"
      ],
      "metadata": {
        "colab": {
          "base_uri": "https://localhost:8080/"
        },
        "id": "oKrntQtnVCgN",
        "outputId": "f6e97674-b2b1-4782-d9a9-fe8fbc83a44f"
      },
      "execution_count": 232,
      "outputs": [
        {
          "output_type": "stream",
          "name": "stdout",
          "text": [
            "The mean square error of SalePrice and predicted value is:  401.3290840190893\n",
            "coefficiend of determination: 0.05778219229362136\n"
          ]
        }
      ]
    },
    {
      "cell_type": "code",
      "source": [
        "width = 12\n",
        "height=10\n",
        "plt.figure(figsize=(width, height))\n",
        "\n",
        "\n",
        "ax1 = sns.distplot(df_house['1stFlrSF'], hist=False, color=\"r\", label=\"Actual Value\")\n",
        "sns.distplot(Yhat1, hist=False, color=\"b\", label=\"Fitted Values\" , ax=ax1)\n",
        "\n",
        "\n",
        "plt.title('Actual vs Fitted Values for Price')\n",
        "plt.xlabel('Price (in dollars)')\n",
        "plt.ylabel('Proportion of Cars')\n",
        "\n",
        "plt.show()\n",
        "plt.close()"
      ],
      "metadata": {
        "colab": {
          "base_uri": "https://localhost:8080/",
          "height": 712
        },
        "id": "-X-B6wewXOcb",
        "outputId": "c4b9e93d-70e0-4615-d377-b609ba354503"
      },
      "execution_count": 233,
      "outputs": [
        {
          "output_type": "stream",
          "name": "stderr",
          "text": [
            "/usr/local/lib/python3.7/dist-packages/seaborn/distributions.py:2619: FutureWarning: `distplot` is a deprecated function and will be removed in a future version. Please adapt your code to use either `displot` (a figure-level function with similar flexibility) or `kdeplot` (an axes-level function for kernel density plots).\n",
            "  warnings.warn(msg, FutureWarning)\n",
            "/usr/local/lib/python3.7/dist-packages/seaborn/distributions.py:2619: FutureWarning: `distplot` is a deprecated function and will be removed in a future version. Please adapt your code to use either `displot` (a figure-level function with similar flexibility) or `kdeplot` (an axes-level function for kernel density plots).\n",
            "  warnings.warn(msg, FutureWarning)\n"
          ]
        },
        {
          "output_type": "display_data",
          "data": {
            "text/plain": [
              "<Figure size 864x720 with 1 Axes>"
            ],
            "image/png": "[encoded data removed]"
          },
          "metadata": {
            "needs_background": "light"
          }
        }
      ]
    },
    {
      "cell_type": "markdown",
      "source": [
        "#Model 3"
      ],
      "metadata": {
        "id": "RXk5il6K72GB"
      }
    },
    {
      "cell_type": "code",
      "source": [
        "lm3=LinearRegression()"
      ],
      "metadata": {
        "id": "QRrG2k6D745N"
      },
      "execution_count": 234,
      "outputs": []
    },
    {
      "cell_type": "code",
      "source": [
        "df_house.plot.scatter('MoSold','LotArea')"
      ],
      "metadata": {
        "colab": {
          "base_uri": "https://localhost:8080/",
          "height": 297
        },
        "id": "RsxfJp6e7-aA",
        "outputId": "2f8879af-f469-45b4-8afe-52e6de686c5a"
      },
      "execution_count": 235,
      "outputs": [
        {
          "output_type": "execute_result",
          "data": {
            "text/plain": [
              "<matplotlib.axes._subplots.AxesSubplot at 0x7fccc1cada90>"
            ]
          },
          "metadata": {},
          "execution_count": 235
        },
        {
          "output_type": "display_data",
          "data": {
            "text/plain": [
              "<Figure size 432x288 with 1 Axes>"
            ],
            "image/png": "[encoded data removed]"
          },
          "metadata": {
            "needs_background": "light"
          }
        }
      ]
    },
    {
      "cell_type": "code",
      "source": [
        "x= df_house[['MoSold']]\n",
        "y= df_house['LotArea']"
      ],
      "metadata": {
        "id": "ZqElCf_P8btb"
      },
      "execution_count": 236,
      "outputs": []
    },
    {
      "cell_type": "code",
      "source": [
        "lm3.fit(x,y)"
      ],
      "metadata": {
        "colab": {
          "base_uri": "https://localhost:8080/"
        },
        "id": "T3NibTw48nuV",
        "outputId": "97fede2c-9030-416c-b938-791c664d52aa"
      },
      "execution_count": 237,
      "outputs": [
        {
          "output_type": "execute_result",
          "data": {
            "text/plain": [
              "LinearRegression()"
            ]
          },
          "metadata": {},
          "execution_count": 237
        }
      ]
    },
    {
      "cell_type": "code",
      "source": [
        "lm3.fit(df_house[['MoSold']],df_house[['LotArea']])\n",
        "Yhat1=lm3.predict(x)\n",
        "\n",
        "print(f\"intercept:{lm1.intercept_}\")\n",
        "print(f\"slope:{lm1.coef_}\")"
      ],
      "metadata": {
        "colab": {
          "base_uri": "https://localhost:8080/"
        },
        "id": "zMEGaYqW8q7N",
        "outputId": "cb24f2ad-be04-4030-fde1-b443d8fe8b7b"
      },
      "execution_count": 238,
      "outputs": [
        {
          "output_type": "stream",
          "name": "stdout",
          "text": [
            "intercept:[-2530308.24573236]\n",
            "slope:[[1375.37346794]]\n"
          ]
        }
      ]
    },
    {
      "cell_type": "markdown",
      "source": [
        "##Evaluation"
      ],
      "metadata": {
        "id": "2oMxtWxQ9Rmw"
      }
    },
    {
      "cell_type": "code",
      "source": [
        "mse= mean_squared_error(df_house['LotArea'], Yhat1)\n",
        "print('The mean square error of SalePrice and predicted value is: ', mse)\n",
        "\n",
        "r_sq=lm3.score(df_house[['MoSold']],df_house[['LotArea']])\n",
        "print(f\"coefficiend of determination: {r_sq}\")"
      ],
      "metadata": {
        "colab": {
          "base_uri": "https://localhost:8080/"
        },
        "id": "c6hvZOzi9TY7",
        "outputId": "bc089a78-9a72-4d3c-d7cb-a19018bf3ec5"
      },
      "execution_count": 239,
      "outputs": [
        {
          "output_type": "stream",
          "name": "stdout",
          "text": [
            "The mean square error of SalePrice and predicted value is:  99557268.34697922\n",
            "coefficiend of determination: 1.4519966166082199e-06\n"
          ]
        }
      ]
    },
    {
      "cell_type": "code",
      "source": [
        "width = 12\n",
        "height=10\n",
        "plt.figure(figsize=(width, height))\n",
        "\n",
        "\n",
        "ax1 = sns.distplot(df_house['MoSold'], hist=False, color=\"r\", label=\"Actual Value\")\n",
        "sns.distplot(Yhat1, hist=False, color=\"b\", label=\"Fitted Values\" , ax=ax1)\n",
        "\n",
        "\n",
        "plt.title('Actual vs Fitted Values for Price')\n",
        "plt.xlabel('Price (in dollars)')\n",
        "plt.ylabel('Proportion of Cars')\n",
        "\n",
        "plt.show()\n",
        "plt.close()"
      ],
      "metadata": {
        "colab": {
          "base_uri": "https://localhost:8080/",
          "height": 712
        },
        "id": "gWEQJKV19nB9",
        "outputId": "ba8b755d-ae2f-4b4d-b786-228c6c5f2057"
      },
      "execution_count": 240,
      "outputs": [
        {
          "output_type": "stream",
          "name": "stderr",
          "text": [
            "/usr/local/lib/python3.7/dist-packages/seaborn/distributions.py:2619: FutureWarning: `distplot` is a deprecated function and will be removed in a future version. Please adapt your code to use either `displot` (a figure-level function with similar flexibility) or `kdeplot` (an axes-level function for kernel density plots).\n",
            "  warnings.warn(msg, FutureWarning)\n",
            "/usr/local/lib/python3.7/dist-packages/seaborn/distributions.py:2619: FutureWarning: `distplot` is a deprecated function and will be removed in a future version. Please adapt your code to use either `displot` (a figure-level function with similar flexibility) or `kdeplot` (an axes-level function for kernel density plots).\n",
            "  warnings.warn(msg, FutureWarning)\n"
          ]
        },
        {
          "output_type": "display_data",
          "data": {
            "text/plain": [
              "<Figure size 864x720 with 1 Axes>"
            ],
            "image/png": "[encoded data removed]"
          },
          "metadata": {
            "needs_background": "light"
          }
        }
      ]
    },
    {
      "cell_type": "markdown",
      "source": [
        "#Model 4"
      ],
      "metadata": {
        "id": "Y9MXcs_Q97MM"
      }
    },
    {
      "cell_type": "code",
      "source": [
        "lm4=LinearRegression()"
      ],
      "metadata": {
        "id": "0ccjS2vl99K5"
      },
      "execution_count": 241,
      "outputs": []
    },
    {
      "cell_type": "code",
      "source": [
        "x= df_house[['OverallQual']]\n",
        "y= df_house['GarageArea']"
      ],
      "metadata": {
        "id": "KIDyPCm4-LCO"
      },
      "execution_count": 242,
      "outputs": []
    },
    {
      "cell_type": "code",
      "source": [
        "lm4.fit(x,y)"
      ],
      "metadata": {
        "colab": {
          "base_uri": "https://localhost:8080/"
        },
        "id": "2ASGJIcJ-Yqn",
        "outputId": "002dbe4c-2f30-4218-b7c3-c6cd769dba8f"
      },
      "execution_count": 243,
      "outputs": [
        {
          "output_type": "execute_result",
          "data": {
            "text/plain": [
              "LinearRegression()"
            ]
          },
          "metadata": {},
          "execution_count": 243
        }
      ]
    },
    {
      "cell_type": "code",
      "source": [
        "lm4.fit(df_house[['OverallQual']],df_house[['GarageArea']])\n",
        "Yhat1=lm4.predict(x)\n",
        "\n",
        "print(f\"intercept:{lm1.intercept_}\")\n",
        "print(f\"slope:{lm1.coef_}\")"
      ],
      "metadata": {
        "colab": {
          "base_uri": "https://localhost:8080/"
        },
        "id": "xPMtuPET-bw1",
        "outputId": "6b7a3f33-642c-469c-9c36-bc9c1d0454db"
      },
      "execution_count": 244,
      "outputs": [
        {
          "output_type": "stream",
          "name": "stdout",
          "text": [
            "intercept:[-2530308.24573236]\n",
            "slope:[[1375.37346794]]\n"
          ]
        }
      ]
    },
    {
      "cell_type": "markdown",
      "source": [
        "##Evaluate "
      ],
      "metadata": {
        "id": "bvLJfXv3-pR5"
      }
    },
    {
      "cell_type": "code",
      "source": [
        "mse= mean_squared_error(df_house['GarageArea'], Yhat1)\n",
        "print('The mean square error of Saleprice and predicted value is: ', mse)\n",
        "\n",
        "r_sq=lm4.score(df_house[['OverallQual']],df_house[['GarageArea']])\n",
        "print(f\"coefficiend of determination: {r_sq}\")"
      ],
      "metadata": {
        "colab": {
          "base_uri": "https://localhost:8080/"
        },
        "id": "iKb29-Xl-rbN",
        "outputId": "d13dd495-fb8f-4ed8-e024-1509293df7db"
      },
      "execution_count": 245,
      "outputs": [
        {
          "output_type": "stream",
          "name": "stdout",
          "text": [
            "The mean square error of Saleprice and predicted value is:  31251.95013641809\n",
            "coefficiend of determination: 0.3158684549059213\n"
          ]
        }
      ]
    },
    {
      "cell_type": "code",
      "source": [
        "width = 12\n",
        "height=10\n",
        "plt.figure(figsize=(width, height))\n",
        "\n",
        "\n",
        "ax1 = sns.distplot(df_house['OverallQual'], hist=False, color=\"r\", label=\"Actual Value\")\n",
        "sns.distplot(Yhat1, hist=False, color=\"b\", label=\"Fitted Values\" , ax=ax1)\n",
        "\n",
        "\n",
        "plt.title('Actual vs Fitted Values for Price')\n",
        "plt.xlabel('Price (in dollars)')\n",
        "plt.ylabel('Proportion of Cars')\n",
        "\n",
        "plt.show()\n",
        "plt.close()"
      ],
      "metadata": {
        "colab": {
          "base_uri": "https://localhost:8080/",
          "height": 712
        },
        "id": "z8KL3aiC_MaC",
        "outputId": "e05f5d6b-2c6d-4675-e125-797fa9dcbd42"
      },
      "execution_count": 246,
      "outputs": [
        {
          "output_type": "stream",
          "name": "stderr",
          "text": [
            "/usr/local/lib/python3.7/dist-packages/seaborn/distributions.py:2619: FutureWarning: `distplot` is a deprecated function and will be removed in a future version. Please adapt your code to use either `displot` (a figure-level function with similar flexibility) or `kdeplot` (an axes-level function for kernel density plots).\n",
            "  warnings.warn(msg, FutureWarning)\n",
            "/usr/local/lib/python3.7/dist-packages/seaborn/distributions.py:2619: FutureWarning: `distplot` is a deprecated function and will be removed in a future version. Please adapt your code to use either `displot` (a figure-level function with similar flexibility) or `kdeplot` (an axes-level function for kernel density plots).\n",
            "  warnings.warn(msg, FutureWarning)\n"
          ]
        },
        {
          "output_type": "display_data",
          "data": {
            "text/plain": [
              "<Figure size 864x720 with 1 Axes>"
            ],
            "image/png": "[encoded data removed]"
          },
          "metadata": {
            "needs_background": "light"
          }
        }
      ]
    },
    {
      "cell_type": "markdown",
      "source": [
        "#Model 5"
      ],
      "metadata": {
        "id": "KrLelUzN_nAZ"
      }
    },
    {
      "cell_type": "code",
      "source": [
        "lm5=LinearRegression()"
      ],
      "metadata": {
        "id": "BFq7wRoE_oYR"
      },
      "execution_count": 247,
      "outputs": []
    },
    {
      "cell_type": "code",
      "source": [
        "x= df_house[['1stFlrSF']]\n",
        "y= df_house['2ndFlrSF']"
      ],
      "metadata": {
        "id": "PtOuAAv5_2TQ"
      },
      "execution_count": 248,
      "outputs": []
    },
    {
      "cell_type": "code",
      "source": [
        "lm5.fit(x,y)"
      ],
      "metadata": {
        "colab": {
          "base_uri": "https://localhost:8080/"
        },
        "id": "R2nEUwh-ACHw",
        "outputId": "fb06c3ce-1e2a-4cd6-dc07-fbc94ddc95ed"
      },
      "execution_count": 249,
      "outputs": [
        {
          "output_type": "execute_result",
          "data": {
            "text/plain": [
              "LinearRegression()"
            ]
          },
          "metadata": {},
          "execution_count": 249
        }
      ]
    },
    {
      "cell_type": "code",
      "source": [
        "lm5.fit(df_house[['1stFlrSF']],df_house[['2ndFlrSF']])\n",
        "Yhat1=lm5.predict(x)\n",
        "\n",
        "print(f\"intercept:{lm1.intercept_}\")\n",
        "print(f\"slope:{lm1.coef_}\")"
      ],
      "metadata": {
        "colab": {
          "base_uri": "https://localhost:8080/"
        },
        "id": "HXNvO9wFAFTX",
        "outputId": "931eb4b6-2402-4a36-c752-cb15d87ac94a"
      },
      "execution_count": 250,
      "outputs": [
        {
          "output_type": "stream",
          "name": "stdout",
          "text": [
            "intercept:[-2530308.24573236]\n",
            "slope:[[1375.37346794]]\n"
          ]
        }
      ]
    },
    {
      "cell_type": "markdown",
      "source": [
        "##Evaluate "
      ],
      "metadata": {
        "id": "39d8df9OAPeZ"
      }
    },
    {
      "cell_type": "code",
      "source": [
        "mse= mean_squared_error(df_house['2ndFlrSF'], Yhat1)\n",
        "print('The mean square error of Saleprice and predicted value is: ', mse)\n",
        "\n",
        "r_sq=lm5.score(df_house[['1stFlrSF']],df_house[['2ndFlrSF']])\n",
        "print(f\"coefficiend of determination: {r_sq}\")"
      ],
      "metadata": {
        "colab": {
          "base_uri": "https://localhost:8080/"
        },
        "id": "N6LWNq_KARmn",
        "outputId": "193a449a-99b4-4aa7-8400-09c349c9723b"
      },
      "execution_count": 251,
      "outputs": [
        {
          "output_type": "stream",
          "name": "stdout",
          "text": [
            "The mean square error of Saleprice and predicted value is:  182606.5998471715\n",
            "coefficiend of determination: 0.04106547467482524\n"
          ]
        }
      ]
    },
    {
      "cell_type": "code",
      "source": [
        "width = 12\n",
        "height=10\n",
        "plt.figure(figsize=(width, height))\n",
        "\n",
        "\n",
        "ax1 = sns.distplot(df_house['1stFlrSF'], hist=False, color=\"r\", label=\"Actual Value\")\n",
        "sns.distplot(Yhat1, hist=False, color=\"b\", label=\"Fitted Values\" , ax=ax1)\n",
        "\n",
        "\n",
        "plt.title('Actual vs Fitted Values for Price')\n",
        "plt.xlabel('Price (in dollars)')\n",
        "plt.ylabel('Proportion of Cars')\n",
        "\n",
        "plt.show()\n",
        "plt.close()"
      ],
      "metadata": {
        "colab": {
          "base_uri": "https://localhost:8080/",
          "height": 712
        },
        "id": "8-q4WUKyAfIF",
        "outputId": "29bd05d0-fd84-4664-b7e1-78ae48db8af5"
      },
      "execution_count": 252,
      "outputs": [
        {
          "output_type": "stream",
          "name": "stderr",
          "text": [
            "/usr/local/lib/python3.7/dist-packages/seaborn/distributions.py:2619: FutureWarning: `distplot` is a deprecated function and will be removed in a future version. Please adapt your code to use either `displot` (a figure-level function with similar flexibility) or `kdeplot` (an axes-level function for kernel density plots).\n",
            "  warnings.warn(msg, FutureWarning)\n",
            "/usr/local/lib/python3.7/dist-packages/seaborn/distributions.py:2619: FutureWarning: `distplot` is a deprecated function and will be removed in a future version. Please adapt your code to use either `displot` (a figure-level function with similar flexibility) or `kdeplot` (an axes-level function for kernel density plots).\n",
            "  warnings.warn(msg, FutureWarning)\n"
          ]
        },
        {
          "output_type": "display_data",
          "data": {
            "text/plain": [
              "<Figure size 864x720 with 1 Axes>"
            ],
            "image/png": "[encoded data removed]"
          },
          "metadata": {
            "needs_background": "light"
          }
        }
      ]
    },
    {
      "cell_type": "markdown",
      "source": [
        "#Model 6"
      ],
      "metadata": {
        "id": "lBCHQxx1Mcsx"
      }
    },
    {
      "cell_type": "code",
      "source": [
        "lm6= LinearRegression()"
      ],
      "metadata": {
        "id": "Rcuz_WthMeSP"
      },
      "execution_count": 253,
      "outputs": []
    },
    {
      "cell_type": "code",
      "source": [
        "x= df_house[['MoSold']]\n",
        "y= df_house['GarageArea']"
      ],
      "metadata": {
        "id": "R60i8jfEMgla"
      },
      "execution_count": 254,
      "outputs": []
    },
    {
      "cell_type": "code",
      "source": [
        "lm6.fit(x,y)"
      ],
      "metadata": {
        "colab": {
          "base_uri": "https://localhost:8080/"
        },
        "id": "hkITsqGMa907",
        "outputId": "e531a92b-b9e0-49a8-918c-244acf11b95d"
      },
      "execution_count": 255,
      "outputs": [
        {
          "output_type": "execute_result",
          "data": {
            "text/plain": [
              "LinearRegression()"
            ]
          },
          "metadata": {},
          "execution_count": 255
        }
      ]
    },
    {
      "cell_type": "code",
      "source": [
        "lm6.fit(df_house[['MoSold']],df_house[['GarageArea']])\n",
        "Yhat1=lm6.predict(x)\n",
        "\n",
        "print(f\"intercept:{lm1.intercept_}\")\n",
        "print(f\"slope:{lm1.coef_}\")"
      ],
      "metadata": {
        "colab": {
          "base_uri": "https://localhost:8080/"
        },
        "id": "lqyRIFSCdIFz",
        "outputId": "a6dcbbc4-b173-4643-9c53-13e85bf26a88"
      },
      "execution_count": 256,
      "outputs": [
        {
          "output_type": "stream",
          "name": "stdout",
          "text": [
            "intercept:[-2530308.24573236]\n",
            "slope:[[1375.37346794]]\n"
          ]
        }
      ]
    },
    {
      "cell_type": "markdown",
      "source": [
        "##Evaluate "
      ],
      "metadata": {
        "id": "fDi0uAK1g26T"
      }
    },
    {
      "cell_type": "code",
      "source": [
        "mse= mean_squared_error(df_house['GarageArea'], Yhat1)\n",
        "print('The mean square error of Saleprice and predicted value is: ', mse)\n",
        "\n",
        "r_sq=lm6.score(df_house[['MoSold']],df_house[['GarageArea']])\n",
        "print(f\"coefficiend of determination: {r_sq}\")"
      ],
      "metadata": {
        "colab": {
          "base_uri": "https://localhost:8080/"
        },
        "id": "74wmv-b3g4vM",
        "outputId": "31b6f68a-d9dd-47ba-f040-31911f926615"
      },
      "execution_count": 257,
      "outputs": [
        {
          "output_type": "stream",
          "name": "stdout",
          "text": [
            "The mean square error of Saleprice and predicted value is:  45645.45322191517\n",
            "coefficiend of determination: 0.0007825334765676484\n"
          ]
        }
      ]
    },
    {
      "cell_type": "code",
      "source": [
        "width = 12\n",
        "height=10\n",
        "plt.figure(figsize=(width, height))\n",
        "\n",
        "\n",
        "ax1 = sns.distplot(df_house['MoSold'], hist=False, color=\"r\", label=\"Actual Value\")\n",
        "sns.distplot(Yhat1, hist=False, color=\"b\", label=\"Fitted Values\" , ax=ax1)\n",
        "\n",
        "\n",
        "plt.title('Actual vs Fitted Values for Price')\n",
        "plt.xlabel('Price (in dollars)')\n",
        "plt.ylabel('Proportion of Cars')\n",
        "\n",
        "plt.show()\n",
        "plt.close()"
      ],
      "metadata": {
        "colab": {
          "base_uri": "https://localhost:8080/",
          "height": 712
        },
        "id": "Gyx5CwOFhcs6",
        "outputId": "d96d34ed-9b16-436d-c1c0-df22cbed7246"
      },
      "execution_count": 258,
      "outputs": [
        {
          "output_type": "stream",
          "name": "stderr",
          "text": [
            "/usr/local/lib/python3.7/dist-packages/seaborn/distributions.py:2619: FutureWarning: `distplot` is a deprecated function and will be removed in a future version. Please adapt your code to use either `displot` (a figure-level function with similar flexibility) or `kdeplot` (an axes-level function for kernel density plots).\n",
            "  warnings.warn(msg, FutureWarning)\n",
            "/usr/local/lib/python3.7/dist-packages/seaborn/distributions.py:2619: FutureWarning: `distplot` is a deprecated function and will be removed in a future version. Please adapt your code to use either `displot` (a figure-level function with similar flexibility) or `kdeplot` (an axes-level function for kernel density plots).\n",
            "  warnings.warn(msg, FutureWarning)\n"
          ]
        },
        {
          "output_type": "display_data",
          "data": {
            "text/plain": [
              "<Figure size 864x720 with 1 Axes>"
            ],
            "image/png": "[encoded data removed]"
          },
          "metadata": {
            "needs_background": "light"
          }
        }
      ]
    },
    {
      "cell_type": "markdown",
      "source": [
        "#Model 7"
      ],
      "metadata": {
        "id": "jtKIaFswiVVj"
      }
    },
    {
      "cell_type": "code",
      "source": [
        "lm7= LinearRegression()"
      ],
      "metadata": {
        "id": "uzSFKOwGiXxt"
      },
      "execution_count": 259,
      "outputs": []
    },
    {
      "cell_type": "code",
      "source": [
        "x= df_house[['BsmtFinSF1']]\n",
        "y= df_house['BsmtFinSF2']"
      ],
      "metadata": {
        "id": "g6INH8LBiZSz"
      },
      "execution_count": 260,
      "outputs": []
    },
    {
      "cell_type": "code",
      "source": [
        "lm7.fit(x,y)"
      ],
      "metadata": {
        "colab": {
          "base_uri": "https://localhost:8080/"
        },
        "id": "lxpkCvJPi1mo",
        "outputId": "0143662c-9e2e-4fba-8ce6-f04da89e98e6"
      },
      "execution_count": 261,
      "outputs": [
        {
          "output_type": "execute_result",
          "data": {
            "text/plain": [
              "LinearRegression()"
            ]
          },
          "metadata": {},
          "execution_count": 261
        }
      ]
    },
    {
      "cell_type": "code",
      "source": [
        "lm7.fit(df_house[['BsmtFinSF1']],df_house[['BsmtFinSF2']])\n",
        "Yhat1=lm7.predict(x)\n",
        "\n",
        "print(f\"intercept:{lm1.intercept_}\")\n",
        "print(f\"slope:{lm1.coef_}\")"
      ],
      "metadata": {
        "colab": {
          "base_uri": "https://localhost:8080/"
        },
        "id": "0kOcL-6Ui5HF",
        "outputId": "d2d4a246-59a4-472a-940d-b98550b8e47e"
      },
      "execution_count": 262,
      "outputs": [
        {
          "output_type": "stream",
          "name": "stdout",
          "text": [
            "intercept:[-2530308.24573236]\n",
            "slope:[[1375.37346794]]\n"
          ]
        }
      ]
    },
    {
      "cell_type": "markdown",
      "source": [
        "##Evaluate "
      ],
      "metadata": {
        "id": "P3v7g-pQjOWW"
      }
    },
    {
      "cell_type": "code",
      "source": [
        "mse= mean_squared_error(df_house['BsmtFinSF2'], Yhat1)\n",
        "print('The mean square error of Saleprice and predicted value is: ', mse)\n",
        "\n",
        "r_sq=lm7.score(df_house[['BsmtFinSF1']],df_house[['BsmtFinSF2']])\n",
        "print(f\"coefficiend of determination: {r_sq}\")"
      ],
      "metadata": {
        "colab": {
          "base_uri": "https://localhost:8080/"
        },
        "id": "Ar1eub45jKuP",
        "outputId": "359e850e-f1b0-429f-8bb7-f8d066eadc27"
      },
      "execution_count": 263,
      "outputs": [
        {
          "output_type": "stream",
          "name": "stdout",
          "text": [
            "The mean square error of Saleprice and predicted value is:  25940.762306526125\n",
            "coefficiend of determination: 0.0025117537874861373\n"
          ]
        }
      ]
    },
    {
      "cell_type": "code",
      "source": [
        "width = 12\n",
        "height=10\n",
        "plt.figure(figsize=(width, height))\n",
        "\n",
        "\n",
        "ax1 = sns.distplot(df_house['BsmtFinSF1'], hist=False, color=\"r\", label=\"Actual Value\")\n",
        "sns.distplot(Yhat1, hist=False, color=\"b\", label=\"Fitted Values\" , ax=ax1)\n",
        "\n",
        "\n",
        "plt.title('Actual vs Fitted Values for Price')\n",
        "plt.xlabel('Price (in dollars)')\n",
        "plt.ylabel('Proportion of Cars')\n",
        "\n",
        "plt.show()\n",
        "plt.close()"
      ],
      "metadata": {
        "colab": {
          "base_uri": "https://localhost:8080/",
          "height": 712
        },
        "id": "nnFqgTaFj_nD",
        "outputId": "c4500466-c331-40f8-e6b9-29627c63b812"
      },
      "execution_count": 264,
      "outputs": [
        {
          "output_type": "stream",
          "name": "stderr",
          "text": [
            "/usr/local/lib/python3.7/dist-packages/seaborn/distributions.py:2619: FutureWarning: `distplot` is a deprecated function and will be removed in a future version. Please adapt your code to use either `displot` (a figure-level function with similar flexibility) or `kdeplot` (an axes-level function for kernel density plots).\n",
            "  warnings.warn(msg, FutureWarning)\n",
            "/usr/local/lib/python3.7/dist-packages/seaborn/distributions.py:2619: FutureWarning: `distplot` is a deprecated function and will be removed in a future version. Please adapt your code to use either `displot` (a figure-level function with similar flexibility) or `kdeplot` (an axes-level function for kernel density plots).\n",
            "  warnings.warn(msg, FutureWarning)\n"
          ]
        },
        {
          "output_type": "display_data",
          "data": {
            "text/plain": [
              "<Figure size 864x720 with 1 Axes>"
            ],
            "image/png": "[encoded data removed]"
          },
          "metadata": {
            "needs_background": "light"
          }
        }
      ]
    },
    {
      "cell_type": "markdown",
      "source": [
        "#Model 8"
      ],
      "metadata": {
        "id": "LdbAY5O_CYvc"
      }
    },
    {
      "cell_type": "code",
      "source": [
        "lm8= LinearRegression()"
      ],
      "metadata": {
        "id": "8SmMpC4DCiXe"
      },
      "execution_count": 265,
      "outputs": []
    },
    {
      "cell_type": "code",
      "source": [
        "x= df_house[['FullBath','HalfBath']]\n",
        "y= df_house['SalePrice']"
      ],
      "metadata": {
        "id": "e0ksyBwrCnUn"
      },
      "execution_count": 266,
      "outputs": []
    },
    {
      "cell_type": "code",
      "source": [
        "lm8.fit(x,y)"
      ],
      "metadata": {
        "colab": {
          "base_uri": "https://localhost:8080/"
        },
        "id": "u20KukYYDEym",
        "outputId": "aa8f86b3-7c50-48ab-f55e-262db417ab6c"
      },
      "execution_count": 267,
      "outputs": [
        {
          "output_type": "execute_result",
          "data": {
            "text/plain": [
              "LinearRegression()"
            ]
          },
          "metadata": {},
          "execution_count": 267
        }
      ]
    },
    {
      "cell_type": "code",
      "source": [
        "lm8.fit(df_house[['FullBath','HalfBath']],df_house[['SalePrice']])\n",
        "Yhat1=lm8.predict(x)\n",
        "\n",
        "print(f\"intercept:{lm1.intercept_}\")\n",
        "print(f\"slope:{lm1.coef_}\")"
      ],
      "metadata": {
        "colab": {
          "base_uri": "https://localhost:8080/"
        },
        "id": "nrYhZmVkDJw5",
        "outputId": "ba9aea4a-8ddd-4df3-ae6b-f14156c065d0"
      },
      "execution_count": 268,
      "outputs": [
        {
          "output_type": "stream",
          "name": "stdout",
          "text": [
            "intercept:[-2530308.24573236]\n",
            "slope:[[1375.37346794]]\n"
          ]
        }
      ]
    },
    {
      "cell_type": "markdown",
      "source": [
        "##Evaluate "
      ],
      "metadata": {
        "id": "F1EQpcoHDiW1"
      }
    },
    {
      "cell_type": "code",
      "source": [
        "mse= mean_squared_error(df_house['SalePrice'], Yhat1)\n",
        "print('The mean square error of Saleprice and predicted value is: ', mse)\n",
        "\n",
        "r_sq=lm8.score(df_house[['FullBath','HalfBath']],df_house[['SalePrice']])\n",
        "print(f\"coefficiend of determination: {r_sq}\")"
      ],
      "metadata": {
        "colab": {
          "base_uri": "https://localhost:8080/"
        },
        "id": "sauDghxEDkIo",
        "outputId": "ba3e8ae1-6e85-40eb-b938-f4e9d5e2ab20"
      },
      "execution_count": 269,
      "outputs": [
        {
          "output_type": "stream",
          "name": "stdout",
          "text": [
            "The mean square error of Saleprice and predicted value is:  4047211057.9371095\n",
            "coefficiend of determination: 0.35827703701075364\n"
          ]
        }
      ]
    },
    {
      "cell_type": "markdown",
      "source": [
        "#Dummy Variables "
      ],
      "metadata": {
        "id": "gsUjPlq-tZ5P"
      }
    },
    {
      "cell_type": "code",
      "source": [
        "def model(X=True, Y=True):\n",
        "  lm = LinearRegression()\n",
        "\n",
        "  lm.fit(X,Y)\n",
        "  Yhat = lm.predict(X)\n",
        "\n",
        "  plt.figure()\n",
        "\n",
        "  ax1 = sns.distplot(Y, hist=False, color=\"r\", label=\"Actual Value\")\n",
        "  sns.distplot(Yhat, hist=False, color=\"b\", label=\"Fitted Values\" , ax=ax1)\n",
        "\n",
        "  plt.title('Actual vs Fitted Values for Price')\n",
        "  plt.xlabel('Price (in dollars)')\n",
        "  plt.ylabel('Proportion of Cars')\n",
        "\n",
        "  plt.show()\n",
        "  plt.close()\n",
        "  return"
      ],
      "metadata": {
        "id": "AOscIvgZtdik"
      },
      "execution_count": 270,
      "outputs": []
    },
    {
      "cell_type": "code",
      "source": [
        "lm = LinearRegression()\n",
        "\n",
        "X= df_house[['YearBuilt']]\n",
        "Y= df_house['SalePrice']\n",
        "\n",
        "lm.fit(X,Y)\n",
        "Yhat = lm.predict(X)\n",
        "\n",
        "plt.figure()\n",
        "\n",
        "ax1 = sns.distplot(Y, hist=False, color=\"r\", label=\"Actual Value\")\n",
        "sns.distplot(Yhat, hist=False, color=\"b\", label=\"Fitted Values\" , ax=ax1)\n",
        "\n",
        "plt.title('Actual vs Fitted Values for Price')\n",
        "plt.xlabel('Price (in dollars)')\n",
        "plt.ylabel('Proportion of Cars')\n",
        "\n",
        "plt.show()\n",
        "plt.close()"
      ],
      "metadata": {
        "colab": {
          "base_uri": "https://localhost:8080/",
          "height": 386
        },
        "id": "MVStKJl1tmwp",
        "outputId": "e468b187-bd7b-4ff2-86ea-540fd3b463a8"
      },
      "execution_count": 271,
      "outputs": [
        {
          "output_type": "stream",
          "name": "stderr",
          "text": [
            "/usr/local/lib/python3.7/dist-packages/seaborn/distributions.py:2619: FutureWarning: `distplot` is a deprecated function and will be removed in a future version. Please adapt your code to use either `displot` (a figure-level function with similar flexibility) or `kdeplot` (an axes-level function for kernel density plots).\n",
            "  warnings.warn(msg, FutureWarning)\n",
            "/usr/local/lib/python3.7/dist-packages/seaborn/distributions.py:2619: FutureWarning: `distplot` is a deprecated function and will be removed in a future version. Please adapt your code to use either `displot` (a figure-level function with similar flexibility) or `kdeplot` (an axes-level function for kernel density plots).\n",
            "  warnings.warn(msg, FutureWarning)\n"
          ]
        },
        {
          "output_type": "display_data",
          "data": {
            "text/plain": [
              "<Figure size 432x288 with 1 Axes>"
            ],
            "image/png": "[encoded data removed]"
          },
          "metadata": {
            "needs_background": "light"
          }
        }
      ]
    },
    {
      "cell_type": "code",
      "source": [
        "model(X=df_house[['LotArea','OverallQual']], Y=df_house['SalePrice'])"
      ],
      "metadata": {
        "colab": {
          "base_uri": "https://localhost:8080/",
          "height": 386
        },
        "id": "p1yEb-B-uoF8",
        "outputId": "aa64ee94-dff1-4e90-8460-6115d8ab8932"
      },
      "execution_count": 272,
      "outputs": [
        {
          "output_type": "stream",
          "name": "stderr",
          "text": [
            "/usr/local/lib/python3.7/dist-packages/seaborn/distributions.py:2619: FutureWarning: `distplot` is a deprecated function and will be removed in a future version. Please adapt your code to use either `displot` (a figure-level function with similar flexibility) or `kdeplot` (an axes-level function for kernel density plots).\n",
            "  warnings.warn(msg, FutureWarning)\n",
            "/usr/local/lib/python3.7/dist-packages/seaborn/distributions.py:2619: FutureWarning: `distplot` is a deprecated function and will be removed in a future version. Please adapt your code to use either `displot` (a figure-level function with similar flexibility) or `kdeplot` (an axes-level function for kernel density plots).\n",
            "  warnings.warn(msg, FutureWarning)\n"
          ]
        },
        {
          "output_type": "display_data",
          "data": {
            "text/plain": [
              "<Figure size 432x288 with 1 Axes>"
            ],
            "image/png": "[encoded data removed]"
          },
          "metadata": {
            "needs_background": "light"
          }
        }
      ]
    },
    {
      "cell_type": "code",
      "source": [
        "df_house['BldgType'].dtype"
      ],
      "metadata": {
        "colab": {
          "base_uri": "https://localhost:8080/"
        },
        "id": "V5bsmdFtvx5X",
        "outputId": "c0f04ab1-ad8d-41d3-d0eb-4c220762dd0f"
      },
      "execution_count": 273,
      "outputs": [
        {
          "output_type": "execute_result",
          "data": {
            "text/plain": [
              "dtype('O')"
            ]
          },
          "metadata": {},
          "execution_count": 273
        }
      ]
    },
    {
      "cell_type": "code",
      "source": [
        "df_house['BldgType'].unique()"
      ],
      "metadata": {
        "colab": {
          "base_uri": "https://localhost:8080/"
        },
        "id": "YDMgQF_hv5zw",
        "outputId": "bc3ea75d-0549-4e6d-85ab-0bd114e909f2"
      },
      "execution_count": 274,
      "outputs": [
        {
          "output_type": "execute_result",
          "data": {
            "text/plain": [
              "array(['1Fam', '2fmCon', 'Duplex', 'TwnhsE', 'Twnhs'], dtype=object)"
            ]
          },
          "metadata": {},
          "execution_count": 274
        }
      ]
    },
    {
      "cell_type": "markdown",
      "source": [
        "##Dummy Variable 1"
      ],
      "metadata": {
        "id": "XOuBkqt6xaXg"
      }
    },
    {
      "cell_type": "code",
      "source": [
        "df_house['YearBuilt'].dtype"
      ],
      "metadata": {
        "colab": {
          "base_uri": "https://localhost:8080/"
        },
        "id": "KUo84-49wBL7",
        "outputId": "ae880ee1-439d-4f3b-8fe6-8e6fddd2fe50"
      },
      "execution_count": 275,
      "outputs": [
        {
          "output_type": "execute_result",
          "data": {
            "text/plain": [
              "dtype('int64')"
            ]
          },
          "metadata": {},
          "execution_count": 275
        }
      ]
    },
    {
      "cell_type": "code",
      "source": [
        "YearBuilt=df_house['YearBuilt'].unique()\n",
        "YearBuilt[0:3]"
      ],
      "metadata": {
        "colab": {
          "base_uri": "https://localhost:8080/"
        },
        "id": "DXn3mrFL3Eo1",
        "outputId": "fc13b357-c1ac-41ea-a8d1-a47a5a004557"
      },
      "execution_count": 276,
      "outputs": [
        {
          "output_type": "execute_result",
          "data": {
            "text/plain": [
              "array([2003, 1976, 2001])"
            ]
          },
          "metadata": {},
          "execution_count": 276
        }
      ]
    },
    {
      "cell_type": "code",
      "source": [
        "YearBuilt=df_house['YearBuilt'].unique()\n",
        "df_house[YearBuilt[0:2]]"
      ],
      "metadata": {
        "colab": {
          "base_uri": "https://localhost:8080/",
          "height": 336
        },
        "id": "0KJmai9v3Q0r",
        "outputId": "36c608c1-07b4-4822-e255-942b1a3eaa0e"
      },
      "execution_count": 277,
      "outputs": [
        {
          "output_type": "error",
          "ename": "KeyError",
          "evalue": "ignored",
          "traceback": [
            "\u001b[0;31m---------------------------------------------------------------------------\u001b[0m",
            "\u001b[0;31mKeyError\u001b[0m                                  Traceback (most recent call last)",
            "\u001b[0;32m<ipython-input-277-8c74deb5b792>\u001b[0m in \u001b[0;36m<module>\u001b[0;34m\u001b[0m\n\u001b[1;32m      1\u001b[0m \u001b[0mYearBuilt\u001b[0m\u001b[0;34m=\u001b[0m\u001b[0mdf_house\u001b[0m\u001b[0;34m[\u001b[0m\u001b[0;34m'YearBuilt'\u001b[0m\u001b[0;34m]\u001b[0m\u001b[0;34m.\u001b[0m\u001b[0munique\u001b[0m\u001b[0;34m(\u001b[0m\u001b[0;34m)\u001b[0m\u001b[0;34m\u001b[0m\u001b[0;34m\u001b[0m\u001b[0m\n\u001b[0;32m----> 2\u001b[0;31m \u001b[0mdf_house\u001b[0m\u001b[0;34m[\u001b[0m\u001b[0mYearBuilt\u001b[0m\u001b[0;34m[\u001b[0m\u001b[0;36m0\u001b[0m\u001b[0;34m:\u001b[0m\u001b[0;36m2\u001b[0m\u001b[0;34m]\u001b[0m\u001b[0;34m]\u001b[0m\u001b[0;34m\u001b[0m\u001b[0;34m\u001b[0m\u001b[0m\n\u001b[0m",
            "\u001b[0;32m/usr/local/lib/python3.7/dist-packages/pandas/core/frame.py\u001b[0m in \u001b[0;36m__getitem__\u001b[0;34m(self, key)\u001b[0m\n\u001b[1;32m   3462\u001b[0m             \u001b[0;32mif\u001b[0m \u001b[0mis_iterator\u001b[0m\u001b[0;34m(\u001b[0m\u001b[0mkey\u001b[0m\u001b[0;34m)\u001b[0m\u001b[0;34m:\u001b[0m\u001b[0;34m\u001b[0m\u001b[0;34m\u001b[0m\u001b[0m\n\u001b[1;32m   3463\u001b[0m                 \u001b[0mkey\u001b[0m \u001b[0;34m=\u001b[0m \u001b[0mlist\u001b[0m\u001b[0;34m(\u001b[0m\u001b[0mkey\u001b[0m\u001b[0;34m)\u001b[0m\u001b[0;34m\u001b[0m\u001b[0;34m\u001b[0m\u001b[0m\n\u001b[0;32m-> 3464\u001b[0;31m             \u001b[0mindexer\u001b[0m \u001b[0;34m=\u001b[0m \u001b[0mself\u001b[0m\u001b[0;34m.\u001b[0m\u001b[0mloc\u001b[0m\u001b[0;34m.\u001b[0m\u001b[0m_get_listlike_indexer\u001b[0m\u001b[0;34m(\u001b[0m\u001b[0mkey\u001b[0m\u001b[0;34m,\u001b[0m \u001b[0maxis\u001b[0m\u001b[0;34m=\u001b[0m\u001b[0;36m1\u001b[0m\u001b[0;34m)\u001b[0m\u001b[0;34m[\u001b[0m\u001b[0;36m1\u001b[0m\u001b[0;34m]\u001b[0m\u001b[0;34m\u001b[0m\u001b[0;34m\u001b[0m\u001b[0m\n\u001b[0m\u001b[1;32m   3465\u001b[0m \u001b[0;34m\u001b[0m\u001b[0m\n\u001b[1;32m   3466\u001b[0m         \u001b[0;31m# take() does not accept boolean indexers\u001b[0m\u001b[0;34m\u001b[0m\u001b[0;34m\u001b[0m\u001b[0;34m\u001b[0m\u001b[0m\n",
            "\u001b[0;32m/usr/local/lib/python3.7/dist-packages/pandas/core/indexing.py\u001b[0m in \u001b[0;36m_get_listlike_indexer\u001b[0;34m(self, key, axis)\u001b[0m\n\u001b[1;32m   1312\u001b[0m             \u001b[0mkeyarr\u001b[0m\u001b[0;34m,\u001b[0m \u001b[0mindexer\u001b[0m\u001b[0;34m,\u001b[0m \u001b[0mnew_indexer\u001b[0m \u001b[0;34m=\u001b[0m \u001b[0max\u001b[0m\u001b[0;34m.\u001b[0m\u001b[0m_reindex_non_unique\u001b[0m\u001b[0;34m(\u001b[0m\u001b[0mkeyarr\u001b[0m\u001b[0;34m)\u001b[0m\u001b[0;34m\u001b[0m\u001b[0;34m\u001b[0m\u001b[0m\n\u001b[1;32m   1313\u001b[0m \u001b[0;34m\u001b[0m\u001b[0m\n\u001b[0;32m-> 1314\u001b[0;31m         \u001b[0mself\u001b[0m\u001b[0;34m.\u001b[0m\u001b[0m_validate_read_indexer\u001b[0m\u001b[0;34m(\u001b[0m\u001b[0mkeyarr\u001b[0m\u001b[0;34m,\u001b[0m \u001b[0mindexer\u001b[0m\u001b[0;34m,\u001b[0m \u001b[0maxis\u001b[0m\u001b[0;34m)\u001b[0m\u001b[0;34m\u001b[0m\u001b[0;34m\u001b[0m\u001b[0m\n\u001b[0m\u001b[1;32m   1315\u001b[0m \u001b[0;34m\u001b[0m\u001b[0m\n\u001b[1;32m   1316\u001b[0m         if needs_i8_conversion(ax.dtype) or isinstance(\n",
            "\u001b[0;32m/usr/local/lib/python3.7/dist-packages/pandas/core/indexing.py\u001b[0m in \u001b[0;36m_validate_read_indexer\u001b[0;34m(self, key, indexer, axis)\u001b[0m\n\u001b[1;32m   1372\u001b[0m                 \u001b[0;32mif\u001b[0m \u001b[0muse_interval_msg\u001b[0m\u001b[0;34m:\u001b[0m\u001b[0;34m\u001b[0m\u001b[0;34m\u001b[0m\u001b[0m\n\u001b[1;32m   1373\u001b[0m                     \u001b[0mkey\u001b[0m \u001b[0;34m=\u001b[0m \u001b[0mlist\u001b[0m\u001b[0;34m(\u001b[0m\u001b[0mkey\u001b[0m\u001b[0;34m)\u001b[0m\u001b[0;34m\u001b[0m\u001b[0;34m\u001b[0m\u001b[0m\n\u001b[0;32m-> 1374\u001b[0;31m                 \u001b[0;32mraise\u001b[0m \u001b[0mKeyError\u001b[0m\u001b[0;34m(\u001b[0m\u001b[0;34mf\"None of [{key}] are in the [{axis_name}]\"\u001b[0m\u001b[0;34m)\u001b[0m\u001b[0;34m\u001b[0m\u001b[0;34m\u001b[0m\u001b[0m\n\u001b[0m\u001b[1;32m   1375\u001b[0m \u001b[0;34m\u001b[0m\u001b[0m\n\u001b[1;32m   1376\u001b[0m             \u001b[0mnot_found\u001b[0m \u001b[0;34m=\u001b[0m \u001b[0mlist\u001b[0m\u001b[0;34m(\u001b[0m\u001b[0mensure_index\u001b[0m\u001b[0;34m(\u001b[0m\u001b[0mkey\u001b[0m\u001b[0;34m)\u001b[0m\u001b[0;34m[\u001b[0m\u001b[0mmissing_mask\u001b[0m\u001b[0;34m.\u001b[0m\u001b[0mnonzero\u001b[0m\u001b[0;34m(\u001b[0m\u001b[0;34m)\u001b[0m\u001b[0;34m[\u001b[0m\u001b[0;36m0\u001b[0m\u001b[0;34m]\u001b[0m\u001b[0;34m]\u001b[0m\u001b[0;34m.\u001b[0m\u001b[0munique\u001b[0m\u001b[0;34m(\u001b[0m\u001b[0;34m)\u001b[0m\u001b[0;34m)\u001b[0m\u001b[0;34m\u001b[0m\u001b[0;34m\u001b[0m\u001b[0m\n",
            "\u001b[0;31mKeyError\u001b[0m: \"None of [Int64Index([2003, 1976], dtype='int64')] are in the [columns]\""
          ]
        }
      ]
    },
    {
      "cell_type": "code",
      "source": [
        "df_house['YearBuilt'].unique()"
      ],
      "metadata": {
        "colab": {
          "base_uri": "https://localhost:8080/"
        },
        "id": "xIz4LomlwNQw",
        "outputId": "37652368-9823-4caf-8268-b069d0f03416"
      },
      "execution_count": 278,
      "outputs": [
        {
          "output_type": "execute_result",
          "data": {
            "text/plain": [
              "array([2003, 1976, 2001, 1915, 2000, 1993, 2004, 1973, 1931, 1939, 1965,\n",
              "       2005, 1962, 2006, 1960, 1929, 1970, 1967, 1958, 1930, 2002, 1968,\n",
              "       2007, 1951, 1957, 1927, 1920, 1966, 1959, 1994, 1954, 1953, 1955,\n",
              "       1983, 1975, 1997, 1934, 1963, 1981, 1964, 1999, 1972, 1921, 1945,\n",
              "       1982, 1998, 1956, 1948, 1910, 1995, 1991, 2009, 1950, 1961, 1977,\n",
              "       1985, 1979, 1885, 1919, 1990, 1969, 1935, 1988, 1971, 1952, 1936,\n",
              "       1923, 1924, 1984, 1926, 1940, 1941, 1987, 1986, 2008, 1908, 1892,\n",
              "       1916, 1932, 1918, 1912, 1947, 1925, 1900, 1980, 1989, 1992, 1949,\n",
              "       1880, 1928, 1978, 1922, 1996, 2010, 1946, 1913, 1937, 1942, 1938,\n",
              "       1974, 1893, 1914, 1906, 1890, 1898, 1904, 1882, 1875, 1911, 1917,\n",
              "       1872, 1905])"
            ]
          },
          "metadata": {},
          "execution_count": 278
        }
      ]
    },
    {
      "cell_type": "code",
      "source": [
        "df_house.head()"
      ],
      "metadata": {
        "colab": {
          "base_uri": "https://localhost:8080/",
          "height": 280
        },
        "id": "rc6qln1XSh8m",
        "outputId": "5091434d-964b-454f-e339-3bab91a1eb52"
      },
      "execution_count": 287,
      "outputs": [
        {
          "output_type": "execute_result",
          "data": {
            "text/plain": [
              "   Hip  Gable  1872  1875  1880  1882  1885  1890  1892  1893  ...  PoolArea  \\\n",
              "0    0      1     0     0     0     0     0     0     0     0  ...         0   \n",
              "1    0      1     0     0     0     0     0     0     0     0  ...         0   \n",
              "2    0      1     0     0     0     0     0     0     0     0  ...         0   \n",
              "3    0      1     0     0     0     0     0     0     0     0  ...         0   \n",
              "4    0      1     0     0     0     0     0     0     0     0  ...         0   \n",
              "\n",
              "   PoolQC  Fence  MiscFeature  MiscVal  MoSold  YrSold  SaleType  \\\n",
              "0     NaN    NaN          NaN        0       2    2008        WD   \n",
              "1     NaN    NaN          NaN        0       5    2007        WD   \n",
              "2     NaN    NaN          NaN        0       9    2008        WD   \n",
              "3     NaN    NaN          NaN        0       2    2006        WD   \n",
              "4     NaN    NaN          NaN        0      12    2008        WD   \n",
              "\n",
              "   SaleCondition  SalePrice  \n",
              "0         Normal     208500  \n",
              "1         Normal     181500  \n",
              "2         Normal     223500  \n",
              "3        Abnorml     140000  \n",
              "4         Normal     250000  \n",
              "\n",
              "[5 rows x 198 columns]"
            ],
            "text/html": [
              "\n",
              "  <div id=\"df-0e2f2ec3-3c28-4391-b6da-3e0b8103032b\">\n",
              "    <div class=\"colab-df-container\">\n",
              "      <div>\n",
              "<style scoped>\n",
              "    .dataframe tbody tr th:only-of-type {\n",
              "        vertical-align: middle;\n",
              "    }\n",
              "\n",
              "    .dataframe tbody tr th {\n",
              "        vertical-align: top;\n",
              "    }\n",
              "\n",
              "    .dataframe thead th {\n",
              "        text-align: right;\n",
              "    }\n",
              "</style>\n",
              "<table border=\"1\" class=\"dataframe\">\n",
              "  <thead>\n",
              "    <tr style=\"text-align: right;\">\n",
              "      <th></th>\n",
              "      <th>Hip</th>\n",
              "      <th>Gable</th>\n",
              "      <th>1872</th>\n",
              "      <th>1875</th>\n",
              "      <th>1880</th>\n",
              "      <th>1882</th>\n",
              "      <th>1885</th>\n",
              "      <th>1890</th>\n",
              "      <th>1892</th>\n",
              "      <th>1893</th>\n",
              "      <th>...</th>\n",
              "      <th>PoolArea</th>\n",
              "      <th>PoolQC</th>\n",
              "      <th>Fence</th>\n",
              "      <th>MiscFeature</th>\n",
              "      <th>MiscVal</th>\n",
              "      <th>MoSold</th>\n",
              "      <th>YrSold</th>\n",
              "      <th>SaleType</th>\n",
              "      <th>SaleCondition</th>\n",
              "      <th>SalePrice</th>\n",
              "    </tr>\n",
              "  </thead>\n",
              "  <tbody>\n",
              "    <tr>\n",
              "      <th>0</th>\n",
              "      <td>0</td>\n",
              "      <td>1</td>\n",
              "      <td>0</td>\n",
              "      <td>0</td>\n",
              "      <td>0</td>\n",
              "      <td>0</td>\n",
              "      <td>0</td>\n",
              "      <td>0</td>\n",
              "      <td>0</td>\n",
              "      <td>0</td>\n",
              "      <td>...</td>\n",
              "      <td>0</td>\n",
              "      <td>NaN</td>\n",
              "      <td>NaN</td>\n",
              "      <td>NaN</td>\n",
              "      <td>0</td>\n",
              "      <td>2</td>\n",
              "      <td>2008</td>\n",
              "      <td>WD</td>\n",
              "      <td>Normal</td>\n",
              "      <td>208500</td>\n",
              "    </tr>\n",
              "    <tr>\n",
              "      <th>1</th>\n",
              "      <td>0</td>\n",
              "      <td>1</td>\n",
              "      <td>0</td>\n",
              "      <td>0</td>\n",
              "      <td>0</td>\n",
              "      <td>0</td>\n",
              "      <td>0</td>\n",
              "      <td>0</td>\n",
              "      <td>0</td>\n",
              "      <td>0</td>\n",
              "      <td>...</td>\n",
              "      <td>0</td>\n",
              "      <td>NaN</td>\n",
              "      <td>NaN</td>\n",
              "      <td>NaN</td>\n",
              "      <td>0</td>\n",
              "      <td>5</td>\n",
              "      <td>2007</td>\n",
              "      <td>WD</td>\n",
              "      <td>Normal</td>\n",
              "      <td>181500</td>\n",
              "    </tr>\n",
              "    <tr>\n",
              "      <th>2</th>\n",
              "      <td>0</td>\n",
              "      <td>1</td>\n",
              "      <td>0</td>\n",
              "      <td>0</td>\n",
              "      <td>0</td>\n",
              "      <td>0</td>\n",
              "      <td>0</td>\n",
              "      <td>0</td>\n",
              "      <td>0</td>\n",
              "      <td>0</td>\n",
              "      <td>...</td>\n",
              "      <td>0</td>\n",
              "      <td>NaN</td>\n",
              "      <td>NaN</td>\n",
              "      <td>NaN</td>\n",
              "      <td>0</td>\n",
              "      <td>9</td>\n",
              "      <td>2008</td>\n",
              "      <td>WD</td>\n",
              "      <td>Normal</td>\n",
              "      <td>223500</td>\n",
              "    </tr>\n",
              "    <tr>\n",
              "      <th>3</th>\n",
              "      <td>0</td>\n",
              "      <td>1</td>\n",
              "      <td>0</td>\n",
              "      <td>0</td>\n",
              "      <td>0</td>\n",
              "      <td>0</td>\n",
              "      <td>0</td>\n",
              "      <td>0</td>\n",
              "      <td>0</td>\n",
              "      <td>0</td>\n",
              "      <td>...</td>\n",
              "      <td>0</td>\n",
              "      <td>NaN</td>\n",
              "      <td>NaN</td>\n",
              "      <td>NaN</td>\n",
              "      <td>0</td>\n",
              "      <td>2</td>\n",
              "      <td>2006</td>\n",
              "      <td>WD</td>\n",
              "      <td>Abnorml</td>\n",
              "      <td>140000</td>\n",
              "    </tr>\n",
              "    <tr>\n",
              "      <th>4</th>\n",
              "      <td>0</td>\n",
              "      <td>1</td>\n",
              "      <td>0</td>\n",
              "      <td>0</td>\n",
              "      <td>0</td>\n",
              "      <td>0</td>\n",
              "      <td>0</td>\n",
              "      <td>0</td>\n",
              "      <td>0</td>\n",
              "      <td>0</td>\n",
              "      <td>...</td>\n",
              "      <td>0</td>\n",
              "      <td>NaN</td>\n",
              "      <td>NaN</td>\n",
              "      <td>NaN</td>\n",
              "      <td>0</td>\n",
              "      <td>12</td>\n",
              "      <td>2008</td>\n",
              "      <td>WD</td>\n",
              "      <td>Normal</td>\n",
              "      <td>250000</td>\n",
              "    </tr>\n",
              "  </tbody>\n",
              "</table>\n",
              "<p>5 rows × 198 columns</p>\n",
              "</div>\n",
              "      <button class=\"colab-df-convert\" onclick=\"convertToInteractive('df-0e2f2ec3-3c28-4391-b6da-3e0b8103032b')\"\n",
              "              title=\"Convert this dataframe to an interactive table.\"\n",
              "              style=\"display:none;\">\n",
              "        \n",
              "  <svg xmlns=\"http://www.w3.org/2000/svg\" height=\"24px\"viewBox=\"0 0 24 24\"\n",
              "       width=\"24px\">\n",
              "    <path d=\"M0 0h24v24H0V0z\" fill=\"none\"/>\n",
              "    <path d=\"M18.56 5.44l.94 2.06.94-2.06 2.06-.94-2.06-.94-.94-2.06-.94 2.06-2.06.94zm-11 1L8.5 8.5l.94-2.06 2.06-.94-2.06-.94L8.5 2.5l-.94 2.06-2.06.94zm10 10l.94 2.06.94-2.06 2.06-.94-2.06-.94-.94-2.06-.94 2.06-2.06.94z\"/><path d=\"M17.41 7.96l-1.37-1.37c-.4-.4-.92-.59-1.43-.59-.52 0-1.04.2-1.43.59L10.3 9.45l-7.72 7.72c-.78.78-.78 2.05 0 2.83L4 21.41c.39.39.9.59 1.41.59.51 0 1.02-.2 1.41-.59l7.78-7.78 2.81-2.81c.8-.78.8-2.07 0-2.86zM5.41 20L4 18.59l7.72-7.72 1.47 1.35L5.41 20z\"/>\n",
              "  </svg>\n",
              "      </button>\n",
              "      \n",
              "  <style>\n",
              "    .colab-df-container {\n",
              "      display:flex;\n",
              "      flex-wrap:wrap;\n",
              "      gap: 12px;\n",
              "    }\n",
              "\n",
              "    .colab-df-convert {\n",
              "      background-color: #E8F0FE;\n",
              "      border: none;\n",
              "      border-radius: 50%;\n",
              "      cursor: pointer;\n",
              "      display: none;\n",
              "      fill: #1967D2;\n",
              "      height: 32px;\n",
              "      padding: 0 0 0 0;\n",
              "      width: 32px;\n",
              "    }\n",
              "\n",
              "    .colab-df-convert:hover {\n",
              "      background-color: #E2EBFA;\n",
              "      box-shadow: 0px 1px 2px rgba(60, 64, 67, 0.3), 0px 1px 3px 1px rgba(60, 64, 67, 0.15);\n",
              "      fill: #174EA6;\n",
              "    }\n",
              "\n",
              "    [theme=dark] .colab-df-convert {\n",
              "      background-color: #3B4455;\n",
              "      fill: #D2E3FC;\n",
              "    }\n",
              "\n",
              "    [theme=dark] .colab-df-convert:hover {\n",
              "      background-color: #434B5C;\n",
              "      box-shadow: 0px 1px 3px 1px rgba(0, 0, 0, 0.15);\n",
              "      filter: drop-shadow(0px 1px 2px rgba(0, 0, 0, 0.3));\n",
              "      fill: #FFFFFF;\n",
              "    }\n",
              "  </style>\n",
              "\n",
              "      <script>\n",
              "        const buttonEl =\n",
              "          document.querySelector('#df-0e2f2ec3-3c28-4391-b6da-3e0b8103032b button.colab-df-convert');\n",
              "        buttonEl.style.display =\n",
              "          google.colab.kernel.accessAllowed ? 'block' : 'none';\n",
              "\n",
              "        async function convertToInteractive(key) {\n",
              "          const element = document.querySelector('#df-0e2f2ec3-3c28-4391-b6da-3e0b8103032b');\n",
              "          const dataTable =\n",
              "            await google.colab.kernel.invokeFunction('convertToInteractive',\n",
              "                                                     [key], {});\n",
              "          if (!dataTable) return;\n",
              "\n",
              "          const docLinkHtml = 'Like what you see? Visit the ' +\n",
              "            '<a target=\"_blank\" href=https://colab.research.google.com/notebooks/data_table.ipynb>data table notebook</a>'\n",
              "            + ' to learn more about interactive tables.';\n",
              "          element.innerHTML = '';\n",
              "          dataTable['output_type'] = 'display_data';\n",
              "          await google.colab.output.renderOutput(dataTable, element);\n",
              "          const docLink = document.createElement('div');\n",
              "          docLink.innerHTML = docLinkHtml;\n",
              "          element.appendChild(docLink);\n",
              "        }\n",
              "      </script>\n",
              "    </div>\n",
              "  </div>\n",
              "  "
            ]
          },
          "metadata": {},
          "execution_count": 287
        }
      ]
    },
    {
      "cell_type": "code",
      "source": [
        "df_house=pd.get_dummies(df_house['RoofStyle'])[['Hip','Gable']].join(df_house)"
      ],
      "metadata": {
        "id": "jZ_LIe37wTFj"
      },
      "execution_count": 286,
      "outputs": []
    },
    {
      "cell_type": "code",
      "source": [
        "df_house=pd.get_dummies(df_house['YearBuilt']).join(df_house)"
      ],
      "metadata": {
        "id": "YxhyzS7kwtO7"
      },
      "execution_count": 285,
      "outputs": []
    },
    {
      "cell_type": "code",
      "source": [
        "df_house.head(5)"
      ],
      "metadata": {
        "colab": {
          "base_uri": "https://localhost:8080/",
          "height": 300
        },
        "id": "B05PTzrPw2s8",
        "outputId": "092a8aa6-e2c9-41f7-88cc-e323eb36fa84"
      },
      "execution_count": 284,
      "outputs": [
        {
          "output_type": "execute_result",
          "data": {
            "text/plain": [
              "   0  1  2  Id  MSSubClass MSZoning  LotFrontage  LotArea Street Alley  ...  \\\n",
              "0  0  1  0   1          60       RL         65.0     8450   Pave   NaN  ...   \n",
              "1  1  0  0   2          20       RL         80.0     9600   Pave   NaN  ...   \n",
              "2  0  1  0   3          60       RL         68.0    11250   Pave   NaN  ...   \n",
              "3  1  0  0   4          70       RL         60.0     9550   Pave   NaN  ...   \n",
              "4  0  1  0   5          60       RL         84.0    14260   Pave   NaN  ...   \n",
              "\n",
              "  PoolArea PoolQC Fence MiscFeature MiscVal MoSold YrSold SaleType  \\\n",
              "0        0    NaN   NaN         NaN       0      2   2008       WD   \n",
              "1        0    NaN   NaN         NaN       0      5   2007       WD   \n",
              "2        0    NaN   NaN         NaN       0      9   2008       WD   \n",
              "3        0    NaN   NaN         NaN       0      2   2006       WD   \n",
              "4        0    NaN   NaN         NaN       0     12   2008       WD   \n",
              "\n",
              "  SaleCondition SalePrice  \n",
              "0        Normal    208500  \n",
              "1        Normal    181500  \n",
              "2        Normal    223500  \n",
              "3       Abnorml    140000  \n",
              "4        Normal    250000  \n",
              "\n",
              "[5 rows x 84 columns]"
            ],
            "text/html": [
              "\n",
              "  <div id=\"df-51c80094-9e1c-4d9c-96f2-1bacfa33244e\">\n",
              "    <div class=\"colab-df-container\">\n",
              "      <div>\n",
              "<style scoped>\n",
              "    .dataframe tbody tr th:only-of-type {\n",
              "        vertical-align: middle;\n",
              "    }\n",
              "\n",
              "    .dataframe tbody tr th {\n",
              "        vertical-align: top;\n",
              "    }\n",
              "\n",
              "    .dataframe thead th {\n",
              "        text-align: right;\n",
              "    }\n",
              "</style>\n",
              "<table border=\"1\" class=\"dataframe\">\n",
              "  <thead>\n",
              "    <tr style=\"text-align: right;\">\n",
              "      <th></th>\n",
              "      <th>0</th>\n",
              "      <th>1</th>\n",
              "      <th>2</th>\n",
              "      <th>Id</th>\n",
              "      <th>MSSubClass</th>\n",
              "      <th>MSZoning</th>\n",
              "      <th>LotFrontage</th>\n",
              "      <th>LotArea</th>\n",
              "      <th>Street</th>\n",
              "      <th>Alley</th>\n",
              "      <th>...</th>\n",
              "      <th>PoolArea</th>\n",
              "      <th>PoolQC</th>\n",
              "      <th>Fence</th>\n",
              "      <th>MiscFeature</th>\n",
              "      <th>MiscVal</th>\n",
              "      <th>MoSold</th>\n",
              "      <th>YrSold</th>\n",
              "      <th>SaleType</th>\n",
              "      <th>SaleCondition</th>\n",
              "      <th>SalePrice</th>\n",
              "    </tr>\n",
              "  </thead>\n",
              "  <tbody>\n",
              "    <tr>\n",
              "      <th>0</th>\n",
              "      <td>0</td>\n",
              "      <td>1</td>\n",
              "      <td>0</td>\n",
              "      <td>1</td>\n",
              "      <td>60</td>\n",
              "      <td>RL</td>\n",
              "      <td>65.0</td>\n",
              "      <td>8450</td>\n",
              "      <td>Pave</td>\n",
              "      <td>NaN</td>\n",
              "      <td>...</td>\n",
              "      <td>0</td>\n",
              "      <td>NaN</td>\n",
              "      <td>NaN</td>\n",
              "      <td>NaN</td>\n",
              "      <td>0</td>\n",
              "      <td>2</td>\n",
              "      <td>2008</td>\n",
              "      <td>WD</td>\n",
              "      <td>Normal</td>\n",
              "      <td>208500</td>\n",
              "    </tr>\n",
              "    <tr>\n",
              "      <th>1</th>\n",
              "      <td>1</td>\n",
              "      <td>0</td>\n",
              "      <td>0</td>\n",
              "      <td>2</td>\n",
              "      <td>20</td>\n",
              "      <td>RL</td>\n",
              "      <td>80.0</td>\n",
              "      <td>9600</td>\n",
              "      <td>Pave</td>\n",
              "      <td>NaN</td>\n",
              "      <td>...</td>\n",
              "      <td>0</td>\n",
              "      <td>NaN</td>\n",
              "      <td>NaN</td>\n",
              "      <td>NaN</td>\n",
              "      <td>0</td>\n",
              "      <td>5</td>\n",
              "      <td>2007</td>\n",
              "      <td>WD</td>\n",
              "      <td>Normal</td>\n",
              "      <td>181500</td>\n",
              "    </tr>\n",
              "    <tr>\n",
              "      <th>2</th>\n",
              "      <td>0</td>\n",
              "      <td>1</td>\n",
              "      <td>0</td>\n",
              "      <td>3</td>\n",
              "      <td>60</td>\n",
              "      <td>RL</td>\n",
              "      <td>68.0</td>\n",
              "      <td>11250</td>\n",
              "      <td>Pave</td>\n",
              "      <td>NaN</td>\n",
              "      <td>...</td>\n",
              "      <td>0</td>\n",
              "      <td>NaN</td>\n",
              "      <td>NaN</td>\n",
              "      <td>NaN</td>\n",
              "      <td>0</td>\n",
              "      <td>9</td>\n",
              "      <td>2008</td>\n",
              "      <td>WD</td>\n",
              "      <td>Normal</td>\n",
              "      <td>223500</td>\n",
              "    </tr>\n",
              "    <tr>\n",
              "      <th>3</th>\n",
              "      <td>1</td>\n",
              "      <td>0</td>\n",
              "      <td>0</td>\n",
              "      <td>4</td>\n",
              "      <td>70</td>\n",
              "      <td>RL</td>\n",
              "      <td>60.0</td>\n",
              "      <td>9550</td>\n",
              "      <td>Pave</td>\n",
              "      <td>NaN</td>\n",
              "      <td>...</td>\n",
              "      <td>0</td>\n",
              "      <td>NaN</td>\n",
              "      <td>NaN</td>\n",
              "      <td>NaN</td>\n",
              "      <td>0</td>\n",
              "      <td>2</td>\n",
              "      <td>2006</td>\n",
              "      <td>WD</td>\n",
              "      <td>Abnorml</td>\n",
              "      <td>140000</td>\n",
              "    </tr>\n",
              "    <tr>\n",
              "      <th>4</th>\n",
              "      <td>0</td>\n",
              "      <td>1</td>\n",
              "      <td>0</td>\n",
              "      <td>5</td>\n",
              "      <td>60</td>\n",
              "      <td>RL</td>\n",
              "      <td>84.0</td>\n",
              "      <td>14260</td>\n",
              "      <td>Pave</td>\n",
              "      <td>NaN</td>\n",
              "      <td>...</td>\n",
              "      <td>0</td>\n",
              "      <td>NaN</td>\n",
              "      <td>NaN</td>\n",
              "      <td>NaN</td>\n",
              "      <td>0</td>\n",
              "      <td>12</td>\n",
              "      <td>2008</td>\n",
              "      <td>WD</td>\n",
              "      <td>Normal</td>\n",
              "      <td>250000</td>\n",
              "    </tr>\n",
              "  </tbody>\n",
              "</table>\n",
              "<p>5 rows × 84 columns</p>\n",
              "</div>\n",
              "      <button class=\"colab-df-convert\" onclick=\"convertToInteractive('df-51c80094-9e1c-4d9c-96f2-1bacfa33244e')\"\n",
              "              title=\"Convert this dataframe to an interactive table.\"\n",
              "              style=\"display:none;\">\n",
              "        \n",
              "  <svg xmlns=\"http://www.w3.org/2000/svg\" height=\"24px\"viewBox=\"0 0 24 24\"\n",
              "       width=\"24px\">\n",
              "    <path d=\"M0 0h24v24H0V0z\" fill=\"none\"/>\n",
              "    <path d=\"M18.56 5.44l.94 2.06.94-2.06 2.06-.94-2.06-.94-.94-2.06-.94 2.06-2.06.94zm-11 1L8.5 8.5l.94-2.06 2.06-.94-2.06-.94L8.5 2.5l-.94 2.06-2.06.94zm10 10l.94 2.06.94-2.06 2.06-.94-2.06-.94-.94-2.06-.94 2.06-2.06.94z\"/><path d=\"M17.41 7.96l-1.37-1.37c-.4-.4-.92-.59-1.43-.59-.52 0-1.04.2-1.43.59L10.3 9.45l-7.72 7.72c-.78.78-.78 2.05 0 2.83L4 21.41c.39.39.9.59 1.41.59.51 0 1.02-.2 1.41-.59l7.78-7.78 2.81-2.81c.8-.78.8-2.07 0-2.86zM5.41 20L4 18.59l7.72-7.72 1.47 1.35L5.41 20z\"/>\n",
              "  </svg>\n",
              "      </button>\n",
              "      \n",
              "  <style>\n",
              "    .colab-df-container {\n",
              "      display:flex;\n",
              "      flex-wrap:wrap;\n",
              "      gap: 12px;\n",
              "    }\n",
              "\n",
              "    .colab-df-convert {\n",
              "      background-color: #E8F0FE;\n",
              "      border: none;\n",
              "      border-radius: 50%;\n",
              "      cursor: pointer;\n",
              "      display: none;\n",
              "      fill: #1967D2;\n",
              "      height: 32px;\n",
              "      padding: 0 0 0 0;\n",
              "      width: 32px;\n",
              "    }\n",
              "\n",
              "    .colab-df-convert:hover {\n",
              "      background-color: #E2EBFA;\n",
              "      box-shadow: 0px 1px 2px rgba(60, 64, 67, 0.3), 0px 1px 3px 1px rgba(60, 64, 67, 0.15);\n",
              "      fill: #174EA6;\n",
              "    }\n",
              "\n",
              "    [theme=dark] .colab-df-convert {\n",
              "      background-color: #3B4455;\n",
              "      fill: #D2E3FC;\n",
              "    }\n",
              "\n",
              "    [theme=dark] .colab-df-convert:hover {\n",
              "      background-color: #434B5C;\n",
              "      box-shadow: 0px 1px 3px 1px rgba(0, 0, 0, 0.15);\n",
              "      filter: drop-shadow(0px 1px 2px rgba(0, 0, 0, 0.3));\n",
              "      fill: #FFFFFF;\n",
              "    }\n",
              "  </style>\n",
              "\n",
              "      <script>\n",
              "        const buttonEl =\n",
              "          document.querySelector('#df-51c80094-9e1c-4d9c-96f2-1bacfa33244e button.colab-df-convert');\n",
              "        buttonEl.style.display =\n",
              "          google.colab.kernel.accessAllowed ? 'block' : 'none';\n",
              "\n",
              "        async function convertToInteractive(key) {\n",
              "          const element = document.querySelector('#df-51c80094-9e1c-4d9c-96f2-1bacfa33244e');\n",
              "          const dataTable =\n",
              "            await google.colab.kernel.invokeFunction('convertToInteractive',\n",
              "                                                     [key], {});\n",
              "          if (!dataTable) return;\n",
              "\n",
              "          const docLinkHtml = 'Like what you see? Visit the ' +\n",
              "            '<a target=\"_blank\" href=https://colab.research.google.com/notebooks/data_table.ipynb>data table notebook</a>'\n",
              "            + ' to learn more about interactive tables.';\n",
              "          element.innerHTML = '';\n",
              "          dataTable['output_type'] = 'display_data';\n",
              "          await google.colab.output.renderOutput(dataTable, element);\n",
              "          const docLink = document.createElement('div');\n",
              "          docLink.innerHTML = docLinkHtml;\n",
              "          element.appendChild(docLink);\n",
              "        }\n",
              "      </script>\n",
              "    </div>\n",
              "  </div>\n",
              "  "
            ]
          },
          "metadata": {},
          "execution_count": 284
        }
      ]
    },
    {
      "cell_type": "code",
      "source": [
        "df_house['YearBuilt'].value_counts()"
      ],
      "metadata": {
        "colab": {
          "base_uri": "https://localhost:8080/"
        },
        "id": "4c7-TaC862P8",
        "outputId": "fb3165db-6c19-4924-9cd6-8f7a4db61df9"
      },
      "execution_count": 283,
      "outputs": [
        {
          "output_type": "execute_result",
          "data": {
            "text/plain": [
              "2006    67\n",
              "2005    64\n",
              "2004    54\n",
              "2007    49\n",
              "2003    45\n",
              "        ..\n",
              "1875     1\n",
              "1911     1\n",
              "1917     1\n",
              "1872     1\n",
              "1905     1\n",
              "Name: YearBuilt, Length: 112, dtype: int64"
            ]
          },
          "metadata": {},
          "execution_count": 283
        }
      ]
    },
    {
      "cell_type": "markdown",
      "source": [
        "##Dummy Variable 2"
      ],
      "metadata": {
        "id": "0R3V9-1QxfH6"
      }
    },
    {
      "cell_type": "code",
      "source": [
        "df_house['HalfBath'].dtype\n",
        "\n",
        "df_house['HalfBath'].unique()\n",
        "\n",
        "pd.get_dummies(df_house['HalfBath'])"
      ],
      "metadata": {
        "colab": {
          "base_uri": "https://localhost:8080/",
          "height": 424
        },
        "id": "csIJ77cDw54T",
        "outputId": "ead4d47a-c3fb-46d2-b187-2d6e8f56344e"
      },
      "execution_count": 282,
      "outputs": [
        {
          "output_type": "execute_result",
          "data": {
            "text/plain": [
              "      0  1  2\n",
              "0     0  1  0\n",
              "1     1  0  0\n",
              "2     0  1  0\n",
              "3     1  0  0\n",
              "4     0  1  0\n",
              "...  .. .. ..\n",
              "1455  0  1  0\n",
              "1456  1  0  0\n",
              "1457  1  0  0\n",
              "1458  1  0  0\n",
              "1459  0  1  0\n",
              "\n",
              "[1460 rows x 3 columns]"
            ],
            "text/html": [
              "\n",
              "  <div id=\"df-0e8f0bff-231b-4eeb-b576-80e22e9943bf\">\n",
              "    <div class=\"colab-df-container\">\n",
              "      <div>\n",
              "<style scoped>\n",
              "    .dataframe tbody tr th:only-of-type {\n",
              "        vertical-align: middle;\n",
              "    }\n",
              "\n",
              "    .dataframe tbody tr th {\n",
              "        vertical-align: top;\n",
              "    }\n",
              "\n",
              "    .dataframe thead th {\n",
              "        text-align: right;\n",
              "    }\n",
              "</style>\n",
              "<table border=\"1\" class=\"dataframe\">\n",
              "  <thead>\n",
              "    <tr style=\"text-align: right;\">\n",
              "      <th></th>\n",
              "      <th>0</th>\n",
              "      <th>1</th>\n",
              "      <th>2</th>\n",
              "    </tr>\n",
              "  </thead>\n",
              "  <tbody>\n",
              "    <tr>\n",
              "      <th>0</th>\n",
              "      <td>0</td>\n",
              "      <td>1</td>\n",
              "      <td>0</td>\n",
              "    </tr>\n",
              "    <tr>\n",
              "      <th>1</th>\n",
              "      <td>1</td>\n",
              "      <td>0</td>\n",
              "      <td>0</td>\n",
              "    </tr>\n",
              "    <tr>\n",
              "      <th>2</th>\n",
              "      <td>0</td>\n",
              "      <td>1</td>\n",
              "      <td>0</td>\n",
              "    </tr>\n",
              "    <tr>\n",
              "      <th>3</th>\n",
              "      <td>1</td>\n",
              "      <td>0</td>\n",
              "      <td>0</td>\n",
              "    </tr>\n",
              "    <tr>\n",
              "      <th>4</th>\n",
              "      <td>0</td>\n",
              "      <td>1</td>\n",
              "      <td>0</td>\n",
              "    </tr>\n",
              "    <tr>\n",
              "      <th>...</th>\n",
              "      <td>...</td>\n",
              "      <td>...</td>\n",
              "      <td>...</td>\n",
              "    </tr>\n",
              "    <tr>\n",
              "      <th>1455</th>\n",
              "      <td>0</td>\n",
              "      <td>1</td>\n",
              "      <td>0</td>\n",
              "    </tr>\n",
              "    <tr>\n",
              "      <th>1456</th>\n",
              "      <td>1</td>\n",
              "      <td>0</td>\n",
              "      <td>0</td>\n",
              "    </tr>\n",
              "    <tr>\n",
              "      <th>1457</th>\n",
              "      <td>1</td>\n",
              "      <td>0</td>\n",
              "      <td>0</td>\n",
              "    </tr>\n",
              "    <tr>\n",
              "      <th>1458</th>\n",
              "      <td>1</td>\n",
              "      <td>0</td>\n",
              "      <td>0</td>\n",
              "    </tr>\n",
              "    <tr>\n",
              "      <th>1459</th>\n",
              "      <td>0</td>\n",
              "      <td>1</td>\n",
              "      <td>0</td>\n",
              "    </tr>\n",
              "  </tbody>\n",
              "</table>\n",
              "<p>1460 rows × 3 columns</p>\n",
              "</div>\n",
              "      <button class=\"colab-df-convert\" onclick=\"convertToInteractive('df-0e8f0bff-231b-4eeb-b576-80e22e9943bf')\"\n",
              "              title=\"Convert this dataframe to an interactive table.\"\n",
              "              style=\"display:none;\">\n",
              "        \n",
              "  <svg xmlns=\"http://www.w3.org/2000/svg\" height=\"24px\"viewBox=\"0 0 24 24\"\n",
              "       width=\"24px\">\n",
              "    <path d=\"M0 0h24v24H0V0z\" fill=\"none\"/>\n",
              "    <path d=\"M18.56 5.44l.94 2.06.94-2.06 2.06-.94-2.06-.94-.94-2.06-.94 2.06-2.06.94zm-11 1L8.5 8.5l.94-2.06 2.06-.94-2.06-.94L8.5 2.5l-.94 2.06-2.06.94zm10 10l.94 2.06.94-2.06 2.06-.94-2.06-.94-.94-2.06-.94 2.06-2.06.94z\"/><path d=\"M17.41 7.96l-1.37-1.37c-.4-.4-.92-.59-1.43-.59-.52 0-1.04.2-1.43.59L10.3 9.45l-7.72 7.72c-.78.78-.78 2.05 0 2.83L4 21.41c.39.39.9.59 1.41.59.51 0 1.02-.2 1.41-.59l7.78-7.78 2.81-2.81c.8-.78.8-2.07 0-2.86zM5.41 20L4 18.59l7.72-7.72 1.47 1.35L5.41 20z\"/>\n",
              "  </svg>\n",
              "      </button>\n",
              "      \n",
              "  <style>\n",
              "    .colab-df-container {\n",
              "      display:flex;\n",
              "      flex-wrap:wrap;\n",
              "      gap: 12px;\n",
              "    }\n",
              "\n",
              "    .colab-df-convert {\n",
              "      background-color: #E8F0FE;\n",
              "      border: none;\n",
              "      border-radius: 50%;\n",
              "      cursor: pointer;\n",
              "      display: none;\n",
              "      fill: #1967D2;\n",
              "      height: 32px;\n",
              "      padding: 0 0 0 0;\n",
              "      width: 32px;\n",
              "    }\n",
              "\n",
              "    .colab-df-convert:hover {\n",
              "      background-color: #E2EBFA;\n",
              "      box-shadow: 0px 1px 2px rgba(60, 64, 67, 0.3), 0px 1px 3px 1px rgba(60, 64, 67, 0.15);\n",
              "      fill: #174EA6;\n",
              "    }\n",
              "\n",
              "    [theme=dark] .colab-df-convert {\n",
              "      background-color: #3B4455;\n",
              "      fill: #D2E3FC;\n",
              "    }\n",
              "\n",
              "    [theme=dark] .colab-df-convert:hover {\n",
              "      background-color: #434B5C;\n",
              "      box-shadow: 0px 1px 3px 1px rgba(0, 0, 0, 0.15);\n",
              "      filter: drop-shadow(0px 1px 2px rgba(0, 0, 0, 0.3));\n",
              "      fill: #FFFFFF;\n",
              "    }\n",
              "  </style>\n",
              "\n",
              "      <script>\n",
              "        const buttonEl =\n",
              "          document.querySelector('#df-0e8f0bff-231b-4eeb-b576-80e22e9943bf button.colab-df-convert');\n",
              "        buttonEl.style.display =\n",
              "          google.colab.kernel.accessAllowed ? 'block' : 'none';\n",
              "\n",
              "        async function convertToInteractive(key) {\n",
              "          const element = document.querySelector('#df-0e8f0bff-231b-4eeb-b576-80e22e9943bf');\n",
              "          const dataTable =\n",
              "            await google.colab.kernel.invokeFunction('convertToInteractive',\n",
              "                                                     [key], {});\n",
              "          if (!dataTable) return;\n",
              "\n",
              "          const docLinkHtml = 'Like what you see? Visit the ' +\n",
              "            '<a target=\"_blank\" href=https://colab.research.google.com/notebooks/data_table.ipynb>data table notebook</a>'\n",
              "            + ' to learn more about interactive tables.';\n",
              "          element.innerHTML = '';\n",
              "          dataTable['output_type'] = 'display_data';\n",
              "          await google.colab.output.renderOutput(dataTable, element);\n",
              "          const docLink = document.createElement('div');\n",
              "          docLink.innerHTML = docLinkHtml;\n",
              "          element.appendChild(docLink);\n",
              "        }\n",
              "      </script>\n",
              "    </div>\n",
              "  </div>\n",
              "  "
            ]
          },
          "metadata": {},
          "execution_count": 282
        }
      ]
    },
    {
      "cell_type": "code",
      "source": [
        "df_house=pd.get_dummies(df_house['HalfBath']).join(df_house)"
      ],
      "metadata": {
        "id": "3PG3M72eyAxn"
      },
      "execution_count": 281,
      "outputs": []
    },
    {
      "cell_type": "code",
      "source": [
        "df_house.head(5)"
      ],
      "metadata": {
        "colab": {
          "base_uri": "https://localhost:8080/",
          "height": 300
        },
        "id": "RHBqy-KcyM93",
        "outputId": "881c3587-3b9b-4769-e39e-77122759bdf8"
      },
      "execution_count": 280,
      "outputs": [
        {
          "output_type": "execute_result",
          "data": {
            "text/plain": [
              "   Id  MSSubClass MSZoning  LotFrontage  LotArea Street Alley LotShape  \\\n",
              "0   1          60       RL         65.0     8450   Pave   NaN      Reg   \n",
              "1   2          20       RL         80.0     9600   Pave   NaN      Reg   \n",
              "2   3          60       RL         68.0    11250   Pave   NaN      IR1   \n",
              "3   4          70       RL         60.0     9550   Pave   NaN      IR1   \n",
              "4   5          60       RL         84.0    14260   Pave   NaN      IR1   \n",
              "\n",
              "  LandContour Utilities  ... PoolArea PoolQC Fence MiscFeature MiscVal MoSold  \\\n",
              "0         Lvl    AllPub  ...        0    NaN   NaN         NaN       0      2   \n",
              "1         Lvl    AllPub  ...        0    NaN   NaN         NaN       0      5   \n",
              "2         Lvl    AllPub  ...        0    NaN   NaN         NaN       0      9   \n",
              "3         Lvl    AllPub  ...        0    NaN   NaN         NaN       0      2   \n",
              "4         Lvl    AllPub  ...        0    NaN   NaN         NaN       0     12   \n",
              "\n",
              "  YrSold  SaleType  SaleCondition  SalePrice  \n",
              "0   2008        WD         Normal     208500  \n",
              "1   2007        WD         Normal     181500  \n",
              "2   2008        WD         Normal     223500  \n",
              "3   2006        WD        Abnorml     140000  \n",
              "4   2008        WD         Normal     250000  \n",
              "\n",
              "[5 rows x 81 columns]"
            ],
            "text/html": [
              "\n",
              "  <div id=\"df-83ba3077-a773-49e7-9db3-ae0cb65665f6\">\n",
              "    <div class=\"colab-df-container\">\n",
              "      <div>\n",
              "<style scoped>\n",
              "    .dataframe tbody tr th:only-of-type {\n",
              "        vertical-align: middle;\n",
              "    }\n",
              "\n",
              "    .dataframe tbody tr th {\n",
              "        vertical-align: top;\n",
              "    }\n",
              "\n",
              "    .dataframe thead th {\n",
              "        text-align: right;\n",
              "    }\n",
              "</style>\n",
              "<table border=\"1\" class=\"dataframe\">\n",
              "  <thead>\n",
              "    <tr style=\"text-align: right;\">\n",
              "      <th></th>\n",
              "      <th>Id</th>\n",
              "      <th>MSSubClass</th>\n",
              "      <th>MSZoning</th>\n",
              "      <th>LotFrontage</th>\n",
              "      <th>LotArea</th>\n",
              "      <th>Street</th>\n",
              "      <th>Alley</th>\n",
              "      <th>LotShape</th>\n",
              "      <th>LandContour</th>\n",
              "      <th>Utilities</th>\n",
              "      <th>...</th>\n",
              "      <th>PoolArea</th>\n",
              "      <th>PoolQC</th>\n",
              "      <th>Fence</th>\n",
              "      <th>MiscFeature</th>\n",
              "      <th>MiscVal</th>\n",
              "      <th>MoSold</th>\n",
              "      <th>YrSold</th>\n",
              "      <th>SaleType</th>\n",
              "      <th>SaleCondition</th>\n",
              "      <th>SalePrice</th>\n",
              "    </tr>\n",
              "  </thead>\n",
              "  <tbody>\n",
              "    <tr>\n",
              "      <th>0</th>\n",
              "      <td>1</td>\n",
              "      <td>60</td>\n",
              "      <td>RL</td>\n",
              "      <td>65.0</td>\n",
              "      <td>8450</td>\n",
              "      <td>Pave</td>\n",
              "      <td>NaN</td>\n",
              "      <td>Reg</td>\n",
              "      <td>Lvl</td>\n",
              "      <td>AllPub</td>\n",
              "      <td>...</td>\n",
              "      <td>0</td>\n",
              "      <td>NaN</td>\n",
              "      <td>NaN</td>\n",
              "      <td>NaN</td>\n",
              "      <td>0</td>\n",
              "      <td>2</td>\n",
              "      <td>2008</td>\n",
              "      <td>WD</td>\n",
              "      <td>Normal</td>\n",
              "      <td>208500</td>\n",
              "    </tr>\n",
              "    <tr>\n",
              "      <th>1</th>\n",
              "      <td>2</td>\n",
              "      <td>20</td>\n",
              "      <td>RL</td>\n",
              "      <td>80.0</td>\n",
              "      <td>9600</td>\n",
              "      <td>Pave</td>\n",
              "      <td>NaN</td>\n",
              "      <td>Reg</td>\n",
              "      <td>Lvl</td>\n",
              "      <td>AllPub</td>\n",
              "      <td>...</td>\n",
              "      <td>0</td>\n",
              "      <td>NaN</td>\n",
              "      <td>NaN</td>\n",
              "      <td>NaN</td>\n",
              "      <td>0</td>\n",
              "      <td>5</td>\n",
              "      <td>2007</td>\n",
              "      <td>WD</td>\n",
              "      <td>Normal</td>\n",
              "      <td>181500</td>\n",
              "    </tr>\n",
              "    <tr>\n",
              "      <th>2</th>\n",
              "      <td>3</td>\n",
              "      <td>60</td>\n",
              "      <td>RL</td>\n",
              "      <td>68.0</td>\n",
              "      <td>11250</td>\n",
              "      <td>Pave</td>\n",
              "      <td>NaN</td>\n",
              "      <td>IR1</td>\n",
              "      <td>Lvl</td>\n",
              "      <td>AllPub</td>\n",
              "      <td>...</td>\n",
              "      <td>0</td>\n",
              "      <td>NaN</td>\n",
              "      <td>NaN</td>\n",
              "      <td>NaN</td>\n",
              "      <td>0</td>\n",
              "      <td>9</td>\n",
              "      <td>2008</td>\n",
              "      <td>WD</td>\n",
              "      <td>Normal</td>\n",
              "      <td>223500</td>\n",
              "    </tr>\n",
              "    <tr>\n",
              "      <th>3</th>\n",
              "      <td>4</td>\n",
              "      <td>70</td>\n",
              "      <td>RL</td>\n",
              "      <td>60.0</td>\n",
              "      <td>9550</td>\n",
              "      <td>Pave</td>\n",
              "      <td>NaN</td>\n",
              "      <td>IR1</td>\n",
              "      <td>Lvl</td>\n",
              "      <td>AllPub</td>\n",
              "      <td>...</td>\n",
              "      <td>0</td>\n",
              "      <td>NaN</td>\n",
              "      <td>NaN</td>\n",
              "      <td>NaN</td>\n",
              "      <td>0</td>\n",
              "      <td>2</td>\n",
              "      <td>2006</td>\n",
              "      <td>WD</td>\n",
              "      <td>Abnorml</td>\n",
              "      <td>140000</td>\n",
              "    </tr>\n",
              "    <tr>\n",
              "      <th>4</th>\n",
              "      <td>5</td>\n",
              "      <td>60</td>\n",
              "      <td>RL</td>\n",
              "      <td>84.0</td>\n",
              "      <td>14260</td>\n",
              "      <td>Pave</td>\n",
              "      <td>NaN</td>\n",
              "      <td>IR1</td>\n",
              "      <td>Lvl</td>\n",
              "      <td>AllPub</td>\n",
              "      <td>...</td>\n",
              "      <td>0</td>\n",
              "      <td>NaN</td>\n",
              "      <td>NaN</td>\n",
              "      <td>NaN</td>\n",
              "      <td>0</td>\n",
              "      <td>12</td>\n",
              "      <td>2008</td>\n",
              "      <td>WD</td>\n",
              "      <td>Normal</td>\n",
              "      <td>250000</td>\n",
              "    </tr>\n",
              "  </tbody>\n",
              "</table>\n",
              "<p>5 rows × 81 columns</p>\n",
              "</div>\n",
              "      <button class=\"colab-df-convert\" onclick=\"convertToInteractive('df-83ba3077-a773-49e7-9db3-ae0cb65665f6')\"\n",
              "              title=\"Convert this dataframe to an interactive table.\"\n",
              "              style=\"display:none;\">\n",
              "        \n",
              "  <svg xmlns=\"http://www.w3.org/2000/svg\" height=\"24px\"viewBox=\"0 0 24 24\"\n",
              "       width=\"24px\">\n",
              "    <path d=\"M0 0h24v24H0V0z\" fill=\"none\"/>\n",
              "    <path d=\"M18.56 5.44l.94 2.06.94-2.06 2.06-.94-2.06-.94-.94-2.06-.94 2.06-2.06.94zm-11 1L8.5 8.5l.94-2.06 2.06-.94-2.06-.94L8.5 2.5l-.94 2.06-2.06.94zm10 10l.94 2.06.94-2.06 2.06-.94-2.06-.94-.94-2.06-.94 2.06-2.06.94z\"/><path d=\"M17.41 7.96l-1.37-1.37c-.4-.4-.92-.59-1.43-.59-.52 0-1.04.2-1.43.59L10.3 9.45l-7.72 7.72c-.78.78-.78 2.05 0 2.83L4 21.41c.39.39.9.59 1.41.59.51 0 1.02-.2 1.41-.59l7.78-7.78 2.81-2.81c.8-.78.8-2.07 0-2.86zM5.41 20L4 18.59l7.72-7.72 1.47 1.35L5.41 20z\"/>\n",
              "  </svg>\n",
              "      </button>\n",
              "      \n",
              "  <style>\n",
              "    .colab-df-container {\n",
              "      display:flex;\n",
              "      flex-wrap:wrap;\n",
              "      gap: 12px;\n",
              "    }\n",
              "\n",
              "    .colab-df-convert {\n",
              "      background-color: #E8F0FE;\n",
              "      border: none;\n",
              "      border-radius: 50%;\n",
              "      cursor: pointer;\n",
              "      display: none;\n",
              "      fill: #1967D2;\n",
              "      height: 32px;\n",
              "      padding: 0 0 0 0;\n",
              "      width: 32px;\n",
              "    }\n",
              "\n",
              "    .colab-df-convert:hover {\n",
              "      background-color: #E2EBFA;\n",
              "      box-shadow: 0px 1px 2px rgba(60, 64, 67, 0.3), 0px 1px 3px 1px rgba(60, 64, 67, 0.15);\n",
              "      fill: #174EA6;\n",
              "    }\n",
              "\n",
              "    [theme=dark] .colab-df-convert {\n",
              "      background-color: #3B4455;\n",
              "      fill: #D2E3FC;\n",
              "    }\n",
              "\n",
              "    [theme=dark] .colab-df-convert:hover {\n",
              "      background-color: #434B5C;\n",
              "      box-shadow: 0px 1px 3px 1px rgba(0, 0, 0, 0.15);\n",
              "      filter: drop-shadow(0px 1px 2px rgba(0, 0, 0, 0.3));\n",
              "      fill: #FFFFFF;\n",
              "    }\n",
              "  </style>\n",
              "\n",
              "      <script>\n",
              "        const buttonEl =\n",
              "          document.querySelector('#df-83ba3077-a773-49e7-9db3-ae0cb65665f6 button.colab-df-convert');\n",
              "        buttonEl.style.display =\n",
              "          google.colab.kernel.accessAllowed ? 'block' : 'none';\n",
              "\n",
              "        async function convertToInteractive(key) {\n",
              "          const element = document.querySelector('#df-83ba3077-a773-49e7-9db3-ae0cb65665f6');\n",
              "          const dataTable =\n",
              "            await google.colab.kernel.invokeFunction('convertToInteractive',\n",
              "                                                     [key], {});\n",
              "          if (!dataTable) return;\n",
              "\n",
              "          const docLinkHtml = 'Like what you see? Visit the ' +\n",
              "            '<a target=\"_blank\" href=https://colab.research.google.com/notebooks/data_table.ipynb>data table notebook</a>'\n",
              "            + ' to learn more about interactive tables.';\n",
              "          element.innerHTML = '';\n",
              "          dataTable['output_type'] = 'display_data';\n",
              "          await google.colab.output.renderOutput(dataTable, element);\n",
              "          const docLink = document.createElement('div');\n",
              "          docLink.innerHTML = docLinkHtml;\n",
              "          element.appendChild(docLink);\n",
              "        }\n",
              "      </script>\n",
              "    </div>\n",
              "  </div>\n",
              "  "
            ]
          },
          "metadata": {},
          "execution_count": 280
        }
      ]
    },
    {
      "cell_type": "code",
      "source": [
        "df_house['HalfBath'].value_counts()"
      ],
      "metadata": {
        "id": "nDDSUGRW6-_V",
        "outputId": "5804fbcb-67f5-4c72-d6be-0eeda7425bc8",
        "colab": {
          "base_uri": "https://localhost:8080/"
        }
      },
      "execution_count": 279,
      "outputs": [
        {
          "output_type": "execute_result",
          "data": {
            "text/plain": [
              "0    913\n",
              "1    535\n",
              "2     12\n",
              "Name: HalfBath, dtype: int64"
            ]
          },
          "metadata": {},
          "execution_count": 279
        }
      ]
    },
    {
      "cell_type": "markdown",
      "source": [
        "#Work 11/17"
      ],
      "metadata": {
        "id": "YqxZ2QrCJYNB"
      }
    },
    {
      "cell_type": "code",
      "source": [
        "df_house['RoofStyle'].value_counts()"
      ],
      "metadata": {
        "colab": {
          "base_uri": "https://localhost:8080/"
        },
        "id": "uK6E-3H3J90N",
        "outputId": "43ec7922-be9f-463c-cf2f-ef8d5894fc65"
      },
      "execution_count": 294,
      "outputs": [
        {
          "output_type": "execute_result",
          "data": {
            "text/plain": [
              "Gable      1141\n",
              "Hip         286\n",
              "Flat         13\n",
              "Gambrel      11\n",
              "Mansard       7\n",
              "Shed          2\n",
              "Name: RoofStyle, dtype: int64"
            ]
          },
          "metadata": {},
          "execution_count": 294
        }
      ]
    },
    {
      "cell_type": "code",
      "source": [
        "df_house['SF']=df_house['1stFlrSF']+df_house['2ndFlrSF']\n",
        "df_house.plot.scatter('SF', 'SalePrice')"
      ],
      "metadata": {
        "colab": {
          "base_uri": "https://localhost:8080/",
          "height": 297
        },
        "id": "YDS3CiZ0Vdpq",
        "outputId": "e5f5ec0a-5c6e-4564-d753-7c9679bdb520"
      },
      "execution_count": 293,
      "outputs": [
        {
          "output_type": "execute_result",
          "data": {
            "text/plain": [
              "<matplotlib.axes._subplots.AxesSubplot at 0x7fccc3050f10>"
            ]
          },
          "metadata": {},
          "execution_count": 293
        },
        {
          "output_type": "display_data",
          "data": {
            "text/plain": [
              "<Figure size 432x288 with 1 Axes>"
            ],
            "image/png": "[encoded data removed]"
          },
          "metadata": {
            "needs_background": "light"
          }
        }
      ]
    },
    {
      "cell_type": "code",
      "source": [
        "pd.get_dummies(df_house['RoofStyle'])\n",
        "pd.get_dummies(df_house['RoofStyle']).join(df_house['RoofStyle'])\n",
        "pd.get_dummies(df_house['RoofStyle'])['Flat']\n",
        "pd.get_dummies(df_house['RoofStyle'])[['Gable','Hip']]"
      ],
      "metadata": {
        "colab": {
          "base_uri": "https://localhost:8080/",
          "height": 424
        },
        "id": "jnDXsfcqViwI",
        "outputId": "7397090e-c035-4c74-a459-c94584a7d09b"
      },
      "execution_count": 292,
      "outputs": [
        {
          "output_type": "execute_result",
          "data": {
            "text/plain": [
              "      Gable  Hip\n",
              "0         1    0\n",
              "1         1    0\n",
              "2         1    0\n",
              "3         1    0\n",
              "4         1    0\n",
              "...     ...  ...\n",
              "1455      1    0\n",
              "1456      1    0\n",
              "1457      1    0\n",
              "1458      0    1\n",
              "1459      1    0\n",
              "\n",
              "[1460 rows x 2 columns]"
            ],
            "text/html": [
              "\n",
              "  <div id=\"df-5d3055b0-2b53-4b50-b483-03c607c5b6fa\">\n",
              "    <div class=\"colab-df-container\">\n",
              "      <div>\n",
              "<style scoped>\n",
              "    .dataframe tbody tr th:only-of-type {\n",
              "        vertical-align: middle;\n",
              "    }\n",
              "\n",
              "    .dataframe tbody tr th {\n",
              "        vertical-align: top;\n",
              "    }\n",
              "\n",
              "    .dataframe thead th {\n",
              "        text-align: right;\n",
              "    }\n",
              "</style>\n",
              "<table border=\"1\" class=\"dataframe\">\n",
              "  <thead>\n",
              "    <tr style=\"text-align: right;\">\n",
              "      <th></th>\n",
              "      <th>Gable</th>\n",
              "      <th>Hip</th>\n",
              "    </tr>\n",
              "  </thead>\n",
              "  <tbody>\n",
              "    <tr>\n",
              "      <th>0</th>\n",
              "      <td>1</td>\n",
              "      <td>0</td>\n",
              "    </tr>\n",
              "    <tr>\n",
              "      <th>1</th>\n",
              "      <td>1</td>\n",
              "      <td>0</td>\n",
              "    </tr>\n",
              "    <tr>\n",
              "      <th>2</th>\n",
              "      <td>1</td>\n",
              "      <td>0</td>\n",
              "    </tr>\n",
              "    <tr>\n",
              "      <th>3</th>\n",
              "      <td>1</td>\n",
              "      <td>0</td>\n",
              "    </tr>\n",
              "    <tr>\n",
              "      <th>4</th>\n",
              "      <td>1</td>\n",
              "      <td>0</td>\n",
              "    </tr>\n",
              "    <tr>\n",
              "      <th>...</th>\n",
              "      <td>...</td>\n",
              "      <td>...</td>\n",
              "    </tr>\n",
              "    <tr>\n",
              "      <th>1455</th>\n",
              "      <td>1</td>\n",
              "      <td>0</td>\n",
              "    </tr>\n",
              "    <tr>\n",
              "      <th>1456</th>\n",
              "      <td>1</td>\n",
              "      <td>0</td>\n",
              "    </tr>\n",
              "    <tr>\n",
              "      <th>1457</th>\n",
              "      <td>1</td>\n",
              "      <td>0</td>\n",
              "    </tr>\n",
              "    <tr>\n",
              "      <th>1458</th>\n",
              "      <td>0</td>\n",
              "      <td>1</td>\n",
              "    </tr>\n",
              "    <tr>\n",
              "      <th>1459</th>\n",
              "      <td>1</td>\n",
              "      <td>0</td>\n",
              "    </tr>\n",
              "  </tbody>\n",
              "</table>\n",
              "<p>1460 rows × 2 columns</p>\n",
              "</div>\n",
              "      <button class=\"colab-df-convert\" onclick=\"convertToInteractive('df-5d3055b0-2b53-4b50-b483-03c607c5b6fa')\"\n",
              "              title=\"Convert this dataframe to an interactive table.\"\n",
              "              style=\"display:none;\">\n",
              "        \n",
              "  <svg xmlns=\"http://www.w3.org/2000/svg\" height=\"24px\"viewBox=\"0 0 24 24\"\n",
              "       width=\"24px\">\n",
              "    <path d=\"M0 0h24v24H0V0z\" fill=\"none\"/>\n",
              "    <path d=\"M18.56 5.44l.94 2.06.94-2.06 2.06-.94-2.06-.94-.94-2.06-.94 2.06-2.06.94zm-11 1L8.5 8.5l.94-2.06 2.06-.94-2.06-.94L8.5 2.5l-.94 2.06-2.06.94zm10 10l.94 2.06.94-2.06 2.06-.94-2.06-.94-.94-2.06-.94 2.06-2.06.94z\"/><path d=\"M17.41 7.96l-1.37-1.37c-.4-.4-.92-.59-1.43-.59-.52 0-1.04.2-1.43.59L10.3 9.45l-7.72 7.72c-.78.78-.78 2.05 0 2.83L4 21.41c.39.39.9.59 1.41.59.51 0 1.02-.2 1.41-.59l7.78-7.78 2.81-2.81c.8-.78.8-2.07 0-2.86zM5.41 20L4 18.59l7.72-7.72 1.47 1.35L5.41 20z\"/>\n",
              "  </svg>\n",
              "      </button>\n",
              "      \n",
              "  <style>\n",
              "    .colab-df-container {\n",
              "      display:flex;\n",
              "      flex-wrap:wrap;\n",
              "      gap: 12px;\n",
              "    }\n",
              "\n",
              "    .colab-df-convert {\n",
              "      background-color: #E8F0FE;\n",
              "      border: none;\n",
              "      border-radius: 50%;\n",
              "      cursor: pointer;\n",
              "      display: none;\n",
              "      fill: #1967D2;\n",
              "      height: 32px;\n",
              "      padding: 0 0 0 0;\n",
              "      width: 32px;\n",
              "    }\n",
              "\n",
              "    .colab-df-convert:hover {\n",
              "      background-color: #E2EBFA;\n",
              "      box-shadow: 0px 1px 2px rgba(60, 64, 67, 0.3), 0px 1px 3px 1px rgba(60, 64, 67, 0.15);\n",
              "      fill: #174EA6;\n",
              "    }\n",
              "\n",
              "    [theme=dark] .colab-df-convert {\n",
              "      background-color: #3B4455;\n",
              "      fill: #D2E3FC;\n",
              "    }\n",
              "\n",
              "    [theme=dark] .colab-df-convert:hover {\n",
              "      background-color: #434B5C;\n",
              "      box-shadow: 0px 1px 3px 1px rgba(0, 0, 0, 0.15);\n",
              "      filter: drop-shadow(0px 1px 2px rgba(0, 0, 0, 0.3));\n",
              "      fill: #FFFFFF;\n",
              "    }\n",
              "  </style>\n",
              "\n",
              "      <script>\n",
              "        const buttonEl =\n",
              "          document.querySelector('#df-5d3055b0-2b53-4b50-b483-03c607c5b6fa button.colab-df-convert');\n",
              "        buttonEl.style.display =\n",
              "          google.colab.kernel.accessAllowed ? 'block' : 'none';\n",
              "\n",
              "        async function convertToInteractive(key) {\n",
              "          const element = document.querySelector('#df-5d3055b0-2b53-4b50-b483-03c607c5b6fa');\n",
              "          const dataTable =\n",
              "            await google.colab.kernel.invokeFunction('convertToInteractive',\n",
              "                                                     [key], {});\n",
              "          if (!dataTable) return;\n",
              "\n",
              "          const docLinkHtml = 'Like what you see? Visit the ' +\n",
              "            '<a target=\"_blank\" href=https://colab.research.google.com/notebooks/data_table.ipynb>data table notebook</a>'\n",
              "            + ' to learn more about interactive tables.';\n",
              "          element.innerHTML = '';\n",
              "          dataTable['output_type'] = 'display_data';\n",
              "          await google.colab.output.renderOutput(dataTable, element);\n",
              "          const docLink = document.createElement('div');\n",
              "          docLink.innerHTML = docLinkHtml;\n",
              "          element.appendChild(docLink);\n",
              "        }\n",
              "      </script>\n",
              "    </div>\n",
              "  </div>\n",
              "  "
            ]
          },
          "metadata": {},
          "execution_count": 292
        }
      ]
    },
    {
      "cell_type": "code",
      "source": [
        "df_house.head(2)"
      ],
      "metadata": {
        "colab": {
          "base_uri": "https://localhost:8080/",
          "height": 205
        },
        "id": "b0_a3h6yVnU_",
        "outputId": "c7404bfa-c9d5-4e7e-d2f8-eef361a0a577"
      },
      "execution_count": 309,
      "outputs": [
        {
          "output_type": "execute_result",
          "data": {
            "text/plain": [
              "   Gable  Hip  Id  MSSubClass MSZoning  LotFrontage  LotArea Street Alley  \\\n",
              "0      1    0   1          60       RL         65.0     8450   Pave   NaN   \n",
              "1      1    0   2          20       RL         80.0     9600   Pave   NaN   \n",
              "\n",
              "  LotShape  ... PoolArea PoolQC Fence MiscFeature MiscVal MoSold YrSold  \\\n",
              "0      Reg  ...        0    NaN   NaN         NaN       0      2   2008   \n",
              "1      Reg  ...        0    NaN   NaN         NaN       0      5   2007   \n",
              "\n",
              "  SaleType SaleCondition  SalePrice  \n",
              "0       WD        Normal     208500  \n",
              "1       WD        Normal     181500  \n",
              "\n",
              "[2 rows x 83 columns]"
            ],
            "text/html": [
              "\n",
              "  <div id=\"df-557c982f-26a0-4060-86e6-28c04a86d0a3\">\n",
              "    <div class=\"colab-df-container\">\n",
              "      <div>\n",
              "<style scoped>\n",
              "    .dataframe tbody tr th:only-of-type {\n",
              "        vertical-align: middle;\n",
              "    }\n",
              "\n",
              "    .dataframe tbody tr th {\n",
              "        vertical-align: top;\n",
              "    }\n",
              "\n",
              "    .dataframe thead th {\n",
              "        text-align: right;\n",
              "    }\n",
              "</style>\n",
              "<table border=\"1\" class=\"dataframe\">\n",
              "  <thead>\n",
              "    <tr style=\"text-align: right;\">\n",
              "      <th></th>\n",
              "      <th>Gable</th>\n",
              "      <th>Hip</th>\n",
              "      <th>Id</th>\n",
              "      <th>MSSubClass</th>\n",
              "      <th>MSZoning</th>\n",
              "      <th>LotFrontage</th>\n",
              "      <th>LotArea</th>\n",
              "      <th>Street</th>\n",
              "      <th>Alley</th>\n",
              "      <th>LotShape</th>\n",
              "      <th>...</th>\n",
              "      <th>PoolArea</th>\n",
              "      <th>PoolQC</th>\n",
              "      <th>Fence</th>\n",
              "      <th>MiscFeature</th>\n",
              "      <th>MiscVal</th>\n",
              "      <th>MoSold</th>\n",
              "      <th>YrSold</th>\n",
              "      <th>SaleType</th>\n",
              "      <th>SaleCondition</th>\n",
              "      <th>SalePrice</th>\n",
              "    </tr>\n",
              "  </thead>\n",
              "  <tbody>\n",
              "    <tr>\n",
              "      <th>0</th>\n",
              "      <td>1</td>\n",
              "      <td>0</td>\n",
              "      <td>1</td>\n",
              "      <td>60</td>\n",
              "      <td>RL</td>\n",
              "      <td>65.0</td>\n",
              "      <td>8450</td>\n",
              "      <td>Pave</td>\n",
              "      <td>NaN</td>\n",
              "      <td>Reg</td>\n",
              "      <td>...</td>\n",
              "      <td>0</td>\n",
              "      <td>NaN</td>\n",
              "      <td>NaN</td>\n",
              "      <td>NaN</td>\n",
              "      <td>0</td>\n",
              "      <td>2</td>\n",
              "      <td>2008</td>\n",
              "      <td>WD</td>\n",
              "      <td>Normal</td>\n",
              "      <td>208500</td>\n",
              "    </tr>\n",
              "    <tr>\n",
              "      <th>1</th>\n",
              "      <td>1</td>\n",
              "      <td>0</td>\n",
              "      <td>2</td>\n",
              "      <td>20</td>\n",
              "      <td>RL</td>\n",
              "      <td>80.0</td>\n",
              "      <td>9600</td>\n",
              "      <td>Pave</td>\n",
              "      <td>NaN</td>\n",
              "      <td>Reg</td>\n",
              "      <td>...</td>\n",
              "      <td>0</td>\n",
              "      <td>NaN</td>\n",
              "      <td>NaN</td>\n",
              "      <td>NaN</td>\n",
              "      <td>0</td>\n",
              "      <td>5</td>\n",
              "      <td>2007</td>\n",
              "      <td>WD</td>\n",
              "      <td>Normal</td>\n",
              "      <td>181500</td>\n",
              "    </tr>\n",
              "  </tbody>\n",
              "</table>\n",
              "<p>2 rows × 83 columns</p>\n",
              "</div>\n",
              "      <button class=\"colab-df-convert\" onclick=\"convertToInteractive('df-557c982f-26a0-4060-86e6-28c04a86d0a3')\"\n",
              "              title=\"Convert this dataframe to an interactive table.\"\n",
              "              style=\"display:none;\">\n",
              "        \n",
              "  <svg xmlns=\"http://www.w3.org/2000/svg\" height=\"24px\"viewBox=\"0 0 24 24\"\n",
              "       width=\"24px\">\n",
              "    <path d=\"M0 0h24v24H0V0z\" fill=\"none\"/>\n",
              "    <path d=\"M18.56 5.44l.94 2.06.94-2.06 2.06-.94-2.06-.94-.94-2.06-.94 2.06-2.06.94zm-11 1L8.5 8.5l.94-2.06 2.06-.94-2.06-.94L8.5 2.5l-.94 2.06-2.06.94zm10 10l.94 2.06.94-2.06 2.06-.94-2.06-.94-.94-2.06-.94 2.06-2.06.94z\"/><path d=\"M17.41 7.96l-1.37-1.37c-.4-.4-.92-.59-1.43-.59-.52 0-1.04.2-1.43.59L10.3 9.45l-7.72 7.72c-.78.78-.78 2.05 0 2.83L4 21.41c.39.39.9.59 1.41.59.51 0 1.02-.2 1.41-.59l7.78-7.78 2.81-2.81c.8-.78.8-2.07 0-2.86zM5.41 20L4 18.59l7.72-7.72 1.47 1.35L5.41 20z\"/>\n",
              "  </svg>\n",
              "      </button>\n",
              "      \n",
              "  <style>\n",
              "    .colab-df-container {\n",
              "      display:flex;\n",
              "      flex-wrap:wrap;\n",
              "      gap: 12px;\n",
              "    }\n",
              "\n",
              "    .colab-df-convert {\n",
              "      background-color: #E8F0FE;\n",
              "      border: none;\n",
              "      border-radius: 50%;\n",
              "      cursor: pointer;\n",
              "      display: none;\n",
              "      fill: #1967D2;\n",
              "      height: 32px;\n",
              "      padding: 0 0 0 0;\n",
              "      width: 32px;\n",
              "    }\n",
              "\n",
              "    .colab-df-convert:hover {\n",
              "      background-color: #E2EBFA;\n",
              "      box-shadow: 0px 1px 2px rgba(60, 64, 67, 0.3), 0px 1px 3px 1px rgba(60, 64, 67, 0.15);\n",
              "      fill: #174EA6;\n",
              "    }\n",
              "\n",
              "    [theme=dark] .colab-df-convert {\n",
              "      background-color: #3B4455;\n",
              "      fill: #D2E3FC;\n",
              "    }\n",
              "\n",
              "    [theme=dark] .colab-df-convert:hover {\n",
              "      background-color: #434B5C;\n",
              "      box-shadow: 0px 1px 3px 1px rgba(0, 0, 0, 0.15);\n",
              "      filter: drop-shadow(0px 1px 2px rgba(0, 0, 0, 0.3));\n",
              "      fill: #FFFFFF;\n",
              "    }\n",
              "  </style>\n",
              "\n",
              "      <script>\n",
              "        const buttonEl =\n",
              "          document.querySelector('#df-557c982f-26a0-4060-86e6-28c04a86d0a3 button.colab-df-convert');\n",
              "        buttonEl.style.display =\n",
              "          google.colab.kernel.accessAllowed ? 'block' : 'none';\n",
              "\n",
              "        async function convertToInteractive(key) {\n",
              "          const element = document.querySelector('#df-557c982f-26a0-4060-86e6-28c04a86d0a3');\n",
              "          const dataTable =\n",
              "            await google.colab.kernel.invokeFunction('convertToInteractive',\n",
              "                                                     [key], {});\n",
              "          if (!dataTable) return;\n",
              "\n",
              "          const docLinkHtml = 'Like what you see? Visit the ' +\n",
              "            '<a target=\"_blank\" href=https://colab.research.google.com/notebooks/data_table.ipynb>data table notebook</a>'\n",
              "            + ' to learn more about interactive tables.';\n",
              "          element.innerHTML = '';\n",
              "          dataTable['output_type'] = 'display_data';\n",
              "          await google.colab.output.renderOutput(dataTable, element);\n",
              "          const docLink = document.createElement('div');\n",
              "          docLink.innerHTML = docLinkHtml;\n",
              "          element.appendChild(docLink);\n",
              "        }\n",
              "      </script>\n",
              "    </div>\n",
              "  </div>\n",
              "  "
            ]
          },
          "metadata": {},
          "execution_count": 309
        }
      ]
    },
    {
      "cell_type": "code",
      "source": [
        "df_house.plot.scatter('SF', 'SalePrice')"
      ],
      "metadata": {
        "colab": {
          "base_uri": "https://localhost:8080/",
          "height": 297
        },
        "id": "-nJy1G83VEHd",
        "outputId": "28d45882-4e16-48fe-fc80-2b3d7fb98d75"
      },
      "execution_count": 299,
      "outputs": [
        {
          "output_type": "execute_result",
          "data": {
            "text/plain": [
              "<matplotlib.axes._subplots.AxesSubplot at 0x7fccc18f7b50>"
            ]
          },
          "metadata": {},
          "execution_count": 299
        },
        {
          "output_type": "display_data",
          "data": {
            "text/plain": [
              "<Figure size 432x288 with 1 Axes>"
            ],
            "image/png": "[encoded data removed]"
          },
          "metadata": {
            "needs_background": "light"
          }
        }
      ]
    },
    {
      "cell_type": "code",
      "source": [
        "df_house=pd.get_dummies(df_house['RoofStyle'])[['Gable','Hip']].join(df_house)"
      ],
      "metadata": {
        "id": "DrO9-3odcxFi"
      },
      "execution_count": 302,
      "outputs": []
    },
    {
      "cell_type": "code",
      "source": [
        "df_house['Gable_SF']=df_house['Gable']*df_house['SF']\n",
        "df_house['Hip_SF']=df_house['Hip']*df_house['SF']\n",
        "X = ['SF','Hip', 'Hip_SF', 'Gable', 'Gable_SF']\n",
        "\n",
        "model(X=df_house[['SF','Hip','Hip_SF','Gable', 'Gable_SF']],Y=df_house['SalePrice'])\n",
        "\n",
        "df_house[['Gable_SF', 'Gable', 'SF']]"
      ],
      "metadata": {
        "id": "eamEr6Q_eduv",
        "colab": {
          "base_uri": "https://localhost:8080/",
          "height": 793
        },
        "outputId": "b9f7f9e1-da6c-4cdd-b0c5-98740130bf21"
      },
      "execution_count": 295,
      "outputs": [
        {
          "output_type": "stream",
          "name": "stderr",
          "text": [
            "/usr/local/lib/python3.7/dist-packages/seaborn/distributions.py:2619: FutureWarning: `distplot` is a deprecated function and will be removed in a future version. Please adapt your code to use either `displot` (a figure-level function with similar flexibility) or `kdeplot` (an axes-level function for kernel density plots).\n",
            "  warnings.warn(msg, FutureWarning)\n",
            "/usr/local/lib/python3.7/dist-packages/seaborn/distributions.py:2619: FutureWarning: `distplot` is a deprecated function and will be removed in a future version. Please adapt your code to use either `displot` (a figure-level function with similar flexibility) or `kdeplot` (an axes-level function for kernel density plots).\n",
            "  warnings.warn(msg, FutureWarning)\n"
          ]
        },
        {
          "output_type": "display_data",
          "data": {
            "text/plain": [
              "<Figure size 432x288 with 1 Axes>"
            ],
            "image/png": "[encoded data removed]"
          },
          "metadata": {
            "needs_background": "light"
          }
        },
        {
          "output_type": "execute_result",
          "data": {
            "text/plain": [
              "      Gable_SF  Gable    SF\n",
              "0         1710      1  1710\n",
              "1         1262      1  1262\n",
              "2         1786      1  1786\n",
              "3         1717      1  1717\n",
              "4         2198      1  2198\n",
              "...        ...    ...   ...\n",
              "1455      1647      1  1647\n",
              "1456      2073      1  2073\n",
              "1457      2340      1  2340\n",
              "1458         0      0  1078\n",
              "1459      1256      1  1256\n",
              "\n",
              "[1460 rows x 3 columns]"
            ],
            "text/html": [
              "\n",
              "  <div id=\"df-38676925-275f-4f60-a1c1-43a442bc35fc\">\n",
              "    <div class=\"colab-df-container\">\n",
              "      <div>\n",
              "<style scoped>\n",
              "    .dataframe tbody tr th:only-of-type {\n",
              "        vertical-align: middle;\n",
              "    }\n",
              "\n",
              "    .dataframe tbody tr th {\n",
              "        vertical-align: top;\n",
              "    }\n",
              "\n",
              "    .dataframe thead th {\n",
              "        text-align: right;\n",
              "    }\n",
              "</style>\n",
              "<table border=\"1\" class=\"dataframe\">\n",
              "  <thead>\n",
              "    <tr style=\"text-align: right;\">\n",
              "      <th></th>\n",
              "      <th>Gable_SF</th>\n",
              "      <th>Gable</th>\n",
              "      <th>SF</th>\n",
              "    </tr>\n",
              "  </thead>\n",
              "  <tbody>\n",
              "    <tr>\n",
              "      <th>0</th>\n",
              "      <td>1710</td>\n",
              "      <td>1</td>\n",
              "      <td>1710</td>\n",
              "    </tr>\n",
              "    <tr>\n",
              "      <th>1</th>\n",
              "      <td>1262</td>\n",
              "      <td>1</td>\n",
              "      <td>1262</td>\n",
              "    </tr>\n",
              "    <tr>\n",
              "      <th>2</th>\n",
              "      <td>1786</td>\n",
              "      <td>1</td>\n",
              "      <td>1786</td>\n",
              "    </tr>\n",
              "    <tr>\n",
              "      <th>3</th>\n",
              "      <td>1717</td>\n",
              "      <td>1</td>\n",
              "      <td>1717</td>\n",
              "    </tr>\n",
              "    <tr>\n",
              "      <th>4</th>\n",
              "      <td>2198</td>\n",
              "      <td>1</td>\n",
              "      <td>2198</td>\n",
              "    </tr>\n",
              "    <tr>\n",
              "      <th>...</th>\n",
              "      <td>...</td>\n",
              "      <td>...</td>\n",
              "      <td>...</td>\n",
              "    </tr>\n",
              "    <tr>\n",
              "      <th>1455</th>\n",
              "      <td>1647</td>\n",
              "      <td>1</td>\n",
              "      <td>1647</td>\n",
              "    </tr>\n",
              "    <tr>\n",
              "      <th>1456</th>\n",
              "      <td>2073</td>\n",
              "      <td>1</td>\n",
              "      <td>2073</td>\n",
              "    </tr>\n",
              "    <tr>\n",
              "      <th>1457</th>\n",
              "      <td>2340</td>\n",
              "      <td>1</td>\n",
              "      <td>2340</td>\n",
              "    </tr>\n",
              "    <tr>\n",
              "      <th>1458</th>\n",
              "      <td>0</td>\n",
              "      <td>0</td>\n",
              "      <td>1078</td>\n",
              "    </tr>\n",
              "    <tr>\n",
              "      <th>1459</th>\n",
              "      <td>1256</td>\n",
              "      <td>1</td>\n",
              "      <td>1256</td>\n",
              "    </tr>\n",
              "  </tbody>\n",
              "</table>\n",
              "<p>1460 rows × 3 columns</p>\n",
              "</div>\n",
              "      <button class=\"colab-df-convert\" onclick=\"convertToInteractive('df-38676925-275f-4f60-a1c1-43a442bc35fc')\"\n",
              "              title=\"Convert this dataframe to an interactive table.\"\n",
              "              style=\"display:none;\">\n",
              "        \n",
              "  <svg xmlns=\"http://www.w3.org/2000/svg\" height=\"24px\"viewBox=\"0 0 24 24\"\n",
              "       width=\"24px\">\n",
              "    <path d=\"M0 0h24v24H0V0z\" fill=\"none\"/>\n",
              "    <path d=\"M18.56 5.44l.94 2.06.94-2.06 2.06-.94-2.06-.94-.94-2.06-.94 2.06-2.06.94zm-11 1L8.5 8.5l.94-2.06 2.06-.94-2.06-.94L8.5 2.5l-.94 2.06-2.06.94zm10 10l.94 2.06.94-2.06 2.06-.94-2.06-.94-.94-2.06-.94 2.06-2.06.94z\"/><path d=\"M17.41 7.96l-1.37-1.37c-.4-.4-.92-.59-1.43-.59-.52 0-1.04.2-1.43.59L10.3 9.45l-7.72 7.72c-.78.78-.78 2.05 0 2.83L4 21.41c.39.39.9.59 1.41.59.51 0 1.02-.2 1.41-.59l7.78-7.78 2.81-2.81c.8-.78.8-2.07 0-2.86zM5.41 20L4 18.59l7.72-7.72 1.47 1.35L5.41 20z\"/>\n",
              "  </svg>\n",
              "      </button>\n",
              "      \n",
              "  <style>\n",
              "    .colab-df-container {\n",
              "      display:flex;\n",
              "      flex-wrap:wrap;\n",
              "      gap: 12px;\n",
              "    }\n",
              "\n",
              "    .colab-df-convert {\n",
              "      background-color: #E8F0FE;\n",
              "      border: none;\n",
              "      border-radius: 50%;\n",
              "      cursor: pointer;\n",
              "      display: none;\n",
              "      fill: #1967D2;\n",
              "      height: 32px;\n",
              "      padding: 0 0 0 0;\n",
              "      width: 32px;\n",
              "    }\n",
              "\n",
              "    .colab-df-convert:hover {\n",
              "      background-color: #E2EBFA;\n",
              "      box-shadow: 0px 1px 2px rgba(60, 64, 67, 0.3), 0px 1px 3px 1px rgba(60, 64, 67, 0.15);\n",
              "      fill: #174EA6;\n",
              "    }\n",
              "\n",
              "    [theme=dark] .colab-df-convert {\n",
              "      background-color: #3B4455;\n",
              "      fill: #D2E3FC;\n",
              "    }\n",
              "\n",
              "    [theme=dark] .colab-df-convert:hover {\n",
              "      background-color: #434B5C;\n",
              "      box-shadow: 0px 1px 3px 1px rgba(0, 0, 0, 0.15);\n",
              "      filter: drop-shadow(0px 1px 2px rgba(0, 0, 0, 0.3));\n",
              "      fill: #FFFFFF;\n",
              "    }\n",
              "  </style>\n",
              "\n",
              "      <script>\n",
              "        const buttonEl =\n",
              "          document.querySelector('#df-38676925-275f-4f60-a1c1-43a442bc35fc button.colab-df-convert');\n",
              "        buttonEl.style.display =\n",
              "          google.colab.kernel.accessAllowed ? 'block' : 'none';\n",
              "\n",
              "        async function convertToInteractive(key) {\n",
              "          const element = document.querySelector('#df-38676925-275f-4f60-a1c1-43a442bc35fc');\n",
              "          const dataTable =\n",
              "            await google.colab.kernel.invokeFunction('convertToInteractive',\n",
              "                                                     [key], {});\n",
              "          if (!dataTable) return;\n",
              "\n",
              "          const docLinkHtml = 'Like what you see? Visit the ' +\n",
              "            '<a target=\"_blank\" href=https://colab.research.google.com/notebooks/data_table.ipynb>data table notebook</a>'\n",
              "            + ' to learn more about interactive tables.';\n",
              "          element.innerHTML = '';\n",
              "          dataTable['output_type'] = 'display_data';\n",
              "          await google.colab.output.renderOutput(dataTable, element);\n",
              "          const docLink = document.createElement('div');\n",
              "          docLink.innerHTML = docLinkHtml;\n",
              "          element.appendChild(docLink);\n",
              "        }\n",
              "      </script>\n",
              "    </div>\n",
              "  </div>\n",
              "  "
            ]
          },
          "metadata": {},
          "execution_count": 295
        }
      ]
    }
  ]
}