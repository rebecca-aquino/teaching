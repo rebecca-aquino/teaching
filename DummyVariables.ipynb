{
  "nbformat": 4,
  "nbformat_minor": 0,
  "metadata": {
    "colab": {
      "provenance": [],
      "collapsed_sections": [],
      "authorship_tag": "ABX9TyNQqajGB+Z0bLfn59zck5ao",
      "include_colab_link": true
    },
    "kernelspec": {
      "name": "python3",
      "display_name": "Python 3"
    },
    "language_info": {
      "name": "python"
    }
  },
  "cells": [
    {
      "cell_type": "markdown",
      "metadata": {
        "id": "view-in-github",
        "colab_type": "text"
      },
      "source": [
        "<a href=\"https://colab.research.google.com/github/rebecca-aquino/teaching/blob/main/DummyVariables.ipynb\" target=\"_parent\"><img src=\"https://colab.research.google.com/assets/colab-badge.svg\" alt=\"Open In Colab\"/></a>"
      ]
    },
    {
      "cell_type": "markdown",
      "source": [
        "#Housing Data Import "
      ],
      "metadata": {
        "id": "OcJIPydRQpWn"
      }
    },
    {
      "cell_type": "code",
      "source": [
        "import pandas as pd\n",
        "import numpy as np\n",
        "\n",
        "import matplotlib.pyplot as plt\n",
        "%matplotlib inline\n",
        "\n",
        "from sklearn.linear_model import LinearRegression\n",
        "from sklearn.metrics import mean_squared_error\n",
        "from sklearn import metrics\n",
        "from sklearn.model_selection import train_test_split\n",
        "from sklearn.preprocessing import PolynomialFeatures\n",
        "from sklearn.pipeline import Pipeline\n",
        "from sklearn.preprocessing import StandardScaler\n",
        "\n",
        "import statsmodels.api as sm\n",
        "\n",
        "import seaborn as sns\n",
        "%matplotlib inline "
      ],
      "metadata": {
        "id": "R089SWzaQtmM"
      },
      "execution_count": 2,
      "outputs": []
    },
    {
      "cell_type": "code",
      "source": [
        "house_data_path='https://raw.githubusercontent.com/data-doctors/kaggle-house-prices-advanced-regression-techniques/master/data/train.csv'\n",
        "df_house=pd.read_csv(house_data_path) # invoke Pandas and use read_csv() method passing in the parameter of the csv location, in this case a url address\n",
        "df_house.head(1) # Visually Inspect that it loaded correctly"
      ],
      "metadata": {
        "colab": {
          "base_uri": "https://localhost:8080/",
          "height": 174
        },
        "id": "S4S3iLxZQz4Z",
        "outputId": "11019002-ddcd-48a1-8975-d6c186d3ca80"
      },
      "execution_count": 3,
      "outputs": [
        {
          "output_type": "execute_result",
          "data": {
            "text/plain": [
              "   Id  MSSubClass MSZoning  LotFrontage  LotArea Street Alley LotShape  \\\n",
              "0   1          60       RL         65.0     8450   Pave   NaN      Reg   \n",
              "\n",
              "  LandContour Utilities  ... PoolArea PoolQC Fence MiscFeature MiscVal MoSold  \\\n",
              "0         Lvl    AllPub  ...        0    NaN   NaN         NaN       0      2   \n",
              "\n",
              "  YrSold  SaleType  SaleCondition  SalePrice  \n",
              "0   2008        WD         Normal     208500  \n",
              "\n",
              "[1 rows x 81 columns]"
            ],
            "text/html": [
              "\n",
              "  <div id=\"df-56d37893-bbd9-4346-a454-88154d13ba70\">\n",
              "    <div class=\"colab-df-container\">\n",
              "      <div>\n",
              "<style scoped>\n",
              "    .dataframe tbody tr th:only-of-type {\n",
              "        vertical-align: middle;\n",
              "    }\n",
              "\n",
              "    .dataframe tbody tr th {\n",
              "        vertical-align: top;\n",
              "    }\n",
              "\n",
              "    .dataframe thead th {\n",
              "        text-align: right;\n",
              "    }\n",
              "</style>\n",
              "<table border=\"1\" class=\"dataframe\">\n",
              "  <thead>\n",
              "    <tr style=\"text-align: right;\">\n",
              "      <th></th>\n",
              "      <th>Id</th>\n",
              "      <th>MSSubClass</th>\n",
              "      <th>MSZoning</th>\n",
              "      <th>LotFrontage</th>\n",
              "      <th>LotArea</th>\n",
              "      <th>Street</th>\n",
              "      <th>Alley</th>\n",
              "      <th>LotShape</th>\n",
              "      <th>LandContour</th>\n",
              "      <th>Utilities</th>\n",
              "      <th>...</th>\n",
              "      <th>PoolArea</th>\n",
              "      <th>PoolQC</th>\n",
              "      <th>Fence</th>\n",
              "      <th>MiscFeature</th>\n",
              "      <th>MiscVal</th>\n",
              "      <th>MoSold</th>\n",
              "      <th>YrSold</th>\n",
              "      <th>SaleType</th>\n",
              "      <th>SaleCondition</th>\n",
              "      <th>SalePrice</th>\n",
              "    </tr>\n",
              "  </thead>\n",
              "  <tbody>\n",
              "    <tr>\n",
              "      <th>0</th>\n",
              "      <td>1</td>\n",
              "      <td>60</td>\n",
              "      <td>RL</td>\n",
              "      <td>65.0</td>\n",
              "      <td>8450</td>\n",
              "      <td>Pave</td>\n",
              "      <td>NaN</td>\n",
              "      <td>Reg</td>\n",
              "      <td>Lvl</td>\n",
              "      <td>AllPub</td>\n",
              "      <td>...</td>\n",
              "      <td>0</td>\n",
              "      <td>NaN</td>\n",
              "      <td>NaN</td>\n",
              "      <td>NaN</td>\n",
              "      <td>0</td>\n",
              "      <td>2</td>\n",
              "      <td>2008</td>\n",
              "      <td>WD</td>\n",
              "      <td>Normal</td>\n",
              "      <td>208500</td>\n",
              "    </tr>\n",
              "  </tbody>\n",
              "</table>\n",
              "<p>1 rows × 81 columns</p>\n",
              "</div>\n",
              "      <button class=\"colab-df-convert\" onclick=\"convertToInteractive('df-56d37893-bbd9-4346-a454-88154d13ba70')\"\n",
              "              title=\"Convert this dataframe to an interactive table.\"\n",
              "              style=\"display:none;\">\n",
              "        \n",
              "  <svg xmlns=\"http://www.w3.org/2000/svg\" height=\"24px\"viewBox=\"0 0 24 24\"\n",
              "       width=\"24px\">\n",
              "    <path d=\"M0 0h24v24H0V0z\" fill=\"none\"/>\n",
              "    <path d=\"M18.56 5.44l.94 2.06.94-2.06 2.06-.94-2.06-.94-.94-2.06-.94 2.06-2.06.94zm-11 1L8.5 8.5l.94-2.06 2.06-.94-2.06-.94L8.5 2.5l-.94 2.06-2.06.94zm10 10l.94 2.06.94-2.06 2.06-.94-2.06-.94-.94-2.06-.94 2.06-2.06.94z\"/><path d=\"M17.41 7.96l-1.37-1.37c-.4-.4-.92-.59-1.43-.59-.52 0-1.04.2-1.43.59L10.3 9.45l-7.72 7.72c-.78.78-.78 2.05 0 2.83L4 21.41c.39.39.9.59 1.41.59.51 0 1.02-.2 1.41-.59l7.78-7.78 2.81-2.81c.8-.78.8-2.07 0-2.86zM5.41 20L4 18.59l7.72-7.72 1.47 1.35L5.41 20z\"/>\n",
              "  </svg>\n",
              "      </button>\n",
              "      \n",
              "  <style>\n",
              "    .colab-df-container {\n",
              "      display:flex;\n",
              "      flex-wrap:wrap;\n",
              "      gap: 12px;\n",
              "    }\n",
              "\n",
              "    .colab-df-convert {\n",
              "      background-color: #E8F0FE;\n",
              "      border: none;\n",
              "      border-radius: 50%;\n",
              "      cursor: pointer;\n",
              "      display: none;\n",
              "      fill: #1967D2;\n",
              "      height: 32px;\n",
              "      padding: 0 0 0 0;\n",
              "      width: 32px;\n",
              "    }\n",
              "\n",
              "    .colab-df-convert:hover {\n",
              "      background-color: #E2EBFA;\n",
              "      box-shadow: 0px 1px 2px rgba(60, 64, 67, 0.3), 0px 1px 3px 1px rgba(60, 64, 67, 0.15);\n",
              "      fill: #174EA6;\n",
              "    }\n",
              "\n",
              "    [theme=dark] .colab-df-convert {\n",
              "      background-color: #3B4455;\n",
              "      fill: #D2E3FC;\n",
              "    }\n",
              "\n",
              "    [theme=dark] .colab-df-convert:hover {\n",
              "      background-color: #434B5C;\n",
              "      box-shadow: 0px 1px 3px 1px rgba(0, 0, 0, 0.15);\n",
              "      filter: drop-shadow(0px 1px 2px rgba(0, 0, 0, 0.3));\n",
              "      fill: #FFFFFF;\n",
              "    }\n",
              "  </style>\n",
              "\n",
              "      <script>\n",
              "        const buttonEl =\n",
              "          document.querySelector('#df-56d37893-bbd9-4346-a454-88154d13ba70 button.colab-df-convert');\n",
              "        buttonEl.style.display =\n",
              "          google.colab.kernel.accessAllowed ? 'block' : 'none';\n",
              "\n",
              "        async function convertToInteractive(key) {\n",
              "          const element = document.querySelector('#df-56d37893-bbd9-4346-a454-88154d13ba70');\n",
              "          const dataTable =\n",
              "            await google.colab.kernel.invokeFunction('convertToInteractive',\n",
              "                                                     [key], {});\n",
              "          if (!dataTable) return;\n",
              "\n",
              "          const docLinkHtml = 'Like what you see? Visit the ' +\n",
              "            '<a target=\"_blank\" href=https://colab.research.google.com/notebooks/data_table.ipynb>data table notebook</a>'\n",
              "            + ' to learn more about interactive tables.';\n",
              "          element.innerHTML = '';\n",
              "          dataTable['output_type'] = 'display_data';\n",
              "          await google.colab.output.renderOutput(dataTable, element);\n",
              "          const docLink = document.createElement('div');\n",
              "          docLink.innerHTML = docLinkHtml;\n",
              "          element.appendChild(docLink);\n",
              "        }\n",
              "      </script>\n",
              "    </div>\n",
              "  </div>\n",
              "  "
            ]
          },
          "metadata": {},
          "execution_count": 3
        }
      ]
    },
    {
      "cell_type": "code",
      "source": [
        "df_house.corr()"
      ],
      "metadata": {
        "colab": {
          "base_uri": "https://localhost:8080/",
          "height": 1000
        },
        "id": "NZHzOTy-Q2AD",
        "outputId": "aea30ba9-ebb7-46c2-abf4-093ee6fe86b8"
      },
      "execution_count": 4,
      "outputs": [
        {
          "output_type": "execute_result",
          "data": {
            "text/plain": [
              "                     Id  MSSubClass  LotFrontage   LotArea  OverallQual  \\\n",
              "Id             1.000000    0.011156    -0.010601 -0.033226    -0.028365   \n",
              "MSSubClass     0.011156    1.000000    -0.386347 -0.139781     0.032628   \n",
              "LotFrontage   -0.010601   -0.386347     1.000000  0.426095     0.251646   \n",
              "LotArea       -0.033226   -0.139781     0.426095  1.000000     0.105806   \n",
              "OverallQual   -0.028365    0.032628     0.251646  0.105806     1.000000   \n",
              "OverallCond    0.012609   -0.059316    -0.059213 -0.005636    -0.091932   \n",
              "YearBuilt     -0.012713    0.027850     0.123349  0.014228     0.572323   \n",
              "YearRemodAdd  -0.021998    0.040581     0.088866  0.013788     0.550684   \n",
              "MasVnrArea    -0.050298    0.022936     0.193458  0.104160     0.411876   \n",
              "BsmtFinSF1    -0.005024   -0.069836     0.233633  0.214103     0.239666   \n",
              "BsmtFinSF2    -0.005968   -0.065649     0.049900  0.111170    -0.059119   \n",
              "BsmtUnfSF     -0.007940   -0.140759     0.132644 -0.002618     0.308159   \n",
              "TotalBsmtSF   -0.015415   -0.238518     0.392075  0.260833     0.537808   \n",
              "1stFlrSF       0.010496   -0.251758     0.457181  0.299475     0.476224   \n",
              "2ndFlrSF       0.005590    0.307886     0.080177  0.050986     0.295493   \n",
              "LowQualFinSF  -0.044230    0.046474     0.038469  0.004779    -0.030429   \n",
              "GrLivArea      0.008273    0.074853     0.402797  0.263116     0.593007   \n",
              "BsmtFullBath   0.002289    0.003491     0.100949  0.158155     0.111098   \n",
              "BsmtHalfBath  -0.020155   -0.002333    -0.007234  0.048046    -0.040150   \n",
              "FullBath       0.005587    0.131608     0.198769  0.126031     0.550600   \n",
              "HalfBath       0.006784    0.177354     0.053532  0.014259     0.273458   \n",
              "BedroomAbvGr   0.037719   -0.023438     0.263170  0.119690     0.101676   \n",
              "KitchenAbvGr   0.002951    0.281721    -0.006069 -0.017784    -0.183882   \n",
              "TotRmsAbvGrd   0.027239    0.040380     0.352096  0.190015     0.427452   \n",
              "Fireplaces    -0.019772   -0.045569     0.266639  0.271364     0.396765   \n",
              "GarageYrBlt    0.000072    0.085072     0.070250 -0.024947     0.547766   \n",
              "GarageCars     0.016570   -0.040110     0.285691  0.154871     0.600671   \n",
              "GarageArea     0.017634   -0.098672     0.344997  0.180403     0.562022   \n",
              "WoodDeckSF    -0.029643   -0.012579     0.088521  0.171698     0.238923   \n",
              "OpenPorchSF   -0.000477   -0.006100     0.151972  0.084774     0.308819   \n",
              "EnclosedPorch  0.002889   -0.012037     0.010700 -0.018340    -0.113937   \n",
              "3SsnPorch     -0.046635   -0.043825     0.070029  0.020423     0.030371   \n",
              "ScreenPorch    0.001330   -0.026030     0.041383  0.043160     0.064886   \n",
              "PoolArea       0.057044    0.008283     0.206167  0.077672     0.065166   \n",
              "MiscVal       -0.006242   -0.007683     0.003368  0.038068    -0.031406   \n",
              "MoSold         0.021172   -0.013585     0.011200  0.001205     0.070815   \n",
              "YrSold         0.000712   -0.021407     0.007450 -0.014261    -0.027347   \n",
              "SalePrice     -0.021917   -0.084284     0.351799  0.263843     0.790982   \n",
              "\n",
              "               OverallCond  YearBuilt  YearRemodAdd  MasVnrArea  BsmtFinSF1  \\\n",
              "Id                0.012609  -0.012713     -0.021998   -0.050298   -0.005024   \n",
              "MSSubClass       -0.059316   0.027850      0.040581    0.022936   -0.069836   \n",
              "LotFrontage      -0.059213   0.123349      0.088866    0.193458    0.233633   \n",
              "LotArea          -0.005636   0.014228      0.013788    0.104160    0.214103   \n",
              "OverallQual      -0.091932   0.572323      0.550684    0.411876    0.239666   \n",
              "OverallCond       1.000000  -0.375983      0.073741   -0.128101   -0.046231   \n",
              "YearBuilt        -0.375983   1.000000      0.592855    0.315707    0.249503   \n",
              "YearRemodAdd      0.073741   0.592855      1.000000    0.179618    0.128451   \n",
              "MasVnrArea       -0.128101   0.315707      0.179618    1.000000    0.264736   \n",
              "BsmtFinSF1       -0.046231   0.249503      0.128451    0.264736    1.000000   \n",
              "BsmtFinSF2        0.040229  -0.049107     -0.067759   -0.072319   -0.050117   \n",
              "BsmtUnfSF        -0.136841   0.149040      0.181133    0.114442   -0.495251   \n",
              "TotalBsmtSF      -0.171098   0.391452      0.291066    0.363936    0.522396   \n",
              "1stFlrSF         -0.144203   0.281986      0.240379    0.344501    0.445863   \n",
              "2ndFlrSF          0.028942   0.010308      0.140024    0.174561   -0.137079   \n",
              "LowQualFinSF      0.025494  -0.183784     -0.062419   -0.069071   -0.064503   \n",
              "GrLivArea        -0.079686   0.199010      0.287389    0.390857    0.208171   \n",
              "BsmtFullBath     -0.054942   0.187599      0.119470    0.085310    0.649212   \n",
              "BsmtHalfBath      0.117821  -0.038162     -0.012337    0.026673    0.067418   \n",
              "FullBath         -0.194149   0.468271      0.439046    0.276833    0.058543   \n",
              "HalfBath         -0.060769   0.242656      0.183331    0.201444    0.004262   \n",
              "BedroomAbvGr      0.012980  -0.070651     -0.040581    0.102821   -0.107355   \n",
              "KitchenAbvGr     -0.087001  -0.174800     -0.149598   -0.037610   -0.081007   \n",
              "TotRmsAbvGrd     -0.057583   0.095589      0.191740    0.280682    0.044316   \n",
              "Fireplaces       -0.023820   0.147716      0.112581    0.249070    0.260011   \n",
              "GarageYrBlt      -0.324297   0.825667      0.642277    0.252691    0.153484   \n",
              "GarageCars       -0.185758   0.537850      0.420622    0.364204    0.224054   \n",
              "GarageArea       -0.151521   0.478954      0.371600    0.373066    0.296970   \n",
              "WoodDeckSF       -0.003334   0.224880      0.205726    0.159718    0.204306   \n",
              "OpenPorchSF      -0.032589   0.188686      0.226298    0.125703    0.111761   \n",
              "EnclosedPorch     0.070356  -0.387268     -0.193919   -0.110204   -0.102303   \n",
              "3SsnPorch         0.025504   0.031355      0.045286    0.018796    0.026451   \n",
              "ScreenPorch       0.054811  -0.050364     -0.038740    0.061466    0.062021   \n",
              "PoolArea         -0.001985   0.004950      0.005829    0.011723    0.140491   \n",
              "MiscVal           0.068777  -0.034383     -0.010286   -0.029815    0.003571   \n",
              "MoSold           -0.003511   0.012398      0.021490   -0.005965   -0.015727   \n",
              "YrSold            0.043950  -0.013618      0.035743   -0.008201    0.014359   \n",
              "SalePrice        -0.077856   0.522897      0.507101    0.477493    0.386420   \n",
              "\n",
              "               ...  WoodDeckSF  OpenPorchSF  EnclosedPorch  3SsnPorch  \\\n",
              "Id             ...   -0.029643    -0.000477       0.002889  -0.046635   \n",
              "MSSubClass     ...   -0.012579    -0.006100      -0.012037  -0.043825   \n",
              "LotFrontage    ...    0.088521     0.151972       0.010700   0.070029   \n",
              "LotArea        ...    0.171698     0.084774      -0.018340   0.020423   \n",
              "OverallQual    ...    0.238923     0.308819      -0.113937   0.030371   \n",
              "OverallCond    ...   -0.003334    -0.032589       0.070356   0.025504   \n",
              "YearBuilt      ...    0.224880     0.188686      -0.387268   0.031355   \n",
              "YearRemodAdd   ...    0.205726     0.226298      -0.193919   0.045286   \n",
              "MasVnrArea     ...    0.159718     0.125703      -0.110204   0.018796   \n",
              "BsmtFinSF1     ...    0.204306     0.111761      -0.102303   0.026451   \n",
              "BsmtFinSF2     ...    0.067898     0.003093       0.036543  -0.029993   \n",
              "BsmtUnfSF      ...   -0.005316     0.129005      -0.002538   0.020764   \n",
              "TotalBsmtSF    ...    0.232019     0.247264      -0.095478   0.037384   \n",
              "1stFlrSF       ...    0.235459     0.211671      -0.065292   0.056104   \n",
              "2ndFlrSF       ...    0.092165     0.208026       0.061989  -0.024358   \n",
              "LowQualFinSF   ...   -0.025444     0.018251       0.061081  -0.004296   \n",
              "GrLivArea      ...    0.247433     0.330224       0.009113   0.020643   \n",
              "BsmtFullBath   ...    0.175315     0.067341      -0.049911  -0.000106   \n",
              "BsmtHalfBath   ...    0.040161    -0.025324      -0.008555   0.035114   \n",
              "FullBath       ...    0.187703     0.259977      -0.115093   0.035353   \n",
              "HalfBath       ...    0.108080     0.199740      -0.095317  -0.004972   \n",
              "BedroomAbvGr   ...    0.046854     0.093810       0.041570  -0.024478   \n",
              "KitchenAbvGr   ...   -0.090130    -0.070091       0.037312  -0.024600   \n",
              "TotRmsAbvGrd   ...    0.165984     0.234192       0.004151  -0.006683   \n",
              "Fireplaces     ...    0.200019     0.169405      -0.024822   0.011257   \n",
              "GarageYrBlt    ...    0.224577     0.228425      -0.297003   0.023544   \n",
              "GarageCars     ...    0.226342     0.213569      -0.151434   0.035765   \n",
              "GarageArea     ...    0.224666     0.241435      -0.121777   0.035087   \n",
              "WoodDeckSF     ...    1.000000     0.058661      -0.125989  -0.032771   \n",
              "OpenPorchSF    ...    0.058661     1.000000      -0.093079  -0.005842   \n",
              "EnclosedPorch  ...   -0.125989    -0.093079       1.000000  -0.037305   \n",
              "3SsnPorch      ...   -0.032771    -0.005842      -0.037305   1.000000   \n",
              "ScreenPorch    ...   -0.074181     0.074304      -0.082864  -0.031436   \n",
              "PoolArea       ...    0.073378     0.060762       0.054203  -0.007992   \n",
              "MiscVal        ...   -0.009551    -0.018584       0.018361   0.000354   \n",
              "MoSold         ...    0.021011     0.071255      -0.028887   0.029474   \n",
              "YrSold         ...    0.022270    -0.057619      -0.009916   0.018645   \n",
              "SalePrice      ...    0.324413     0.315856      -0.128578   0.044584   \n",
              "\n",
              "               ScreenPorch  PoolArea   MiscVal    MoSold    YrSold  SalePrice  \n",
              "Id                0.001330  0.057044 -0.006242  0.021172  0.000712  -0.021917  \n",
              "MSSubClass       -0.026030  0.008283 -0.007683 -0.013585 -0.021407  -0.084284  \n",
              "LotFrontage       0.041383  0.206167  0.003368  0.011200  0.007450   0.351799  \n",
              "LotArea           0.043160  0.077672  0.038068  0.001205 -0.014261   0.263843  \n",
              "OverallQual       0.064886  0.065166 -0.031406  0.070815 -0.027347   0.790982  \n",
              "OverallCond       0.054811 -0.001985  0.068777 -0.003511  0.043950  -0.077856  \n",
              "YearBuilt        -0.050364  0.004950 -0.034383  0.012398 -0.013618   0.522897  \n",
              "YearRemodAdd     -0.038740  0.005829 -0.010286  0.021490  0.035743   0.507101  \n",
              "MasVnrArea        0.061466  0.011723 -0.029815 -0.005965 -0.008201   0.477493  \n",
              "BsmtFinSF1        0.062021  0.140491  0.003571 -0.015727  0.014359   0.386420  \n",
              "BsmtFinSF2        0.088871  0.041709  0.004940 -0.015211  0.031706  -0.011378  \n",
              "BsmtUnfSF        -0.012579 -0.035092 -0.023837  0.034888 -0.041258   0.214479  \n",
              "TotalBsmtSF       0.084489  0.126053 -0.018479  0.013196 -0.014969   0.613581  \n",
              "1stFlrSF          0.088758  0.131525 -0.021096  0.031372 -0.013604   0.605852  \n",
              "2ndFlrSF          0.040606  0.081487  0.016197  0.035164 -0.028700   0.319334  \n",
              "LowQualFinSF      0.026799  0.062157 -0.003793 -0.022174 -0.028921  -0.025606  \n",
              "GrLivArea         0.101510  0.170205 -0.002416  0.050240 -0.036526   0.708624  \n",
              "BsmtFullBath      0.023148  0.067616 -0.023047 -0.025361  0.067049   0.227122  \n",
              "BsmtHalfBath      0.032121  0.020025 -0.007367  0.032873 -0.046524  -0.016844  \n",
              "FullBath         -0.008106  0.049604 -0.014290  0.055872 -0.019669   0.560664  \n",
              "HalfBath          0.072426  0.022381  0.001290 -0.009050 -0.010269   0.284108  \n",
              "BedroomAbvGr      0.044300  0.070703  0.007767  0.046544 -0.036014   0.168213  \n",
              "KitchenAbvGr     -0.051613 -0.014525  0.062341  0.026589  0.031687  -0.135907  \n",
              "TotRmsAbvGrd      0.059383  0.083757  0.024763  0.036907 -0.034516   0.533723  \n",
              "Fireplaces        0.184530  0.095074  0.001409  0.046357 -0.024096   0.466929  \n",
              "GarageYrBlt      -0.075418 -0.014501 -0.032417  0.005337 -0.001014   0.486362  \n",
              "GarageCars        0.050494  0.020934 -0.043080  0.040522 -0.039117   0.640409  \n",
              "GarageArea        0.051412  0.061047 -0.027400  0.027974 -0.027378   0.623431  \n",
              "WoodDeckSF       -0.074181  0.073378 -0.009551  0.021011  0.022270   0.324413  \n",
              "OpenPorchSF       0.074304  0.060762 -0.018584  0.071255 -0.057619   0.315856  \n",
              "EnclosedPorch    -0.082864  0.054203  0.018361 -0.028887 -0.009916  -0.128578  \n",
              "3SsnPorch        -0.031436 -0.007992  0.000354  0.029474  0.018645   0.044584  \n",
              "ScreenPorch       1.000000  0.051307  0.031946  0.023217  0.010694   0.111447  \n",
              "PoolArea          0.051307  1.000000  0.029669 -0.033737 -0.059689   0.092404  \n",
              "MiscVal           0.031946  0.029669  1.000000 -0.006495  0.004906  -0.021190  \n",
              "MoSold            0.023217 -0.033737 -0.006495  1.000000 -0.145721   0.046432  \n",
              "YrSold            0.010694 -0.059689  0.004906 -0.145721  1.000000  -0.028923  \n",
              "SalePrice         0.111447  0.092404 -0.021190  0.046432 -0.028923   1.000000  \n",
              "\n",
              "[38 rows x 38 columns]"
            ],
            "text/html": [
              "\n",
              "  <div id=\"df-a400d1d1-db9b-4351-ad2d-42458783db80\">\n",
              "    <div class=\"colab-df-container\">\n",
              "      <div>\n",
              "<style scoped>\n",
              "    .dataframe tbody tr th:only-of-type {\n",
              "        vertical-align: middle;\n",
              "    }\n",
              "\n",
              "    .dataframe tbody tr th {\n",
              "        vertical-align: top;\n",
              "    }\n",
              "\n",
              "    .dataframe thead th {\n",
              "        text-align: right;\n",
              "    }\n",
              "</style>\n",
              "<table border=\"1\" class=\"dataframe\">\n",
              "  <thead>\n",
              "    <tr style=\"text-align: right;\">\n",
              "      <th></th>\n",
              "      <th>Id</th>\n",
              "      <th>MSSubClass</th>\n",
              "      <th>LotFrontage</th>\n",
              "      <th>LotArea</th>\n",
              "      <th>OverallQual</th>\n",
              "      <th>OverallCond</th>\n",
              "      <th>YearBuilt</th>\n",
              "      <th>YearRemodAdd</th>\n",
              "      <th>MasVnrArea</th>\n",
              "      <th>BsmtFinSF1</th>\n",
              "      <th>...</th>\n",
              "      <th>WoodDeckSF</th>\n",
              "      <th>OpenPorchSF</th>\n",
              "      <th>EnclosedPorch</th>\n",
              "      <th>3SsnPorch</th>\n",
              "      <th>ScreenPorch</th>\n",
              "      <th>PoolArea</th>\n",
              "      <th>MiscVal</th>\n",
              "      <th>MoSold</th>\n",
              "      <th>YrSold</th>\n",
              "      <th>SalePrice</th>\n",
              "    </tr>\n",
              "  </thead>\n",
              "  <tbody>\n",
              "    <tr>\n",
              "      <th>Id</th>\n",
              "      <td>1.000000</td>\n",
              "      <td>0.011156</td>\n",
              "      <td>-0.010601</td>\n",
              "      <td>-0.033226</td>\n",
              "      <td>-0.028365</td>\n",
              "      <td>0.012609</td>\n",
              "      <td>-0.012713</td>\n",
              "      <td>-0.021998</td>\n",
              "      <td>-0.050298</td>\n",
              "      <td>-0.005024</td>\n",
              "      <td>...</td>\n",
              "      <td>-0.029643</td>\n",
              "      <td>-0.000477</td>\n",
              "      <td>0.002889</td>\n",
              "      <td>-0.046635</td>\n",
              "      <td>0.001330</td>\n",
              "      <td>0.057044</td>\n",
              "      <td>-0.006242</td>\n",
              "      <td>0.021172</td>\n",
              "      <td>0.000712</td>\n",
              "      <td>-0.021917</td>\n",
              "    </tr>\n",
              "    <tr>\n",
              "      <th>MSSubClass</th>\n",
              "      <td>0.011156</td>\n",
              "      <td>1.000000</td>\n",
              "      <td>-0.386347</td>\n",
              "      <td>-0.139781</td>\n",
              "      <td>0.032628</td>\n",
              "      <td>-0.059316</td>\n",
              "      <td>0.027850</td>\n",
              "      <td>0.040581</td>\n",
              "      <td>0.022936</td>\n",
              "      <td>-0.069836</td>\n",
              "      <td>...</td>\n",
              "      <td>-0.012579</td>\n",
              "      <td>-0.006100</td>\n",
              "      <td>-0.012037</td>\n",
              "      <td>-0.043825</td>\n",
              "      <td>-0.026030</td>\n",
              "      <td>0.008283</td>\n",
              "      <td>-0.007683</td>\n",
              "      <td>-0.013585</td>\n",
              "      <td>-0.021407</td>\n",
              "      <td>-0.084284</td>\n",
              "    </tr>\n",
              "    <tr>\n",
              "      <th>LotFrontage</th>\n",
              "      <td>-0.010601</td>\n",
              "      <td>-0.386347</td>\n",
              "      <td>1.000000</td>\n",
              "      <td>0.426095</td>\n",
              "      <td>0.251646</td>\n",
              "      <td>-0.059213</td>\n",
              "      <td>0.123349</td>\n",
              "      <td>0.088866</td>\n",
              "      <td>0.193458</td>\n",
              "      <td>0.233633</td>\n",
              "      <td>...</td>\n",
              "      <td>0.088521</td>\n",
              "      <td>0.151972</td>\n",
              "      <td>0.010700</td>\n",
              "      <td>0.070029</td>\n",
              "      <td>0.041383</td>\n",
              "      <td>0.206167</td>\n",
              "      <td>0.003368</td>\n",
              "      <td>0.011200</td>\n",
              "      <td>0.007450</td>\n",
              "      <td>0.351799</td>\n",
              "    </tr>\n",
              "    <tr>\n",
              "      <th>LotArea</th>\n",
              "      <td>-0.033226</td>\n",
              "      <td>-0.139781</td>\n",
              "      <td>0.426095</td>\n",
              "      <td>1.000000</td>\n",
              "      <td>0.105806</td>\n",
              "      <td>-0.005636</td>\n",
              "      <td>0.014228</td>\n",
              "      <td>0.013788</td>\n",
              "      <td>0.104160</td>\n",
              "      <td>0.214103</td>\n",
              "      <td>...</td>\n",
              "      <td>0.171698</td>\n",
              "      <td>0.084774</td>\n",
              "      <td>-0.018340</td>\n",
              "      <td>0.020423</td>\n",
              "      <td>0.043160</td>\n",
              "      <td>0.077672</td>\n",
              "      <td>0.038068</td>\n",
              "      <td>0.001205</td>\n",
              "      <td>-0.014261</td>\n",
              "      <td>0.263843</td>\n",
              "    </tr>\n",
              "    <tr>\n",
              "      <th>OverallQual</th>\n",
              "      <td>-0.028365</td>\n",
              "      <td>0.032628</td>\n",
              "      <td>0.251646</td>\n",
              "      <td>0.105806</td>\n",
              "      <td>1.000000</td>\n",
              "      <td>-0.091932</td>\n",
              "      <td>0.572323</td>\n",
              "      <td>0.550684</td>\n",
              "      <td>0.411876</td>\n",
              "      <td>0.239666</td>\n",
              "      <td>...</td>\n",
              "      <td>0.238923</td>\n",
              "      <td>0.308819</td>\n",
              "      <td>-0.113937</td>\n",
              "      <td>0.030371</td>\n",
              "      <td>0.064886</td>\n",
              "      <td>0.065166</td>\n",
              "      <td>-0.031406</td>\n",
              "      <td>0.070815</td>\n",
              "      <td>-0.027347</td>\n",
              "      <td>0.790982</td>\n",
              "    </tr>\n",
              "    <tr>\n",
              "      <th>OverallCond</th>\n",
              "      <td>0.012609</td>\n",
              "      <td>-0.059316</td>\n",
              "      <td>-0.059213</td>\n",
              "      <td>-0.005636</td>\n",
              "      <td>-0.091932</td>\n",
              "      <td>1.000000</td>\n",
              "      <td>-0.375983</td>\n",
              "      <td>0.073741</td>\n",
              "      <td>-0.128101</td>\n",
              "      <td>-0.046231</td>\n",
              "      <td>...</td>\n",
              "      <td>-0.003334</td>\n",
              "      <td>-0.032589</td>\n",
              "      <td>0.070356</td>\n",
              "      <td>0.025504</td>\n",
              "      <td>0.054811</td>\n",
              "      <td>-0.001985</td>\n",
              "      <td>0.068777</td>\n",
              "      <td>-0.003511</td>\n",
              "      <td>0.043950</td>\n",
              "      <td>-0.077856</td>\n",
              "    </tr>\n",
              "    <tr>\n",
              "      <th>YearBuilt</th>\n",
              "      <td>-0.012713</td>\n",
              "      <td>0.027850</td>\n",
              "      <td>0.123349</td>\n",
              "      <td>0.014228</td>\n",
              "      <td>0.572323</td>\n",
              "      <td>-0.375983</td>\n",
              "      <td>1.000000</td>\n",
              "      <td>0.592855</td>\n",
              "      <td>0.315707</td>\n",
              "      <td>0.249503</td>\n",
              "      <td>...</td>\n",
              "      <td>0.224880</td>\n",
              "      <td>0.188686</td>\n",
              "      <td>-0.387268</td>\n",
              "      <td>0.031355</td>\n",
              "      <td>-0.050364</td>\n",
              "      <td>0.004950</td>\n",
              "      <td>-0.034383</td>\n",
              "      <td>0.012398</td>\n",
              "      <td>-0.013618</td>\n",
              "      <td>0.522897</td>\n",
              "    </tr>\n",
              "    <tr>\n",
              "      <th>YearRemodAdd</th>\n",
              "      <td>-0.021998</td>\n",
              "      <td>0.040581</td>\n",
              "      <td>0.088866</td>\n",
              "      <td>0.013788</td>\n",
              "      <td>0.550684</td>\n",
              "      <td>0.073741</td>\n",
              "      <td>0.592855</td>\n",
              "      <td>1.000000</td>\n",
              "      <td>0.179618</td>\n",
              "      <td>0.128451</td>\n",
              "      <td>...</td>\n",
              "      <td>0.205726</td>\n",
              "      <td>0.226298</td>\n",
              "      <td>-0.193919</td>\n",
              "      <td>0.045286</td>\n",
              "      <td>-0.038740</td>\n",
              "      <td>0.005829</td>\n",
              "      <td>-0.010286</td>\n",
              "      <td>0.021490</td>\n",
              "      <td>0.035743</td>\n",
              "      <td>0.507101</td>\n",
              "    </tr>\n",
              "    <tr>\n",
              "      <th>MasVnrArea</th>\n",
              "      <td>-0.050298</td>\n",
              "      <td>0.022936</td>\n",
              "      <td>0.193458</td>\n",
              "      <td>0.104160</td>\n",
              "      <td>0.411876</td>\n",
              "      <td>-0.128101</td>\n",
              "      <td>0.315707</td>\n",
              "      <td>0.179618</td>\n",
              "      <td>1.000000</td>\n",
              "      <td>0.264736</td>\n",
              "      <td>...</td>\n",
              "      <td>0.159718</td>\n",
              "      <td>0.125703</td>\n",
              "      <td>-0.110204</td>\n",
              "      <td>0.018796</td>\n",
              "      <td>0.061466</td>\n",
              "      <td>0.011723</td>\n",
              "      <td>-0.029815</td>\n",
              "      <td>-0.005965</td>\n",
              "      <td>-0.008201</td>\n",
              "      <td>0.477493</td>\n",
              "    </tr>\n",
              "    <tr>\n",
              "      <th>BsmtFinSF1</th>\n",
              "      <td>-0.005024</td>\n",
              "      <td>-0.069836</td>\n",
              "      <td>0.233633</td>\n",
              "      <td>0.214103</td>\n",
              "      <td>0.239666</td>\n",
              "      <td>-0.046231</td>\n",
              "      <td>0.249503</td>\n",
              "      <td>0.128451</td>\n",
              "      <td>0.264736</td>\n",
              "      <td>1.000000</td>\n",
              "      <td>...</td>\n",
              "      <td>0.204306</td>\n",
              "      <td>0.111761</td>\n",
              "      <td>-0.102303</td>\n",
              "      <td>0.026451</td>\n",
              "      <td>0.062021</td>\n",
              "      <td>0.140491</td>\n",
              "      <td>0.003571</td>\n",
              "      <td>-0.015727</td>\n",
              "      <td>0.014359</td>\n",
              "      <td>0.386420</td>\n",
              "    </tr>\n",
              "    <tr>\n",
              "      <th>BsmtFinSF2</th>\n",
              "      <td>-0.005968</td>\n",
              "      <td>-0.065649</td>\n",
              "      <td>0.049900</td>\n",
              "      <td>0.111170</td>\n",
              "      <td>-0.059119</td>\n",
              "      <td>0.040229</td>\n",
              "      <td>-0.049107</td>\n",
              "      <td>-0.067759</td>\n",
              "      <td>-0.072319</td>\n",
              "      <td>-0.050117</td>\n",
              "      <td>...</td>\n",
              "      <td>0.067898</td>\n",
              "      <td>0.003093</td>\n",
              "      <td>0.036543</td>\n",
              "      <td>-0.029993</td>\n",
              "      <td>0.088871</td>\n",
              "      <td>0.041709</td>\n",
              "      <td>0.004940</td>\n",
              "      <td>-0.015211</td>\n",
              "      <td>0.031706</td>\n",
              "      <td>-0.011378</td>\n",
              "    </tr>\n",
              "    <tr>\n",
              "      <th>BsmtUnfSF</th>\n",
              "      <td>-0.007940</td>\n",
              "      <td>-0.140759</td>\n",
              "      <td>0.132644</td>\n",
              "      <td>-0.002618</td>\n",
              "      <td>0.308159</td>\n",
              "      <td>-0.136841</td>\n",
              "      <td>0.149040</td>\n",
              "      <td>0.181133</td>\n",
              "      <td>0.114442</td>\n",
              "      <td>-0.495251</td>\n",
              "      <td>...</td>\n",
              "      <td>-0.005316</td>\n",
              "      <td>0.129005</td>\n",
              "      <td>-0.002538</td>\n",
              "      <td>0.020764</td>\n",
              "      <td>-0.012579</td>\n",
              "      <td>-0.035092</td>\n",
              "      <td>-0.023837</td>\n",
              "      <td>0.034888</td>\n",
              "      <td>-0.041258</td>\n",
              "      <td>0.214479</td>\n",
              "    </tr>\n",
              "    <tr>\n",
              "      <th>TotalBsmtSF</th>\n",
              "      <td>-0.015415</td>\n",
              "      <td>-0.238518</td>\n",
              "      <td>0.392075</td>\n",
              "      <td>0.260833</td>\n",
              "      <td>0.537808</td>\n",
              "      <td>-0.171098</td>\n",
              "      <td>0.391452</td>\n",
              "      <td>0.291066</td>\n",
              "      <td>0.363936</td>\n",
              "      <td>0.522396</td>\n",
              "      <td>...</td>\n",
              "      <td>0.232019</td>\n",
              "      <td>0.247264</td>\n",
              "      <td>-0.095478</td>\n",
              "      <td>0.037384</td>\n",
              "      <td>0.084489</td>\n",
              "      <td>0.126053</td>\n",
              "      <td>-0.018479</td>\n",
              "      <td>0.013196</td>\n",
              "      <td>-0.014969</td>\n",
              "      <td>0.613581</td>\n",
              "    </tr>\n",
              "    <tr>\n",
              "      <th>1stFlrSF</th>\n",
              "      <td>0.010496</td>\n",
              "      <td>-0.251758</td>\n",
              "      <td>0.457181</td>\n",
              "      <td>0.299475</td>\n",
              "      <td>0.476224</td>\n",
              "      <td>-0.144203</td>\n",
              "      <td>0.281986</td>\n",
              "      <td>0.240379</td>\n",
              "      <td>0.344501</td>\n",
              "      <td>0.445863</td>\n",
              "      <td>...</td>\n",
              "      <td>0.235459</td>\n",
              "      <td>0.211671</td>\n",
              "      <td>-0.065292</td>\n",
              "      <td>0.056104</td>\n",
              "      <td>0.088758</td>\n",
              "      <td>0.131525</td>\n",
              "      <td>-0.021096</td>\n",
              "      <td>0.031372</td>\n",
              "      <td>-0.013604</td>\n",
              "      <td>0.605852</td>\n",
              "    </tr>\n",
              "    <tr>\n",
              "      <th>2ndFlrSF</th>\n",
              "      <td>0.005590</td>\n",
              "      <td>0.307886</td>\n",
              "      <td>0.080177</td>\n",
              "      <td>0.050986</td>\n",
              "      <td>0.295493</td>\n",
              "      <td>0.028942</td>\n",
              "      <td>0.010308</td>\n",
              "      <td>0.140024</td>\n",
              "      <td>0.174561</td>\n",
              "      <td>-0.137079</td>\n",
              "      <td>...</td>\n",
              "      <td>0.092165</td>\n",
              "      <td>0.208026</td>\n",
              "      <td>0.061989</td>\n",
              "      <td>-0.024358</td>\n",
              "      <td>0.040606</td>\n",
              "      <td>0.081487</td>\n",
              "      <td>0.016197</td>\n",
              "      <td>0.035164</td>\n",
              "      <td>-0.028700</td>\n",
              "      <td>0.319334</td>\n",
              "    </tr>\n",
              "    <tr>\n",
              "      <th>LowQualFinSF</th>\n",
              "      <td>-0.044230</td>\n",
              "      <td>0.046474</td>\n",
              "      <td>0.038469</td>\n",
              "      <td>0.004779</td>\n",
              "      <td>-0.030429</td>\n",
              "      <td>0.025494</td>\n",
              "      <td>-0.183784</td>\n",
              "      <td>-0.062419</td>\n",
              "      <td>-0.069071</td>\n",
              "      <td>-0.064503</td>\n",
              "      <td>...</td>\n",
              "      <td>-0.025444</td>\n",
              "      <td>0.018251</td>\n",
              "      <td>0.061081</td>\n",
              "      <td>-0.004296</td>\n",
              "      <td>0.026799</td>\n",
              "      <td>0.062157</td>\n",
              "      <td>-0.003793</td>\n",
              "      <td>-0.022174</td>\n",
              "      <td>-0.028921</td>\n",
              "      <td>-0.025606</td>\n",
              "    </tr>\n",
              "    <tr>\n",
              "      <th>GrLivArea</th>\n",
              "      <td>0.008273</td>\n",
              "      <td>0.074853</td>\n",
              "      <td>0.402797</td>\n",
              "      <td>0.263116</td>\n",
              "      <td>0.593007</td>\n",
              "      <td>-0.079686</td>\n",
              "      <td>0.199010</td>\n",
              "      <td>0.287389</td>\n",
              "      <td>0.390857</td>\n",
              "      <td>0.208171</td>\n",
              "      <td>...</td>\n",
              "      <td>0.247433</td>\n",
              "      <td>0.330224</td>\n",
              "      <td>0.009113</td>\n",
              "      <td>0.020643</td>\n",
              "      <td>0.101510</td>\n",
              "      <td>0.170205</td>\n",
              "      <td>-0.002416</td>\n",
              "      <td>0.050240</td>\n",
              "      <td>-0.036526</td>\n",
              "      <td>0.708624</td>\n",
              "    </tr>\n",
              "    <tr>\n",
              "      <th>BsmtFullBath</th>\n",
              "      <td>0.002289</td>\n",
              "      <td>0.003491</td>\n",
              "      <td>0.100949</td>\n",
              "      <td>0.158155</td>\n",
              "      <td>0.111098</td>\n",
              "      <td>-0.054942</td>\n",
              "      <td>0.187599</td>\n",
              "      <td>0.119470</td>\n",
              "      <td>0.085310</td>\n",
              "      <td>0.649212</td>\n",
              "      <td>...</td>\n",
              "      <td>0.175315</td>\n",
              "      <td>0.067341</td>\n",
              "      <td>-0.049911</td>\n",
              "      <td>-0.000106</td>\n",
              "      <td>0.023148</td>\n",
              "      <td>0.067616</td>\n",
              "      <td>-0.023047</td>\n",
              "      <td>-0.025361</td>\n",
              "      <td>0.067049</td>\n",
              "      <td>0.227122</td>\n",
              "    </tr>\n",
              "    <tr>\n",
              "      <th>BsmtHalfBath</th>\n",
              "      <td>-0.020155</td>\n",
              "      <td>-0.002333</td>\n",
              "      <td>-0.007234</td>\n",
              "      <td>0.048046</td>\n",
              "      <td>-0.040150</td>\n",
              "      <td>0.117821</td>\n",
              "      <td>-0.038162</td>\n",
              "      <td>-0.012337</td>\n",
              "      <td>0.026673</td>\n",
              "      <td>0.067418</td>\n",
              "      <td>...</td>\n",
              "      <td>0.040161</td>\n",
              "      <td>-0.025324</td>\n",
              "      <td>-0.008555</td>\n",
              "      <td>0.035114</td>\n",
              "      <td>0.032121</td>\n",
              "      <td>0.020025</td>\n",
              "      <td>-0.007367</td>\n",
              "      <td>0.032873</td>\n",
              "      <td>-0.046524</td>\n",
              "      <td>-0.016844</td>\n",
              "    </tr>\n",
              "    <tr>\n",
              "      <th>FullBath</th>\n",
              "      <td>0.005587</td>\n",
              "      <td>0.131608</td>\n",
              "      <td>0.198769</td>\n",
              "      <td>0.126031</td>\n",
              "      <td>0.550600</td>\n",
              "      <td>-0.194149</td>\n",
              "      <td>0.468271</td>\n",
              "      <td>0.439046</td>\n",
              "      <td>0.276833</td>\n",
              "      <td>0.058543</td>\n",
              "      <td>...</td>\n",
              "      <td>0.187703</td>\n",
              "      <td>0.259977</td>\n",
              "      <td>-0.115093</td>\n",
              "      <td>0.035353</td>\n",
              "      <td>-0.008106</td>\n",
              "      <td>0.049604</td>\n",
              "      <td>-0.014290</td>\n",
              "      <td>0.055872</td>\n",
              "      <td>-0.019669</td>\n",
              "      <td>0.560664</td>\n",
              "    </tr>\n",
              "    <tr>\n",
              "      <th>HalfBath</th>\n",
              "      <td>0.006784</td>\n",
              "      <td>0.177354</td>\n",
              "      <td>0.053532</td>\n",
              "      <td>0.014259</td>\n",
              "      <td>0.273458</td>\n",
              "      <td>-0.060769</td>\n",
              "      <td>0.242656</td>\n",
              "      <td>0.183331</td>\n",
              "      <td>0.201444</td>\n",
              "      <td>0.004262</td>\n",
              "      <td>...</td>\n",
              "      <td>0.108080</td>\n",
              "      <td>0.199740</td>\n",
              "      <td>-0.095317</td>\n",
              "      <td>-0.004972</td>\n",
              "      <td>0.072426</td>\n",
              "      <td>0.022381</td>\n",
              "      <td>0.001290</td>\n",
              "      <td>-0.009050</td>\n",
              "      <td>-0.010269</td>\n",
              "      <td>0.284108</td>\n",
              "    </tr>\n",
              "    <tr>\n",
              "      <th>BedroomAbvGr</th>\n",
              "      <td>0.037719</td>\n",
              "      <td>-0.023438</td>\n",
              "      <td>0.263170</td>\n",
              "      <td>0.119690</td>\n",
              "      <td>0.101676</td>\n",
              "      <td>0.012980</td>\n",
              "      <td>-0.070651</td>\n",
              "      <td>-0.040581</td>\n",
              "      <td>0.102821</td>\n",
              "      <td>-0.107355</td>\n",
              "      <td>...</td>\n",
              "      <td>0.046854</td>\n",
              "      <td>0.093810</td>\n",
              "      <td>0.041570</td>\n",
              "      <td>-0.024478</td>\n",
              "      <td>0.044300</td>\n",
              "      <td>0.070703</td>\n",
              "      <td>0.007767</td>\n",
              "      <td>0.046544</td>\n",
              "      <td>-0.036014</td>\n",
              "      <td>0.168213</td>\n",
              "    </tr>\n",
              "    <tr>\n",
              "      <th>KitchenAbvGr</th>\n",
              "      <td>0.002951</td>\n",
              "      <td>0.281721</td>\n",
              "      <td>-0.006069</td>\n",
              "      <td>-0.017784</td>\n",
              "      <td>-0.183882</td>\n",
              "      <td>-0.087001</td>\n",
              "      <td>-0.174800</td>\n",
              "      <td>-0.149598</td>\n",
              "      <td>-0.037610</td>\n",
              "      <td>-0.081007</td>\n",
              "      <td>...</td>\n",
              "      <td>-0.090130</td>\n",
              "      <td>-0.070091</td>\n",
              "      <td>0.037312</td>\n",
              "      <td>-0.024600</td>\n",
              "      <td>-0.051613</td>\n",
              "      <td>-0.014525</td>\n",
              "      <td>0.062341</td>\n",
              "      <td>0.026589</td>\n",
              "      <td>0.031687</td>\n",
              "      <td>-0.135907</td>\n",
              "    </tr>\n",
              "    <tr>\n",
              "      <th>TotRmsAbvGrd</th>\n",
              "      <td>0.027239</td>\n",
              "      <td>0.040380</td>\n",
              "      <td>0.352096</td>\n",
              "      <td>0.190015</td>\n",
              "      <td>0.427452</td>\n",
              "      <td>-0.057583</td>\n",
              "      <td>0.095589</td>\n",
              "      <td>0.191740</td>\n",
              "      <td>0.280682</td>\n",
              "      <td>0.044316</td>\n",
              "      <td>...</td>\n",
              "      <td>0.165984</td>\n",
              "      <td>0.234192</td>\n",
              "      <td>0.004151</td>\n",
              "      <td>-0.006683</td>\n",
              "      <td>0.059383</td>\n",
              "      <td>0.083757</td>\n",
              "      <td>0.024763</td>\n",
              "      <td>0.036907</td>\n",
              "      <td>-0.034516</td>\n",
              "      <td>0.533723</td>\n",
              "    </tr>\n",
              "    <tr>\n",
              "      <th>Fireplaces</th>\n",
              "      <td>-0.019772</td>\n",
              "      <td>-0.045569</td>\n",
              "      <td>0.266639</td>\n",
              "      <td>0.271364</td>\n",
              "      <td>0.396765</td>\n",
              "      <td>-0.023820</td>\n",
              "      <td>0.147716</td>\n",
              "      <td>0.112581</td>\n",
              "      <td>0.249070</td>\n",
              "      <td>0.260011</td>\n",
              "      <td>...</td>\n",
              "      <td>0.200019</td>\n",
              "      <td>0.169405</td>\n",
              "      <td>-0.024822</td>\n",
              "      <td>0.011257</td>\n",
              "      <td>0.184530</td>\n",
              "      <td>0.095074</td>\n",
              "      <td>0.001409</td>\n",
              "      <td>0.046357</td>\n",
              "      <td>-0.024096</td>\n",
              "      <td>0.466929</td>\n",
              "    </tr>\n",
              "    <tr>\n",
              "      <th>GarageYrBlt</th>\n",
              "      <td>0.000072</td>\n",
              "      <td>0.085072</td>\n",
              "      <td>0.070250</td>\n",
              "      <td>-0.024947</td>\n",
              "      <td>0.547766</td>\n",
              "      <td>-0.324297</td>\n",
              "      <td>0.825667</td>\n",
              "      <td>0.642277</td>\n",
              "      <td>0.252691</td>\n",
              "      <td>0.153484</td>\n",
              "      <td>...</td>\n",
              "      <td>0.224577</td>\n",
              "      <td>0.228425</td>\n",
              "      <td>-0.297003</td>\n",
              "      <td>0.023544</td>\n",
              "      <td>-0.075418</td>\n",
              "      <td>-0.014501</td>\n",
              "      <td>-0.032417</td>\n",
              "      <td>0.005337</td>\n",
              "      <td>-0.001014</td>\n",
              "      <td>0.486362</td>\n",
              "    </tr>\n",
              "    <tr>\n",
              "      <th>GarageCars</th>\n",
              "      <td>0.016570</td>\n",
              "      <td>-0.040110</td>\n",
              "      <td>0.285691</td>\n",
              "      <td>0.154871</td>\n",
              "      <td>0.600671</td>\n",
              "      <td>-0.185758</td>\n",
              "      <td>0.537850</td>\n",
              "      <td>0.420622</td>\n",
              "      <td>0.364204</td>\n",
              "      <td>0.224054</td>\n",
              "      <td>...</td>\n",
              "      <td>0.226342</td>\n",
              "      <td>0.213569</td>\n",
              "      <td>-0.151434</td>\n",
              "      <td>0.035765</td>\n",
              "      <td>0.050494</td>\n",
              "      <td>0.020934</td>\n",
              "      <td>-0.043080</td>\n",
              "      <td>0.040522</td>\n",
              "      <td>-0.039117</td>\n",
              "      <td>0.640409</td>\n",
              "    </tr>\n",
              "    <tr>\n",
              "      <th>GarageArea</th>\n",
              "      <td>0.017634</td>\n",
              "      <td>-0.098672</td>\n",
              "      <td>0.344997</td>\n",
              "      <td>0.180403</td>\n",
              "      <td>0.562022</td>\n",
              "      <td>-0.151521</td>\n",
              "      <td>0.478954</td>\n",
              "      <td>0.371600</td>\n",
              "      <td>0.373066</td>\n",
              "      <td>0.296970</td>\n",
              "      <td>...</td>\n",
              "      <td>0.224666</td>\n",
              "      <td>0.241435</td>\n",
              "      <td>-0.121777</td>\n",
              "      <td>0.035087</td>\n",
              "      <td>0.051412</td>\n",
              "      <td>0.061047</td>\n",
              "      <td>-0.027400</td>\n",
              "      <td>0.027974</td>\n",
              "      <td>-0.027378</td>\n",
              "      <td>0.623431</td>\n",
              "    </tr>\n",
              "    <tr>\n",
              "      <th>WoodDeckSF</th>\n",
              "      <td>-0.029643</td>\n",
              "      <td>-0.012579</td>\n",
              "      <td>0.088521</td>\n",
              "      <td>0.171698</td>\n",
              "      <td>0.238923</td>\n",
              "      <td>-0.003334</td>\n",
              "      <td>0.224880</td>\n",
              "      <td>0.205726</td>\n",
              "      <td>0.159718</td>\n",
              "      <td>0.204306</td>\n",
              "      <td>...</td>\n",
              "      <td>1.000000</td>\n",
              "      <td>0.058661</td>\n",
              "      <td>-0.125989</td>\n",
              "      <td>-0.032771</td>\n",
              "      <td>-0.074181</td>\n",
              "      <td>0.073378</td>\n",
              "      <td>-0.009551</td>\n",
              "      <td>0.021011</td>\n",
              "      <td>0.022270</td>\n",
              "      <td>0.324413</td>\n",
              "    </tr>\n",
              "    <tr>\n",
              "      <th>OpenPorchSF</th>\n",
              "      <td>-0.000477</td>\n",
              "      <td>-0.006100</td>\n",
              "      <td>0.151972</td>\n",
              "      <td>0.084774</td>\n",
              "      <td>0.308819</td>\n",
              "      <td>-0.032589</td>\n",
              "      <td>0.188686</td>\n",
              "      <td>0.226298</td>\n",
              "      <td>0.125703</td>\n",
              "      <td>0.111761</td>\n",
              "      <td>...</td>\n",
              "      <td>0.058661</td>\n",
              "      <td>1.000000</td>\n",
              "      <td>-0.093079</td>\n",
              "      <td>-0.005842</td>\n",
              "      <td>0.074304</td>\n",
              "      <td>0.060762</td>\n",
              "      <td>-0.018584</td>\n",
              "      <td>0.071255</td>\n",
              "      <td>-0.057619</td>\n",
              "      <td>0.315856</td>\n",
              "    </tr>\n",
              "    <tr>\n",
              "      <th>EnclosedPorch</th>\n",
              "      <td>0.002889</td>\n",
              "      <td>-0.012037</td>\n",
              "      <td>0.010700</td>\n",
              "      <td>-0.018340</td>\n",
              "      <td>-0.113937</td>\n",
              "      <td>0.070356</td>\n",
              "      <td>-0.387268</td>\n",
              "      <td>-0.193919</td>\n",
              "      <td>-0.110204</td>\n",
              "      <td>-0.102303</td>\n",
              "      <td>...</td>\n",
              "      <td>-0.125989</td>\n",
              "      <td>-0.093079</td>\n",
              "      <td>1.000000</td>\n",
              "      <td>-0.037305</td>\n",
              "      <td>-0.082864</td>\n",
              "      <td>0.054203</td>\n",
              "      <td>0.018361</td>\n",
              "      <td>-0.028887</td>\n",
              "      <td>-0.009916</td>\n",
              "      <td>-0.128578</td>\n",
              "    </tr>\n",
              "    <tr>\n",
              "      <th>3SsnPorch</th>\n",
              "      <td>-0.046635</td>\n",
              "      <td>-0.043825</td>\n",
              "      <td>0.070029</td>\n",
              "      <td>0.020423</td>\n",
              "      <td>0.030371</td>\n",
              "      <td>0.025504</td>\n",
              "      <td>0.031355</td>\n",
              "      <td>0.045286</td>\n",
              "      <td>0.018796</td>\n",
              "      <td>0.026451</td>\n",
              "      <td>...</td>\n",
              "      <td>-0.032771</td>\n",
              "      <td>-0.005842</td>\n",
              "      <td>-0.037305</td>\n",
              "      <td>1.000000</td>\n",
              "      <td>-0.031436</td>\n",
              "      <td>-0.007992</td>\n",
              "      <td>0.000354</td>\n",
              "      <td>0.029474</td>\n",
              "      <td>0.018645</td>\n",
              "      <td>0.044584</td>\n",
              "    </tr>\n",
              "    <tr>\n",
              "      <th>ScreenPorch</th>\n",
              "      <td>0.001330</td>\n",
              "      <td>-0.026030</td>\n",
              "      <td>0.041383</td>\n",
              "      <td>0.043160</td>\n",
              "      <td>0.064886</td>\n",
              "      <td>0.054811</td>\n",
              "      <td>-0.050364</td>\n",
              "      <td>-0.038740</td>\n",
              "      <td>0.061466</td>\n",
              "      <td>0.062021</td>\n",
              "      <td>...</td>\n",
              "      <td>-0.074181</td>\n",
              "      <td>0.074304</td>\n",
              "      <td>-0.082864</td>\n",
              "      <td>-0.031436</td>\n",
              "      <td>1.000000</td>\n",
              "      <td>0.051307</td>\n",
              "      <td>0.031946</td>\n",
              "      <td>0.023217</td>\n",
              "      <td>0.010694</td>\n",
              "      <td>0.111447</td>\n",
              "    </tr>\n",
              "    <tr>\n",
              "      <th>PoolArea</th>\n",
              "      <td>0.057044</td>\n",
              "      <td>0.008283</td>\n",
              "      <td>0.206167</td>\n",
              "      <td>0.077672</td>\n",
              "      <td>0.065166</td>\n",
              "      <td>-0.001985</td>\n",
              "      <td>0.004950</td>\n",
              "      <td>0.005829</td>\n",
              "      <td>0.011723</td>\n",
              "      <td>0.140491</td>\n",
              "      <td>...</td>\n",
              "      <td>0.073378</td>\n",
              "      <td>0.060762</td>\n",
              "      <td>0.054203</td>\n",
              "      <td>-0.007992</td>\n",
              "      <td>0.051307</td>\n",
              "      <td>1.000000</td>\n",
              "      <td>0.029669</td>\n",
              "      <td>-0.033737</td>\n",
              "      <td>-0.059689</td>\n",
              "      <td>0.092404</td>\n",
              "    </tr>\n",
              "    <tr>\n",
              "      <th>MiscVal</th>\n",
              "      <td>-0.006242</td>\n",
              "      <td>-0.007683</td>\n",
              "      <td>0.003368</td>\n",
              "      <td>0.038068</td>\n",
              "      <td>-0.031406</td>\n",
              "      <td>0.068777</td>\n",
              "      <td>-0.034383</td>\n",
              "      <td>-0.010286</td>\n",
              "      <td>-0.029815</td>\n",
              "      <td>0.003571</td>\n",
              "      <td>...</td>\n",
              "      <td>-0.009551</td>\n",
              "      <td>-0.018584</td>\n",
              "      <td>0.018361</td>\n",
              "      <td>0.000354</td>\n",
              "      <td>0.031946</td>\n",
              "      <td>0.029669</td>\n",
              "      <td>1.000000</td>\n",
              "      <td>-0.006495</td>\n",
              "      <td>0.004906</td>\n",
              "      <td>-0.021190</td>\n",
              "    </tr>\n",
              "    <tr>\n",
              "      <th>MoSold</th>\n",
              "      <td>0.021172</td>\n",
              "      <td>-0.013585</td>\n",
              "      <td>0.011200</td>\n",
              "      <td>0.001205</td>\n",
              "      <td>0.070815</td>\n",
              "      <td>-0.003511</td>\n",
              "      <td>0.012398</td>\n",
              "      <td>0.021490</td>\n",
              "      <td>-0.005965</td>\n",
              "      <td>-0.015727</td>\n",
              "      <td>...</td>\n",
              "      <td>0.021011</td>\n",
              "      <td>0.071255</td>\n",
              "      <td>-0.028887</td>\n",
              "      <td>0.029474</td>\n",
              "      <td>0.023217</td>\n",
              "      <td>-0.033737</td>\n",
              "      <td>-0.006495</td>\n",
              "      <td>1.000000</td>\n",
              "      <td>-0.145721</td>\n",
              "      <td>0.046432</td>\n",
              "    </tr>\n",
              "    <tr>\n",
              "      <th>YrSold</th>\n",
              "      <td>0.000712</td>\n",
              "      <td>-0.021407</td>\n",
              "      <td>0.007450</td>\n",
              "      <td>-0.014261</td>\n",
              "      <td>-0.027347</td>\n",
              "      <td>0.043950</td>\n",
              "      <td>-0.013618</td>\n",
              "      <td>0.035743</td>\n",
              "      <td>-0.008201</td>\n",
              "      <td>0.014359</td>\n",
              "      <td>...</td>\n",
              "      <td>0.022270</td>\n",
              "      <td>-0.057619</td>\n",
              "      <td>-0.009916</td>\n",
              "      <td>0.018645</td>\n",
              "      <td>0.010694</td>\n",
              "      <td>-0.059689</td>\n",
              "      <td>0.004906</td>\n",
              "      <td>-0.145721</td>\n",
              "      <td>1.000000</td>\n",
              "      <td>-0.028923</td>\n",
              "    </tr>\n",
              "    <tr>\n",
              "      <th>SalePrice</th>\n",
              "      <td>-0.021917</td>\n",
              "      <td>-0.084284</td>\n",
              "      <td>0.351799</td>\n",
              "      <td>0.263843</td>\n",
              "      <td>0.790982</td>\n",
              "      <td>-0.077856</td>\n",
              "      <td>0.522897</td>\n",
              "      <td>0.507101</td>\n",
              "      <td>0.477493</td>\n",
              "      <td>0.386420</td>\n",
              "      <td>...</td>\n",
              "      <td>0.324413</td>\n",
              "      <td>0.315856</td>\n",
              "      <td>-0.128578</td>\n",
              "      <td>0.044584</td>\n",
              "      <td>0.111447</td>\n",
              "      <td>0.092404</td>\n",
              "      <td>-0.021190</td>\n",
              "      <td>0.046432</td>\n",
              "      <td>-0.028923</td>\n",
              "      <td>1.000000</td>\n",
              "    </tr>\n",
              "  </tbody>\n",
              "</table>\n",
              "<p>38 rows × 38 columns</p>\n",
              "</div>\n",
              "      <button class=\"colab-df-convert\" onclick=\"convertToInteractive('df-a400d1d1-db9b-4351-ad2d-42458783db80')\"\n",
              "              title=\"Convert this dataframe to an interactive table.\"\n",
              "              style=\"display:none;\">\n",
              "        \n",
              "  <svg xmlns=\"http://www.w3.org/2000/svg\" height=\"24px\"viewBox=\"0 0 24 24\"\n",
              "       width=\"24px\">\n",
              "    <path d=\"M0 0h24v24H0V0z\" fill=\"none\"/>\n",
              "    <path d=\"M18.56 5.44l.94 2.06.94-2.06 2.06-.94-2.06-.94-.94-2.06-.94 2.06-2.06.94zm-11 1L8.5 8.5l.94-2.06 2.06-.94-2.06-.94L8.5 2.5l-.94 2.06-2.06.94zm10 10l.94 2.06.94-2.06 2.06-.94-2.06-.94-.94-2.06-.94 2.06-2.06.94z\"/><path d=\"M17.41 7.96l-1.37-1.37c-.4-.4-.92-.59-1.43-.59-.52 0-1.04.2-1.43.59L10.3 9.45l-7.72 7.72c-.78.78-.78 2.05 0 2.83L4 21.41c.39.39.9.59 1.41.59.51 0 1.02-.2 1.41-.59l7.78-7.78 2.81-2.81c.8-.78.8-2.07 0-2.86zM5.41 20L4 18.59l7.72-7.72 1.47 1.35L5.41 20z\"/>\n",
              "  </svg>\n",
              "      </button>\n",
              "      \n",
              "  <style>\n",
              "    .colab-df-container {\n",
              "      display:flex;\n",
              "      flex-wrap:wrap;\n",
              "      gap: 12px;\n",
              "    }\n",
              "\n",
              "    .colab-df-convert {\n",
              "      background-color: #E8F0FE;\n",
              "      border: none;\n",
              "      border-radius: 50%;\n",
              "      cursor: pointer;\n",
              "      display: none;\n",
              "      fill: #1967D2;\n",
              "      height: 32px;\n",
              "      padding: 0 0 0 0;\n",
              "      width: 32px;\n",
              "    }\n",
              "\n",
              "    .colab-df-convert:hover {\n",
              "      background-color: #E2EBFA;\n",
              "      box-shadow: 0px 1px 2px rgba(60, 64, 67, 0.3), 0px 1px 3px 1px rgba(60, 64, 67, 0.15);\n",
              "      fill: #174EA6;\n",
              "    }\n",
              "\n",
              "    [theme=dark] .colab-df-convert {\n",
              "      background-color: #3B4455;\n",
              "      fill: #D2E3FC;\n",
              "    }\n",
              "\n",
              "    [theme=dark] .colab-df-convert:hover {\n",
              "      background-color: #434B5C;\n",
              "      box-shadow: 0px 1px 3px 1px rgba(0, 0, 0, 0.15);\n",
              "      filter: drop-shadow(0px 1px 2px rgba(0, 0, 0, 0.3));\n",
              "      fill: #FFFFFF;\n",
              "    }\n",
              "  </style>\n",
              "\n",
              "      <script>\n",
              "        const buttonEl =\n",
              "          document.querySelector('#df-a400d1d1-db9b-4351-ad2d-42458783db80 button.colab-df-convert');\n",
              "        buttonEl.style.display =\n",
              "          google.colab.kernel.accessAllowed ? 'block' : 'none';\n",
              "\n",
              "        async function convertToInteractive(key) {\n",
              "          const element = document.querySelector('#df-a400d1d1-db9b-4351-ad2d-42458783db80');\n",
              "          const dataTable =\n",
              "            await google.colab.kernel.invokeFunction('convertToInteractive',\n",
              "                                                     [key], {});\n",
              "          if (!dataTable) return;\n",
              "\n",
              "          const docLinkHtml = 'Like what you see? Visit the ' +\n",
              "            '<a target=\"_blank\" href=https://colab.research.google.com/notebooks/data_table.ipynb>data table notebook</a>'\n",
              "            + ' to learn more about interactive tables.';\n",
              "          element.innerHTML = '';\n",
              "          dataTable['output_type'] = 'display_data';\n",
              "          await google.colab.output.renderOutput(dataTable, element);\n",
              "          const docLink = document.createElement('div');\n",
              "          docLink.innerHTML = docLinkHtml;\n",
              "          element.appendChild(docLink);\n",
              "        }\n",
              "      </script>\n",
              "    </div>\n",
              "  </div>\n",
              "  "
            ]
          },
          "metadata": {},
          "execution_count": 4
        }
      ]
    },
    {
      "cell_type": "markdown",
      "source": [
        "#Model 1"
      ],
      "metadata": {
        "id": "D5SwgeUURAn_"
      }
    },
    {
      "cell_type": "code",
      "source": [
        "lm1= LinearRegression()"
      ],
      "metadata": {
        "id": "kRheSLbXRDm_"
      },
      "execution_count": 5,
      "outputs": []
    },
    {
      "cell_type": "code",
      "source": [
        "df_house.plot.scatter('YearBuilt','SalePrice')"
      ],
      "metadata": {
        "colab": {
          "base_uri": "https://localhost:8080/",
          "height": 297
        },
        "id": "oWU1f49RyW8N",
        "outputId": "19978a2b-b9c9-4414-dd38-86a8505add5d"
      },
      "execution_count": 6,
      "outputs": [
        {
          "output_type": "execute_result",
          "data": {
            "text/plain": [
              "<matplotlib.axes._subplots.AxesSubplot at 0x7f4817315e10>"
            ]
          },
          "metadata": {},
          "execution_count": 6
        },
        {
          "output_type": "display_data",
          "data": {
            "text/plain": [
              "<Figure size 432x288 with 1 Axes>"
            ],
            "image/png": "[encoded data removed]"
          },
          "metadata": {
            "needs_background": "light"
          }
        }
      ]
    },
    {
      "cell_type": "code",
      "source": [
        "x= df_house[['YearBuilt']]\n",
        "y= df_house['SalePrice']"
      ],
      "metadata": {
        "id": "YPOq604xQAmc"
      },
      "execution_count": 7,
      "outputs": []
    },
    {
      "cell_type": "code",
      "source": [
        "lm1.fit(x, y)\n",
        "lm1"
      ],
      "metadata": {
        "colab": {
          "base_uri": "https://localhost:8080/"
        },
        "id": "-h56JRGoOW35",
        "outputId": "7198fcf9-8f36-41d9-bdb4-acbb95b7e89a"
      },
      "execution_count": 8,
      "outputs": [
        {
          "output_type": "execute_result",
          "data": {
            "text/plain": [
              "LinearRegression()"
            ]
          },
          "metadata": {},
          "execution_count": 8
        }
      ]
    },
    {
      "cell_type": "code",
      "source": [
        "lm1.fit(df_house[['YearBuilt']],df_house[['SalePrice']])\n",
        "Yhat1=lm1.predict(x)\n",
        "\n",
        "print(f\"intercept:{lm1.intercept_}\")\n",
        "print(f\"slope:{lm1.coef_}\")"
      ],
      "metadata": {
        "colab": {
          "base_uri": "https://localhost:8080/"
        },
        "id": "EYcu9TJyTE3M",
        "outputId": "24449d2c-4371-4b86-9fcb-0afc30f0dc4c"
      },
      "execution_count": 9,
      "outputs": [
        {
          "output_type": "stream",
          "name": "stdout",
          "text": [
            "intercept:[-2530308.24573236]\n",
            "slope:[[1375.37346794]]\n"
          ]
        }
      ]
    },
    {
      "cell_type": "markdown",
      "source": [
        "## evaluation"
      ],
      "metadata": {
        "id": "IuJrWXahfnrg"
      }
    },
    {
      "cell_type": "code",
      "source": [
        "mse= mean_squared_error(df_house['SalePrice'], Yhat1)\n",
        "print('The mean square error of SalePrice and predicted value is: ', mse)\n",
        "\n",
        "r_sq=lm1.score(df_house[['YearBuilt']],df_house[['SalePrice']])\n",
        "print(f\"coefficiend of determination: {r_sq}\")"
      ],
      "metadata": {
        "colab": {
          "base_uri": "https://localhost:8080/"
        },
        "id": "8dIO7Ih1mBLA",
        "outputId": "874fdd1b-fdf6-4cd6-9b39-1d18b4cfe346"
      },
      "execution_count": 10,
      "outputs": [
        {
          "output_type": "stream",
          "name": "stdout",
          "text": [
            "The mean square error of SalePrice and predicted value is:  4582376228.725916\n",
            "coefficiend of determination: 0.27342162073249154\n"
          ]
        }
      ]
    },
    {
      "cell_type": "code",
      "source": [
        "width = 12\n",
        "height=10\n",
        "plt.figure(figsize=(width, height))\n",
        "\n",
        "\n",
        "ax1 = sns.distplot(df_house['SalePrice'], hist=False, color=\"r\", label=\"Actual Value\")\n",
        "sns.distplot(Yhat1, hist=False, color=\"b\", label=\"Fitted Values\" , ax=ax1)\n",
        "\n",
        "\n",
        "plt.title('Actual vs Fitted Values for Price')\n",
        "plt.xlabel('Price (in dollars)')\n",
        "plt.ylabel('Proportion of Cars')\n",
        "\n",
        "plt.show()\n",
        "plt.close()"
      ],
      "metadata": {
        "id": "aRlWb73-75C9",
        "colab": {
          "base_uri": "https://localhost:8080/",
          "height": 706
        },
        "outputId": "d0c9084d-b873-4622-98f0-dc3172dad8b8"
      },
      "execution_count": 11,
      "outputs": [
        {
          "output_type": "stream",
          "name": "stderr",
          "text": [
            "/usr/local/lib/python3.7/dist-packages/seaborn/distributions.py:2619: FutureWarning: `distplot` is a deprecated function and will be removed in a future version. Please adapt your code to use either `displot` (a figure-level function with similar flexibility) or `kdeplot` (an axes-level function for kernel density plots).\n",
            "  warnings.warn(msg, FutureWarning)\n",
            "/usr/local/lib/python3.7/dist-packages/seaborn/distributions.py:2619: FutureWarning: `distplot` is a deprecated function and will be removed in a future version. Please adapt your code to use either `displot` (a figure-level function with similar flexibility) or `kdeplot` (an axes-level function for kernel density plots).\n",
            "  warnings.warn(msg, FutureWarning)\n"
          ]
        },
        {
          "output_type": "display_data",
          "data": {
            "text/plain": [
              "<Figure size 864x720 with 1 Axes>"
            ],
            "image/png": "[encoded data removed]"
          },
          "metadata": {
            "needs_background": "light"
          }
        }
      ]
    },
    {
      "cell_type": "markdown",
      "source": [
        "# Model 2"
      ],
      "metadata": {
        "id": "bXBZVcKPfUyM"
      }
    },
    {
      "cell_type": "code",
      "source": [
        "lm2=LinearRegression()"
      ],
      "metadata": {
        "id": "XvDld8C8LsuG"
      },
      "execution_count": 12,
      "outputs": []
    },
    {
      "cell_type": "code",
      "source": [
        "df_house.plot.scatter('1stFlrSF','YearRemodAdd')"
      ],
      "metadata": {
        "colab": {
          "base_uri": "https://localhost:8080/",
          "height": 297
        },
        "id": "k8GIOBVBQoKe",
        "outputId": "2543e302-3229-4790-b50f-f666421e6310"
      },
      "execution_count": 13,
      "outputs": [
        {
          "output_type": "execute_result",
          "data": {
            "text/plain": [
              "<matplotlib.axes._subplots.AxesSubplot at 0x7f4816d0f0d0>"
            ]
          },
          "metadata": {},
          "execution_count": 13
        },
        {
          "output_type": "display_data",
          "data": {
            "text/plain": [
              "<Figure size 432x288 with 1 Axes>"
            ],
            "image/png": "[encoded data removed]"
          },
          "metadata": {
            "needs_background": "light"
          }
        }
      ]
    },
    {
      "cell_type": "code",
      "source": [
        "x= df_house[['1stFlrSF']]\n",
        "y= df_house['YearRemodAdd']"
      ],
      "metadata": {
        "id": "5GwMTB5kQ1js"
      },
      "execution_count": 14,
      "outputs": []
    },
    {
      "cell_type": "code",
      "source": [
        "lm2.fit(x, y)"
      ],
      "metadata": {
        "colab": {
          "base_uri": "https://localhost:8080/"
        },
        "id": "b8aghV1hRHaV",
        "outputId": "62417d8e-a811-4939-adcb-c7efd3b29438"
      },
      "execution_count": 15,
      "outputs": [
        {
          "output_type": "execute_result",
          "data": {
            "text/plain": [
              "LinearRegression()"
            ]
          },
          "metadata": {},
          "execution_count": 15
        }
      ]
    },
    {
      "cell_type": "code",
      "source": [
        "lm2.fit(df_house[['1stFlrSF']],df_house[['YearRemodAdd']])\n",
        "Yhat1=lm2.predict(x)\n",
        "\n",
        "print(f\"intercept:{lm1.intercept_}\")\n",
        "print(f\"slope:{lm1.coef_}\")"
      ],
      "metadata": {
        "colab": {
          "base_uri": "https://localhost:8080/"
        },
        "id": "XbYVR06hSn5P",
        "outputId": "1919f1ad-3c8d-4b43-942a-e0ce44f347ba"
      },
      "execution_count": 16,
      "outputs": [
        {
          "output_type": "stream",
          "name": "stdout",
          "text": [
            "intercept:[-2530308.24573236]\n",
            "slope:[[1375.37346794]]\n"
          ]
        }
      ]
    },
    {
      "cell_type": "markdown",
      "source": [
        "##Evaluation "
      ],
      "metadata": {
        "id": "O9hw2Gt8U-QK"
      }
    },
    {
      "cell_type": "code",
      "source": [
        "mse= mean_squared_error(df_house['YearRemodAdd'], Yhat1)\n",
        "print('The mean square error of SalePrice and predicted value is: ', mse)\n",
        "\n",
        "r_sq=lm2.score(df_house[['1stFlrSF']],df_house[['YearRemodAdd']])\n",
        "print(f\"coefficiend of determination: {r_sq}\")"
      ],
      "metadata": {
        "colab": {
          "base_uri": "https://localhost:8080/"
        },
        "id": "oKrntQtnVCgN",
        "outputId": "f6c302b2-8237-499a-8386-e2ad16224b0f"
      },
      "execution_count": 17,
      "outputs": [
        {
          "output_type": "stream",
          "name": "stdout",
          "text": [
            "The mean square error of SalePrice and predicted value is:  401.3290840190893\n",
            "coefficiend of determination: 0.05778219229362136\n"
          ]
        }
      ]
    },
    {
      "cell_type": "code",
      "source": [
        "width = 12\n",
        "height=10\n",
        "plt.figure(figsize=(width, height))\n",
        "\n",
        "\n",
        "ax1 = sns.distplot(df_house['1stFlrSF'], hist=False, color=\"r\", label=\"Actual Value\")\n",
        "sns.distplot(Yhat1, hist=False, color=\"b\", label=\"Fitted Values\" , ax=ax1)\n",
        "\n",
        "\n",
        "plt.title('Actual vs Fitted Values for Price')\n",
        "plt.xlabel('Price (in dollars)')\n",
        "plt.ylabel('Proportion of Cars')\n",
        "\n",
        "plt.show()\n",
        "plt.close()"
      ],
      "metadata": {
        "colab": {
          "base_uri": "https://localhost:8080/",
          "height": 701
        },
        "id": "-X-B6wewXOcb",
        "outputId": "0a893a09-bf1e-4285-e47f-43df1edadbd9"
      },
      "execution_count": 18,
      "outputs": [
        {
          "output_type": "stream",
          "name": "stderr",
          "text": [
            "/usr/local/lib/python3.7/dist-packages/seaborn/distributions.py:2619: FutureWarning: `distplot` is a deprecated function and will be removed in a future version. Please adapt your code to use either `displot` (a figure-level function with similar flexibility) or `kdeplot` (an axes-level function for kernel density plots).\n",
            "  warnings.warn(msg, FutureWarning)\n",
            "/usr/local/lib/python3.7/dist-packages/seaborn/distributions.py:2619: FutureWarning: `distplot` is a deprecated function and will be removed in a future version. Please adapt your code to use either `displot` (a figure-level function with similar flexibility) or `kdeplot` (an axes-level function for kernel density plots).\n",
            "  warnings.warn(msg, FutureWarning)\n"
          ]
        },
        {
          "output_type": "display_data",
          "data": {
            "text/plain": [
              "<Figure size 864x720 with 1 Axes>"
            ],
            "image/png": "[encoded data removed]"
          },
          "metadata": {
            "needs_background": "light"
          }
        }
      ]
    },
    {
      "cell_type": "markdown",
      "source": [
        "#Model 3"
      ],
      "metadata": {
        "id": "RXk5il6K72GB"
      }
    },
    {
      "cell_type": "code",
      "source": [
        "lm3=LinearRegression()"
      ],
      "metadata": {
        "id": "QRrG2k6D745N"
      },
      "execution_count": 19,
      "outputs": []
    },
    {
      "cell_type": "code",
      "source": [
        "df_house.plot.scatter('MoSold','LotArea')"
      ],
      "metadata": {
        "colab": {
          "base_uri": "https://localhost:8080/",
          "height": 297
        },
        "id": "RsxfJp6e7-aA",
        "outputId": "fb384672-bf1e-4769-e1a8-bc087987d372"
      },
      "execution_count": 20,
      "outputs": [
        {
          "output_type": "execute_result",
          "data": {
            "text/plain": [
              "<matplotlib.axes._subplots.AxesSubplot at 0x7f4816c65810>"
            ]
          },
          "metadata": {},
          "execution_count": 20
        },
        {
          "output_type": "display_data",
          "data": {
            "text/plain": [
              "<Figure size 432x288 with 1 Axes>"
            ],
            "image/png": "[encoded data removed]"
          },
          "metadata": {
            "needs_background": "light"
          }
        }
      ]
    },
    {
      "cell_type": "code",
      "source": [
        "x= df_house[['MoSold']]\n",
        "y= df_house['LotArea']"
      ],
      "metadata": {
        "id": "ZqElCf_P8btb"
      },
      "execution_count": 21,
      "outputs": []
    },
    {
      "cell_type": "code",
      "source": [
        "lm3.fit(x,y)"
      ],
      "metadata": {
        "colab": {
          "base_uri": "https://localhost:8080/"
        },
        "id": "T3NibTw48nuV",
        "outputId": "08d5564c-1230-46b9-8ad2-1435536975e7"
      },
      "execution_count": 22,
      "outputs": [
        {
          "output_type": "execute_result",
          "data": {
            "text/plain": [
              "LinearRegression()"
            ]
          },
          "metadata": {},
          "execution_count": 22
        }
      ]
    },
    {
      "cell_type": "code",
      "source": [
        "lm3.fit(df_house[['MoSold']],df_house[['LotArea']])\n",
        "Yhat1=lm3.predict(x)\n",
        "\n",
        "print(f\"intercept:{lm1.intercept_}\")\n",
        "print(f\"slope:{lm1.coef_}\")"
      ],
      "metadata": {
        "colab": {
          "base_uri": "https://localhost:8080/"
        },
        "id": "zMEGaYqW8q7N",
        "outputId": "a10a3bb6-d803-4261-db9c-57931e791eac"
      },
      "execution_count": 23,
      "outputs": [
        {
          "output_type": "stream",
          "name": "stdout",
          "text": [
            "intercept:[-2530308.24573236]\n",
            "slope:[[1375.37346794]]\n"
          ]
        }
      ]
    },
    {
      "cell_type": "markdown",
      "source": [
        "##Evaluation"
      ],
      "metadata": {
        "id": "2oMxtWxQ9Rmw"
      }
    },
    {
      "cell_type": "code",
      "source": [
        "mse= mean_squared_error(df_house['LotArea'], Yhat1)\n",
        "print('The mean square error of SalePrice and predicted value is: ', mse)\n",
        "\n",
        "r_sq=lm3.score(df_house[['MoSold']],df_house[['LotArea']])\n",
        "print(f\"coefficiend of determination: {r_sq}\")"
      ],
      "metadata": {
        "colab": {
          "base_uri": "https://localhost:8080/"
        },
        "id": "c6hvZOzi9TY7",
        "outputId": "de5181b4-a0f6-445a-ffd6-f9e18c584cf1"
      },
      "execution_count": 24,
      "outputs": [
        {
          "output_type": "stream",
          "name": "stdout",
          "text": [
            "The mean square error of SalePrice and predicted value is:  99557268.34697922\n",
            "coefficiend of determination: 1.4519966166082199e-06\n"
          ]
        }
      ]
    },
    {
      "cell_type": "code",
      "source": [
        "width = 12\n",
        "height=10\n",
        "plt.figure(figsize=(width, height))\n",
        "\n",
        "\n",
        "ax1 = sns.distplot(df_house['MoSold'], hist=False, color=\"r\", label=\"Actual Value\")\n",
        "sns.distplot(Yhat1, hist=False, color=\"b\", label=\"Fitted Values\" , ax=ax1)\n",
        "\n",
        "\n",
        "plt.title('Actual vs Fitted Values for Price')\n",
        "plt.xlabel('Price (in dollars)')\n",
        "plt.ylabel('Proportion of Cars')\n",
        "\n",
        "plt.show()\n",
        "plt.close()"
      ],
      "metadata": {
        "colab": {
          "base_uri": "https://localhost:8080/",
          "height": 701
        },
        "id": "gWEQJKV19nB9",
        "outputId": "1d5e5eea-e70f-43f8-bf5f-e77fe9f49f40"
      },
      "execution_count": 25,
      "outputs": [
        {
          "output_type": "stream",
          "name": "stderr",
          "text": [
            "/usr/local/lib/python3.7/dist-packages/seaborn/distributions.py:2619: FutureWarning: `distplot` is a deprecated function and will be removed in a future version. Please adapt your code to use either `displot` (a figure-level function with similar flexibility) or `kdeplot` (an axes-level function for kernel density plots).\n",
            "  warnings.warn(msg, FutureWarning)\n",
            "/usr/local/lib/python3.7/dist-packages/seaborn/distributions.py:2619: FutureWarning: `distplot` is a deprecated function and will be removed in a future version. Please adapt your code to use either `displot` (a figure-level function with similar flexibility) or `kdeplot` (an axes-level function for kernel density plots).\n",
            "  warnings.warn(msg, FutureWarning)\n"
          ]
        },
        {
          "output_type": "display_data",
          "data": {
            "text/plain": [
              "<Figure size 864x720 with 1 Axes>"
            ],
            "image/png": "[encoded data removed]"
          },
          "metadata": {
            "needs_background": "light"
          }
        }
      ]
    },
    {
      "cell_type": "markdown",
      "source": [
        "#Model 4"
      ],
      "metadata": {
        "id": "Y9MXcs_Q97MM"
      }
    },
    {
      "cell_type": "code",
      "source": [
        "lm4=LinearRegression()"
      ],
      "metadata": {
        "id": "0ccjS2vl99K5"
      },
      "execution_count": 26,
      "outputs": []
    },
    {
      "cell_type": "code",
      "source": [
        "x= df_house[['OverallQual']]\n",
        "y= df_house['GarageArea']"
      ],
      "metadata": {
        "id": "KIDyPCm4-LCO"
      },
      "execution_count": 92,
      "outputs": []
    },
    {
      "cell_type": "code",
      "source": [
        "lm4.fit(x,y)"
      ],
      "metadata": {
        "colab": {
          "base_uri": "https://localhost:8080/"
        },
        "id": "2ASGJIcJ-Yqn",
        "outputId": "875d1cfb-3df0-4674-abf8-d97b763649b2"
      },
      "execution_count": 93,
      "outputs": [
        {
          "output_type": "execute_result",
          "data": {
            "text/plain": [
              "LinearRegression()"
            ]
          },
          "metadata": {},
          "execution_count": 93
        }
      ]
    },
    {
      "cell_type": "code",
      "source": [
        "lm4.fit(df_house[['OverallQual']],df_house[['GarageArea']])\n",
        "Yhat1=lm4.predict(x)\n",
        "\n",
        "print(f\"intercept:{lm1.intercept_}\")\n",
        "print(f\"slope:{lm1.coef_}\")"
      ],
      "metadata": {
        "colab": {
          "base_uri": "https://localhost:8080/"
        },
        "id": "xPMtuPET-bw1",
        "outputId": "22fdee9c-3149-4415-ef0a-97485736d3e0"
      },
      "execution_count": 94,
      "outputs": [
        {
          "output_type": "stream",
          "name": "stdout",
          "text": [
            "intercept:[-2530308.24573236]\n",
            "slope:[[1375.37346794]]\n"
          ]
        }
      ]
    },
    {
      "cell_type": "markdown",
      "source": [
        "##Evaluate "
      ],
      "metadata": {
        "id": "bvLJfXv3-pR5"
      }
    },
    {
      "cell_type": "code",
      "source": [
        "mse= mean_squared_error(df_house['GarageArea'], Yhat1)\n",
        "print('The mean square error of Saleprice and predicted value is: ', mse)\n",
        "\n",
        "r_sq=lm4.score(df_house[['OverallQual']],df_house[['GarageArea']])\n",
        "print(f\"coefficiend of determination: {r_sq}\")"
      ],
      "metadata": {
        "colab": {
          "base_uri": "https://localhost:8080/"
        },
        "id": "iKb29-Xl-rbN",
        "outputId": "9b603a12-628d-4e04-89b2-c9eabb78d011"
      },
      "execution_count": 97,
      "outputs": [
        {
          "output_type": "stream",
          "name": "stdout",
          "text": [
            "The mean square error of Saleprice and predicted value is:  31251.95013641809\n",
            "coefficiend of determination: 0.3158684549059213\n"
          ]
        }
      ]
    },
    {
      "cell_type": "code",
      "source": [
        "width = 12\n",
        "height=10\n",
        "plt.figure(figsize=(width, height))\n",
        "\n",
        "\n",
        "ax1 = sns.distplot(df_house['OverallQual'], hist=False, color=\"r\", label=\"Actual Value\")\n",
        "sns.distplot(Yhat1, hist=False, color=\"b\", label=\"Fitted Values\" , ax=ax1)\n",
        "\n",
        "\n",
        "plt.title('Actual vs Fitted Values for Price')\n",
        "plt.xlabel('Price (in dollars)')\n",
        "plt.ylabel('Proportion of Cars')\n",
        "\n",
        "plt.show()\n",
        "plt.close()"
      ],
      "metadata": {
        "colab": {
          "base_uri": "https://localhost:8080/",
          "height": 701
        },
        "id": "z8KL3aiC_MaC",
        "outputId": "d0a6d4c0-86a4-40d7-de1d-6174777e02a5"
      },
      "execution_count": 98,
      "outputs": [
        {
          "output_type": "stream",
          "name": "stderr",
          "text": [
            "/usr/local/lib/python3.7/dist-packages/seaborn/distributions.py:2619: FutureWarning: `distplot` is a deprecated function and will be removed in a future version. Please adapt your code to use either `displot` (a figure-level function with similar flexibility) or `kdeplot` (an axes-level function for kernel density plots).\n",
            "  warnings.warn(msg, FutureWarning)\n",
            "/usr/local/lib/python3.7/dist-packages/seaborn/distributions.py:2619: FutureWarning: `distplot` is a deprecated function and will be removed in a future version. Please adapt your code to use either `displot` (a figure-level function with similar flexibility) or `kdeplot` (an axes-level function for kernel density plots).\n",
            "  warnings.warn(msg, FutureWarning)\n"
          ]
        },
        {
          "output_type": "display_data",
          "data": {
            "text/plain": [
              "<Figure size 864x720 with 1 Axes>"
            ],
            "image/png": "[encoded data removed]"
          },
          "metadata": {
            "needs_background": "light"
          }
        }
      ]
    },
    {
      "cell_type": "markdown",
      "source": [
        "#Model 5"
      ],
      "metadata": {
        "id": "KrLelUzN_nAZ"
      }
    },
    {
      "cell_type": "code",
      "source": [
        "lm5=LinearRegression()"
      ],
      "metadata": {
        "id": "BFq7wRoE_oYR"
      },
      "execution_count": 33,
      "outputs": []
    },
    {
      "cell_type": "code",
      "source": [
        "x= df_house[['1stFlrSF']]\n",
        "y= df_house['2ndFlrSF']"
      ],
      "metadata": {
        "id": "PtOuAAv5_2TQ"
      },
      "execution_count": 87,
      "outputs": []
    },
    {
      "cell_type": "code",
      "source": [
        "lm5.fit(x,y)"
      ],
      "metadata": {
        "colab": {
          "base_uri": "https://localhost:8080/"
        },
        "id": "R2nEUwh-ACHw",
        "outputId": "4013ee74-e63c-453a-e1b5-aa5f1c598a14"
      },
      "execution_count": 88,
      "outputs": [
        {
          "output_type": "execute_result",
          "data": {
            "text/plain": [
              "LinearRegression()"
            ]
          },
          "metadata": {},
          "execution_count": 88
        }
      ]
    },
    {
      "cell_type": "code",
      "source": [
        "lm5.fit(df_house[['1stFlrSF']],df_house[['2ndFlrSF']])\n",
        "Yhat1=lm5.predict(x)\n",
        "\n",
        "print(f\"intercept:{lm1.intercept_}\")\n",
        "print(f\"slope:{lm1.coef_}\")"
      ],
      "metadata": {
        "colab": {
          "base_uri": "https://localhost:8080/"
        },
        "id": "HXNvO9wFAFTX",
        "outputId": "e9fd9e23-423c-4e48-9eef-dbca274163ff"
      },
      "execution_count": 89,
      "outputs": [
        {
          "output_type": "stream",
          "name": "stdout",
          "text": [
            "intercept:[-2530308.24573236]\n",
            "slope:[[1375.37346794]]\n"
          ]
        }
      ]
    },
    {
      "cell_type": "markdown",
      "source": [
        "##Evaluate "
      ],
      "metadata": {
        "id": "39d8df9OAPeZ"
      }
    },
    {
      "cell_type": "code",
      "source": [
        "mse= mean_squared_error(df_house['2ndFlrSF'], Yhat1)\n",
        "print('The mean square error of Saleprice and predicted value is: ', mse)\n",
        "\n",
        "r_sq=lm5.score(df_house[['1stFlrSF']],df_house[['2ndFlrSF']])\n",
        "print(f\"coefficiend of determination: {r_sq}\")"
      ],
      "metadata": {
        "colab": {
          "base_uri": "https://localhost:8080/"
        },
        "id": "N6LWNq_KARmn",
        "outputId": "cc06bd38-ffba-43a2-ad28-e1d5dc27228f"
      },
      "execution_count": 90,
      "outputs": [
        {
          "output_type": "stream",
          "name": "stdout",
          "text": [
            "The mean square error of Saleprice and predicted value is:  182606.5998471715\n",
            "coefficiend of determination: 0.04106547467482524\n"
          ]
        }
      ]
    },
    {
      "cell_type": "code",
      "source": [
        "width = 12\n",
        "height=10\n",
        "plt.figure(figsize=(width, height))\n",
        "\n",
        "\n",
        "ax1 = sns.distplot(df_house['1stFlrSF'], hist=False, color=\"r\", label=\"Actual Value\")\n",
        "sns.distplot(Yhat1, hist=False, color=\"b\", label=\"Fitted Values\" , ax=ax1)\n",
        "\n",
        "\n",
        "plt.title('Actual vs Fitted Values for Price')\n",
        "plt.xlabel('Price (in dollars)')\n",
        "plt.ylabel('Proportion of Cars')\n",
        "\n",
        "plt.show()\n",
        "plt.close()"
      ],
      "metadata": {
        "colab": {
          "base_uri": "https://localhost:8080/",
          "height": 696
        },
        "id": "8-q4WUKyAfIF",
        "outputId": "25018e66-2ff3-41a4-acd1-33c7e5650e93"
      },
      "execution_count": 91,
      "outputs": [
        {
          "output_type": "stream",
          "name": "stderr",
          "text": [
            "/usr/local/lib/python3.7/dist-packages/seaborn/distributions.py:2619: FutureWarning: `distplot` is a deprecated function and will be removed in a future version. Please adapt your code to use either `displot` (a figure-level function with similar flexibility) or `kdeplot` (an axes-level function for kernel density plots).\n",
            "  warnings.warn(msg, FutureWarning)\n",
            "/usr/local/lib/python3.7/dist-packages/seaborn/distributions.py:2619: FutureWarning: `distplot` is a deprecated function and will be removed in a future version. Please adapt your code to use either `displot` (a figure-level function with similar flexibility) or `kdeplot` (an axes-level function for kernel density plots).\n",
            "  warnings.warn(msg, FutureWarning)\n"
          ]
        },
        {
          "output_type": "display_data",
          "data": {
            "text/plain": [
              "<Figure size 864x720 with 1 Axes>"
            ],
            "image/png": "[encoded data removed]"
          },
          "metadata": {
            "needs_background": "light"
          }
        }
      ]
    },
    {
      "cell_type": "markdown",
      "source": [
        "#Model 6"
      ],
      "metadata": {
        "id": "lBCHQxx1Mcsx"
      }
    },
    {
      "cell_type": "code",
      "source": [
        "lm6= LinearRegression()"
      ],
      "metadata": {
        "id": "Rcuz_WthMeSP"
      },
      "execution_count": 40,
      "outputs": []
    },
    {
      "cell_type": "code",
      "source": [
        "x= df_house[['MoSold']]\n",
        "y= df_house['GarageArea']"
      ],
      "metadata": {
        "id": "R60i8jfEMgla"
      },
      "execution_count": 67,
      "outputs": []
    },
    {
      "cell_type": "code",
      "source": [
        "lm6.fit(x,y)"
      ],
      "metadata": {
        "colab": {
          "base_uri": "https://localhost:8080/"
        },
        "id": "hkITsqGMa907",
        "outputId": "b16f58da-3629-4dc6-e75b-02fc3ec6941e"
      },
      "execution_count": 42,
      "outputs": [
        {
          "output_type": "execute_result",
          "data": {
            "text/plain": [
              "LinearRegression()"
            ]
          },
          "metadata": {},
          "execution_count": 42
        }
      ]
    },
    {
      "cell_type": "code",
      "source": [
        "lm6.fit(df_house[['MoSold']],df_house[['GarageArea']])\n",
        "Yhat1=lm6.predict(x)\n",
        "\n",
        "print(f\"intercept:{lm1.intercept_}\")\n",
        "print(f\"slope:{lm1.coef_}\")"
      ],
      "metadata": {
        "colab": {
          "base_uri": "https://localhost:8080/"
        },
        "id": "lqyRIFSCdIFz",
        "outputId": "12e96fd4-9ae8-45bb-e096-d84ea568a3a2"
      },
      "execution_count": 77,
      "outputs": [
        {
          "output_type": "stream",
          "name": "stdout",
          "text": [
            "intercept:[-2530308.24573236]\n",
            "slope:[[1375.37346794]]\n"
          ]
        }
      ]
    },
    {
      "cell_type": "markdown",
      "source": [
        "##Evaluate "
      ],
      "metadata": {
        "id": "fDi0uAK1g26T"
      }
    },
    {
      "cell_type": "code",
      "source": [
        "mse= mean_squared_error(df_house['GarageArea'], Yhat1)\n",
        "print('The mean square error of Saleprice and predicted value is: ', mse)\n",
        "\n",
        "r_sq=lm6.score(df_house[['MoSold']],df_house[['GarageArea']])\n",
        "print(f\"coefficiend of determination: {r_sq}\")"
      ],
      "metadata": {
        "colab": {
          "base_uri": "https://localhost:8080/"
        },
        "id": "74wmv-b3g4vM",
        "outputId": "7da4b27a-e0ba-49ab-cfea-6854be21881c"
      },
      "execution_count": 79,
      "outputs": [
        {
          "output_type": "stream",
          "name": "stdout",
          "text": [
            "The mean square error of Saleprice and predicted value is:  64899.88553442727\n",
            "coefficiend of determination: 0.0007825334765676484\n"
          ]
        }
      ]
    },
    {
      "cell_type": "code",
      "source": [
        "width = 12\n",
        "height=10\n",
        "plt.figure(figsize=(width, height))\n",
        "\n",
        "\n",
        "ax1 = sns.distplot(df_house['MoSold'], hist=False, color=\"r\", label=\"Actual Value\")\n",
        "sns.distplot(Yhat1, hist=False, color=\"b\", label=\"Fitted Values\" , ax=ax1)\n",
        "\n",
        "\n",
        "plt.title('Actual vs Fitted Values for Price')\n",
        "plt.xlabel('Price (in dollars)')\n",
        "plt.ylabel('Proportion of Cars')\n",
        "\n",
        "plt.show()\n",
        "plt.close()"
      ],
      "metadata": {
        "colab": {
          "base_uri": "https://localhost:8080/",
          "height": 712
        },
        "id": "Gyx5CwOFhcs6",
        "outputId": "0eb341e8-2db3-473e-b686-3c3459716d05"
      },
      "execution_count": 81,
      "outputs": [
        {
          "output_type": "stream",
          "name": "stderr",
          "text": [
            "/usr/local/lib/python3.7/dist-packages/seaborn/distributions.py:2619: FutureWarning: `distplot` is a deprecated function and will be removed in a future version. Please adapt your code to use either `displot` (a figure-level function with similar flexibility) or `kdeplot` (an axes-level function for kernel density plots).\n",
            "  warnings.warn(msg, FutureWarning)\n",
            "/usr/local/lib/python3.7/dist-packages/seaborn/distributions.py:2619: FutureWarning: `distplot` is a deprecated function and will be removed in a future version. Please adapt your code to use either `displot` (a figure-level function with similar flexibility) or `kdeplot` (an axes-level function for kernel density plots).\n",
            "  warnings.warn(msg, FutureWarning)\n"
          ]
        },
        {
          "output_type": "display_data",
          "data": {
            "text/plain": [
              "<Figure size 864x720 with 1 Axes>"
            ],
            "image/png": "[encoded data removed]"
          },
          "metadata": {
            "needs_background": "light"
          }
        }
      ]
    },
    {
      "cell_type": "markdown",
      "source": [
        "#Model 7"
      ],
      "metadata": {
        "id": "jtKIaFswiVVj"
      }
    },
    {
      "cell_type": "code",
      "source": [
        "lm7= LinearRegression()"
      ],
      "metadata": {
        "id": "uzSFKOwGiXxt"
      },
      "execution_count": 82,
      "outputs": []
    },
    {
      "cell_type": "code",
      "source": [
        "x= df_house[['BsmtFinSF1']]\n",
        "y= df_house['BsmtFinSF2']"
      ],
      "metadata": {
        "id": "g6INH8LBiZSz"
      },
      "execution_count": 83,
      "outputs": []
    },
    {
      "cell_type": "code",
      "source": [
        "lm7.fit(x,y)"
      ],
      "metadata": {
        "colab": {
          "base_uri": "https://localhost:8080/"
        },
        "id": "lxpkCvJPi1mo",
        "outputId": "ab635452-185f-4b48-ddde-4536f19e019c"
      },
      "execution_count": 84,
      "outputs": [
        {
          "output_type": "execute_result",
          "data": {
            "text/plain": [
              "LinearRegression()"
            ]
          },
          "metadata": {},
          "execution_count": 84
        }
      ]
    },
    {
      "cell_type": "code",
      "source": [
        "lm7.fit(df_house[['BsmtFinSF1']],df_house[['BsmtFinSF2']])\n",
        "Yhat1=lm7.predict(x)\n",
        "\n",
        "print(f\"intercept:{lm1.intercept_}\")\n",
        "print(f\"slope:{lm1.coef_}\")"
      ],
      "metadata": {
        "colab": {
          "base_uri": "https://localhost:8080/"
        },
        "id": "0kOcL-6Ui5HF",
        "outputId": "75a15f50-58ea-4a99-d5c2-7cc1a533f291"
      },
      "execution_count": 85,
      "outputs": [
        {
          "output_type": "stream",
          "name": "stdout",
          "text": [
            "intercept:[-2530308.24573236]\n",
            "slope:[[1375.37346794]]\n"
          ]
        }
      ]
    },
    {
      "cell_type": "markdown",
      "source": [
        "##Evaluate "
      ],
      "metadata": {
        "id": "P3v7g-pQjOWW"
      }
    },
    {
      "cell_type": "code",
      "source": [
        "mse= mean_squared_error(df_house['BsmtFinSF2'], Yhat1)\n",
        "print('The mean square error of Saleprice and predicted value is: ', mse)\n",
        "\n",
        "r_sq=lm7.score(df_house[['BsmtFinSF1']],df_house[['BsmtFinSF2']])\n",
        "print(f\"coefficiend of determination: {r_sq}\")"
      ],
      "metadata": {
        "colab": {
          "base_uri": "https://localhost:8080/"
        },
        "id": "Ar1eub45jKuP",
        "outputId": "f1aac5b5-d4d1-4d1b-95b6-abd029d1b41d"
      },
      "execution_count": 86,
      "outputs": [
        {
          "output_type": "stream",
          "name": "stdout",
          "text": [
            "The mean square error of Saleprice and predicted value is:  25940.762306526125\n",
            "coefficiend of determination: 0.0025117537874861373\n"
          ]
        }
      ]
    },
    {
      "cell_type": "code",
      "source": [
        "width = 12\n",
        "height=10\n",
        "plt.figure(figsize=(width, height))\n",
        "\n",
        "\n",
        "ax1 = sns.distplot(df_house['BsmtFinSF1'], hist=False, color=\"r\", label=\"Actual Value\")\n",
        "sns.distplot(Yhat1, hist=False, color=\"b\", label=\"Fitted Values\" , ax=ax1)\n",
        "\n",
        "\n",
        "plt.title('Actual vs Fitted Values for Price')\n",
        "plt.xlabel('Price (in dollars)')\n",
        "plt.ylabel('Proportion of Cars')\n",
        "\n",
        "plt.show()\n",
        "plt.close()"
      ],
      "metadata": {
        "colab": {
          "base_uri": "https://localhost:8080/",
          "height": 691
        },
        "id": "nnFqgTaFj_nD",
        "outputId": "981e4e5b-1d78-429b-ac93-67fd3c3b0772"
      },
      "execution_count": 99,
      "outputs": [
        {
          "output_type": "stream",
          "name": "stderr",
          "text": [
            "/usr/local/lib/python3.7/dist-packages/seaborn/distributions.py:2619: FutureWarning: `distplot` is a deprecated function and will be removed in a future version. Please adapt your code to use either `displot` (a figure-level function with similar flexibility) or `kdeplot` (an axes-level function for kernel density plots).\n",
            "  warnings.warn(msg, FutureWarning)\n",
            "/usr/local/lib/python3.7/dist-packages/seaborn/distributions.py:2619: FutureWarning: `distplot` is a deprecated function and will be removed in a future version. Please adapt your code to use either `displot` (a figure-level function with similar flexibility) or `kdeplot` (an axes-level function for kernel density plots).\n",
            "  warnings.warn(msg, FutureWarning)\n"
          ]
        },
        {
          "output_type": "display_data",
          "data": {
            "text/plain": [
              "<Figure size 864x720 with 1 Axes>"
            ],
            "image/png": "[encoded data removed]"
          },
          "metadata": {
            "needs_background": "light"
          }
        }
      ]
    }
  ]
}